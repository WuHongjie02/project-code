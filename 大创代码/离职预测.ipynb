{
 "cells": [
  {
   "cell_type": "markdown",
   "id": "5a353906",
   "metadata": {},
   "source": [
    "# 数据探索"
   ]
  },
  {
   "cell_type": "markdown",
   "id": "744575cc",
   "metadata": {},
   "source": [
    "## 数据查看"
   ]
  },
  {
   "cell_type": "markdown",
   "id": "7854a06c",
   "metadata": {},
   "source": [
    "### 工具导入"
   ]
  },
  {
   "cell_type": "code",
   "execution_count": 34,
   "id": "a4374caa",
   "metadata": {
    "ExecuteTime": {
     "end_time": "2023-03-28T07:50:07.466574Z",
     "start_time": "2023-03-28T07:50:07.438575Z"
    }
   },
   "outputs": [],
   "source": [
    "import pandas as pd\n",
    "import numpy as np \n",
    "import matplotlib.pyplot as plt\n",
    "import seaborn as sns\n",
    "import tqdm as tqdm\n",
    "import time\n",
    "from datetime import datetime,timedelta\n",
    "\n",
    "\n",
    "plt.rcParams['font.sans-serif'] = ['SimHei']   #解决中文显示问题\n",
    "plt.rcParams['axes.unicode_minus'] = False    # 解决中文显示问题"
   ]
  },
  {
   "cell_type": "markdown",
   "id": "931348f3",
   "metadata": {},
   "source": [
    "### 数据读取"
   ]
  },
  {
   "cell_type": "code",
   "execution_count": 2,
   "id": "f3c0b5bf",
   "metadata": {
    "ExecuteTime": {
     "end_time": "2023-03-27T07:48:57.921923Z",
     "start_time": "2023-03-27T07:48:34.479104Z"
    }
   },
   "outputs": [],
   "source": [
    "data=pd.read_csv('lizhiyuce.csv')"
   ]
  },
  {
   "cell_type": "markdown",
   "id": "ce086d2a",
   "metadata": {
    "heading_collapsed": true
   },
   "source": [
    "### 数据样例"
   ]
  },
  {
   "cell_type": "code",
   "execution_count": 18,
   "id": "c9af3ca7",
   "metadata": {
    "ExecuteTime": {
     "end_time": "2023-03-27T03:02:29.252719Z",
     "start_time": "2023-03-27T03:02:29.208314Z"
    },
    "hidden": true
   },
   "outputs": [
    {
     "data": {
      "text/html": [
       "<div>\n",
       "<style scoped>\n",
       "    .dataframe tbody tr th:only-of-type {\n",
       "        vertical-align: middle;\n",
       "    }\n",
       "\n",
       "    .dataframe tbody tr th {\n",
       "        vertical-align: top;\n",
       "    }\n",
       "\n",
       "    .dataframe thead th {\n",
       "        text-align: right;\n",
       "    }\n",
       "</style>\n",
       "<table border=\"1\" class=\"dataframe\">\n",
       "  <thead>\n",
       "    <tr style=\"text-align: right;\">\n",
       "      <th></th>\n",
       "      <th>Unnamed: 0</th>\n",
       "      <th>工号</th>\n",
       "      <th>员工类型</th>\n",
       "      <th>离职类型</th>\n",
       "      <th>申请时间</th>\n",
       "      <th>确认时间</th>\n",
       "      <th>数据日期</th>\n",
       "      <th>消息发送</th>\n",
       "      <th>消息接收</th>\n",
       "      <th>在线文档被查阅总数</th>\n",
       "      <th>...</th>\n",
       "      <th>最新离职生效时间</th>\n",
       "      <th>最新全转专日期</th>\n",
       "      <th>最新异动日期</th>\n",
       "      <th>最近一次入职时间</th>\n",
       "      <th>当周考勤打卡次数</th>\n",
       "      <th>当周应出勤天数</th>\n",
       "      <th>当周外勤打卡次数</th>\n",
       "      <th>人员类型</th>\n",
       "      <th>离职时间与当前时间差值</th>\n",
       "      <th>是否离职</th>\n",
       "    </tr>\n",
       "  </thead>\n",
       "  <tbody>\n",
       "    <tr>\n",
       "      <th>0</th>\n",
       "      <td>0</td>\n",
       "      <td>ad621a23bd5c2474c1fe0909a8a38bb5fcccd382e855f9...</td>\n",
       "      <td>全职员工</td>\n",
       "      <td>被动离职</td>\n",
       "      <td>NaN</td>\n",
       "      <td>2021-12-31</td>\n",
       "      <td>2021-01-03</td>\n",
       "      <td>114.0</td>\n",
       "      <td>166.20</td>\n",
       "      <td>0.0</td>\n",
       "      <td>...</td>\n",
       "      <td>2021-12-31</td>\n",
       "      <td>NaN</td>\n",
       "      <td>2021-09-01</td>\n",
       "      <td>2019-01-28</td>\n",
       "      <td>0.0</td>\n",
       "      <td>1.0</td>\n",
       "      <td>0.0</td>\n",
       "      <td>201</td>\n",
       "      <td>-1000000</td>\n",
       "      <td>2</td>\n",
       "    </tr>\n",
       "    <tr>\n",
       "      <th>1</th>\n",
       "      <td>1</td>\n",
       "      <td>4250041a2c9a323864ef0d88195fa1d5a71aa837f78f7f...</td>\n",
       "      <td>全职教师</td>\n",
       "      <td>主动离职</td>\n",
       "      <td>2021-09-01</td>\n",
       "      <td>2021-10-01</td>\n",
       "      <td>2021-04-25</td>\n",
       "      <td>214.0</td>\n",
       "      <td>227.10</td>\n",
       "      <td>2.0</td>\n",
       "      <td>...</td>\n",
       "      <td>2021-10-01</td>\n",
       "      <td>NaN</td>\n",
       "      <td>2020-10-01</td>\n",
       "      <td>2004-05-01</td>\n",
       "      <td>0.0</td>\n",
       "      <td>2.0</td>\n",
       "      <td>0.0</td>\n",
       "      <td>112</td>\n",
       "      <td>129</td>\n",
       "      <td>0</td>\n",
       "    </tr>\n",
       "    <tr>\n",
       "      <th>2</th>\n",
       "      <td>2</td>\n",
       "      <td>4250041a2c9a323864ef0d88195fa1d5a71aa837f78f7f...</td>\n",
       "      <td>全职教师</td>\n",
       "      <td>主动离职</td>\n",
       "      <td>2021-09-01</td>\n",
       "      <td>2021-10-01</td>\n",
       "      <td>2021-06-27</td>\n",
       "      <td>71.0</td>\n",
       "      <td>107.50</td>\n",
       "      <td>0.0</td>\n",
       "      <td>...</td>\n",
       "      <td>2021-10-01</td>\n",
       "      <td>NaN</td>\n",
       "      <td>2020-10-01</td>\n",
       "      <td>2004-05-01</td>\n",
       "      <td>6.0</td>\n",
       "      <td>5.0</td>\n",
       "      <td>0.0</td>\n",
       "      <td>112</td>\n",
       "      <td>66</td>\n",
       "      <td>0</td>\n",
       "    </tr>\n",
       "    <tr>\n",
       "      <th>3</th>\n",
       "      <td>3</td>\n",
       "      <td>4250041a2c9a323864ef0d88195fa1d5a71aa837f78f7f...</td>\n",
       "      <td>全职教师</td>\n",
       "      <td>主动离职</td>\n",
       "      <td>2021-09-01</td>\n",
       "      <td>2021-10-01</td>\n",
       "      <td>2021-08-29</td>\n",
       "      <td>56.0</td>\n",
       "      <td>78.00</td>\n",
       "      <td>0.0</td>\n",
       "      <td>...</td>\n",
       "      <td>2021-10-01</td>\n",
       "      <td></td>\n",
       "      <td>2020-10-01</td>\n",
       "      <td>2004-05-01</td>\n",
       "      <td>0.0</td>\n",
       "      <td>5.0</td>\n",
       "      <td>0.0</td>\n",
       "      <td>112</td>\n",
       "      <td>3</td>\n",
       "      <td>3</td>\n",
       "    </tr>\n",
       "    <tr>\n",
       "      <th>4</th>\n",
       "      <td>4</td>\n",
       "      <td>29a4ee71e3c86f7f4c1e73313529a5a01b378e9a088948...</td>\n",
       "      <td>全职员工</td>\n",
       "      <td>NaN</td>\n",
       "      <td>NaN</td>\n",
       "      <td>NaN</td>\n",
       "      <td>2022-02-20</td>\n",
       "      <td>37.0</td>\n",
       "      <td>62.16</td>\n",
       "      <td>5.0</td>\n",
       "      <td>...</td>\n",
       "      <td>NaN</td>\n",
       "      <td>NaN</td>\n",
       "      <td>2022-01-01</td>\n",
       "      <td>2004-07-01</td>\n",
       "      <td>0.0</td>\n",
       "      <td>0.0</td>\n",
       "      <td>0.0</td>\n",
       "      <td>0</td>\n",
       "      <td>9999</td>\n",
       "      <td>0</td>\n",
       "    </tr>\n",
       "  </tbody>\n",
       "</table>\n",
       "<p>5 rows × 65 columns</p>\n",
       "</div>"
      ],
      "text/plain": [
       "   Unnamed: 0                                                 工号  员工类型  离职类型  \\\n",
       "0           0  ad621a23bd5c2474c1fe0909a8a38bb5fcccd382e855f9...  全职员工  被动离职   \n",
       "1           1  4250041a2c9a323864ef0d88195fa1d5a71aa837f78f7f...  全职教师  主动离职   \n",
       "2           2  4250041a2c9a323864ef0d88195fa1d5a71aa837f78f7f...  全职教师  主动离职   \n",
       "3           3  4250041a2c9a323864ef0d88195fa1d5a71aa837f78f7f...  全职教师  主动离职   \n",
       "4           4  29a4ee71e3c86f7f4c1e73313529a5a01b378e9a088948...  全职员工   NaN   \n",
       "\n",
       "         申请时间        确认时间        数据日期   消息发送    消息接收  在线文档被查阅总数  ...  \\\n",
       "0         NaN  2021-12-31  2021-01-03  114.0  166.20        0.0  ...   \n",
       "1  2021-09-01  2021-10-01  2021-04-25  214.0  227.10        2.0  ...   \n",
       "2  2021-09-01  2021-10-01  2021-06-27   71.0  107.50        0.0  ...   \n",
       "3  2021-09-01  2021-10-01  2021-08-29   56.0   78.00        0.0  ...   \n",
       "4         NaN         NaN  2022-02-20   37.0   62.16        5.0  ...   \n",
       "\n",
       "     最新离职生效时间  最新全转专日期      最新异动日期    最近一次入职时间  当周考勤打卡次数  当周应出勤天数  当周外勤打卡次数  \\\n",
       "0  2021-12-31      NaN  2021-09-01  2019-01-28       0.0      1.0       0.0   \n",
       "1  2021-10-01      NaN  2020-10-01  2004-05-01       0.0      2.0       0.0   \n",
       "2  2021-10-01      NaN  2020-10-01  2004-05-01       6.0      5.0       0.0   \n",
       "3  2021-10-01           2020-10-01  2004-05-01       0.0      5.0       0.0   \n",
       "4         NaN      NaN  2022-01-01  2004-07-01       0.0      0.0       0.0   \n",
       "\n",
       "   人员类型  离职时间与当前时间差值  是否离职  \n",
       "0   201     -1000000     2  \n",
       "1   112          129     0  \n",
       "2   112           66     0  \n",
       "3   112            3     3  \n",
       "4     0         9999     0  \n",
       "\n",
       "[5 rows x 65 columns]"
      ]
     },
     "execution_count": 18,
     "metadata": {},
     "output_type": "execute_result"
    }
   ],
   "source": [
    "data.head()"
   ]
  },
  {
   "cell_type": "markdown",
   "id": "bcebb8b4",
   "metadata": {},
   "source": [
    "### 数据基本信息"
   ]
  },
  {
   "cell_type": "code",
   "execution_count": 19,
   "id": "1e9d94e0",
   "metadata": {
    "ExecuteTime": {
     "end_time": "2023-03-27T03:02:29.283050Z",
     "start_time": "2023-03-27T03:02:29.254721Z"
    }
   },
   "outputs": [
    {
     "name": "stdout",
     "output_type": "stream",
     "text": [
      "<class 'pandas.core.frame.DataFrame'>\n",
      "RangeIndex: 4547632 entries, 0 to 4547631\n",
      "Data columns (total 65 columns):\n",
      " #   Column       Dtype  \n",
      "---  ------       -----  \n",
      " 0   Unnamed: 0   int64  \n",
      " 1   工号           object \n",
      " 2   员工类型         object \n",
      " 3   离职类型         object \n",
      " 4   申请时间         object \n",
      " 5   确认时间         object \n",
      " 6   数据日期         object \n",
      " 7   消息发送         float64\n",
      " 8   消息接收         float64\n",
      " 9   在线文档被查阅总数    float64\n",
      " 10  在线文档被编辑总数    float64\n",
      " 11  在线文档被评论总数    float64\n",
      " 12  在线文档被收藏总数    float64\n",
      " 13  周报被阅读总数      float64\n",
      " 14  周报被点赞总数      float64\n",
      " 15  周报被评论总数      float64\n",
      " 16  在线文档查阅总数     float64\n",
      " 17  在线文档编辑总数     float64\n",
      " 18  在线文档评论总数     float64\n",
      " 19  在线文档收藏总数     float64\n",
      " 20  周报阅读总数       float64\n",
      " 21  周报点赞总数       float64\n",
      " 22  周报评论总数       float64\n",
      " 23  知音楼日均在线      float64\n",
      " 24  请假总天数        float64\n",
      " 25  周报字数         float64\n",
      " 26  音视频会议参与总时长   float64\n",
      " 27  音视频会议参与总数    float64\n",
      " 28  日程参与总数       float64\n",
      " 29  日程参与总时长      float64\n",
      " 30  线文档主被动评论人数   float64\n",
      " 31  线文档主被动编辑人数   float64\n",
      " 32  线文档主被动阅读人数   float64\n",
      " 33  文档评论中心度      float64\n",
      " 34  消息中心度        float64\n",
      " 35  文档编辑中心度      float64\n",
      " 36  文档阅读中心度      float64\n",
      " 37  消息沟通人数       float64\n",
      " 38  创建文档数        float64\n",
      " 39  文档沟通人数       float64\n",
      " 40  日程沟通人数       float64\n",
      " 41  会议沟通人数       float64\n",
      " 42  周报沟通人数       float64\n",
      " 43  语音电话时长m      float64\n",
      " 44  语音电话沟通人数     float64\n",
      " 45  性别           object \n",
      " 46  婚姻状况         object \n",
      " 47  最高学历学历       object \n",
      " 48  工龄(年)        float64\n",
      " 49  标准职级描述       float64\n",
      " 50  职务族描述        object \n",
      " 51  当前在岗时长(月)    float64\n",
      " 52  司龄(月)        object \n",
      " 53  最近一次绩效       object \n",
      " 54  最新离职申请提交时间   object \n",
      " 55  最新离职生效时间     object \n",
      " 56  最新全转专日期      object \n",
      " 57  最新异动日期       object \n",
      " 58  最近一次入职时间     object \n",
      " 59  当周考勤打卡次数     float64\n",
      " 60  当周应出勤天数      float64\n",
      " 61  当周外勤打卡次数     float64\n",
      " 62  人员类型         int64  \n",
      " 63  离职时间与当前时间差值  int64  \n",
      " 64  是否离职         int64  \n",
      "dtypes: float64(44), int64(4), object(17)\n",
      "memory usage: 2.2+ GB\n"
     ]
    }
   ],
   "source": [
    "data.info()"
   ]
  },
  {
   "cell_type": "markdown",
   "id": "9e559aae",
   "metadata": {},
   "source": [
    "## 数据压缩"
   ]
  },
  {
   "cell_type": "code",
   "execution_count": 20,
   "id": "91523700",
   "metadata": {
    "ExecuteTime": {
     "end_time": "2023-03-27T03:02:29.298041Z",
     "start_time": "2023-03-27T03:02:29.285049Z"
    }
   },
   "outputs": [],
   "source": [
    "def check_smallest_dtype(df,cat_col=[]):\n",
    "    numerics=['int16','int32','int64','float16','float32','float64']\n",
    "    smallest_dtype={}\n",
    "    for col in df.columns:\n",
    "        col_type=df[col].dtypes\n",
    "        if col_type in numerics:\n",
    "            c_min=df[col].min()\n",
    "            c_max=df[col].max()\n",
    "            if str(col_type)[:3]=='int':\n",
    "                if c_min>np.iinfo(np.int8).min and c_max<np.iinfo(np.int8).max:\n",
    "                    smdp='int8'\n",
    "                elif c_min>np.iinfo(np.int16).min and c_max<np.iinfo(np.int16).max:\n",
    "                    smdp='int16'\n",
    "                elif c_min>np.iinfo(np.int32).min and c_max<np.iinfo(np.int32).max:\n",
    "                    smdp='int32'\n",
    "                elif c_min>np.iinfo(np.int64).min and c_max<np.iinfo(np.int64).max:\n",
    "                    smdp='int64'\n",
    "            if str(col_type)[:5]=='float':\n",
    "                if c_min>np.finfo(np.float16).min and c_max<np.finfo(np.float16).max:\n",
    "                    smdp='float16'\n",
    "                elif c_min>np.finfo(np.float32).min and c_max<np.finfo(np.float32).max:\n",
    "                    smdp='float32'\n",
    "                else:\n",
    "                    smdp='float64'\n",
    "        else:\n",
    "            if col in cat_col:\n",
    "                smdp='category'\n",
    "            else:\n",
    "                smdp=col_type\n",
    "        smallest_dtype[col]=smdp\n",
    "    return smallest_dtype"
   ]
  },
  {
   "cell_type": "code",
   "execution_count": 21,
   "id": "dbf91023",
   "metadata": {
    "ExecuteTime": {
     "end_time": "2023-03-27T03:02:30.062996Z",
     "start_time": "2023-03-27T03:02:29.300045Z"
    }
   },
   "outputs": [],
   "source": [
    "ct_data=check_smallest_dtype(data)\n",
    "#ct_data"
   ]
  },
  {
   "cell_type": "markdown",
   "id": "685514a7",
   "metadata": {},
   "source": [
    "### 数据重新读取"
   ]
  },
  {
   "cell_type": "code",
   "execution_count": 49,
   "id": "50f411e8",
   "metadata": {
    "ExecuteTime": {
     "end_time": "2023-03-27T03:50:54.749837Z",
     "start_time": "2023-03-27T03:50:28.762776Z"
    }
   },
   "outputs": [],
   "source": [
    "# data=pd.read_csv('lizhiyuce.csv',dtype=ct_data)\n",
    "data=pd.read_csv('lizhiyuce.csv')\n",
    "#data.info()"
   ]
  },
  {
   "cell_type": "markdown",
   "id": "7cdac003",
   "metadata": {},
   "source": [
    "## 判定是否离职"
   ]
  },
  {
   "cell_type": "code",
   "execution_count": 9,
   "id": "150f96f5",
   "metadata": {
    "ExecuteTime": {
     "end_time": "2023-03-27T02:24:15.177320Z",
     "start_time": "2023-03-27T02:16:46.665089Z"
    }
   },
   "outputs": [],
   "source": [
    "#定义人员类型\n",
    "def people_type(x):\n",
    "    if pd.isna(x['离职类型']) and pd.isna(x['申请时间']) and pd.isna(x['确认时间']):#判断是否为空值\n",
    "        return '000'\n",
    "    elif pd.isna(x['离职类型']) and pd.isna(x['申请时间']) and pd.notna(x['确认时间']):\n",
    "        return '001'\n",
    "    elif pd.isna(x['离职类型']) and pd.notna(x['申请时间']) and pd.isna(x['确认时间']):\n",
    "        return '010'\n",
    "    elif pd.isna(x['离职类型']) and pd.notna(x['申请时间']) and pd.notna(x['确认时间']):\n",
    "        return '011'\n",
    "    elif x['离职类型'] == '主动离职' and pd.isna(x['申请时间']) and pd.isna(x['确认时间']):\n",
    "        return '100'\n",
    "    elif x['离职类型'] == '主动离职' and pd.notna(x['申请时间']) and pd.isna(x['确认时间']):\n",
    "        return '110'\n",
    "    elif x['离职类型'] == '主动离职' and pd.isna(x['申请时间']) and pd.notna(x['确认时间']):\n",
    "        return '101'\n",
    "    elif x['离职类型'] == '主动离职' and pd.notna(x['申请时间']) and pd.notna(x['确认时间']):\n",
    "        if x['申请时间'] > x['确认时间']:\n",
    "            return '121'\n",
    "        else:\n",
    "            return '112'\n",
    "    elif x['离职类型'] == '被动离职' and pd.isna(x['申请时间']) and pd.isna(x['确认时间']):\n",
    "        return '200'\n",
    "    elif x['离职类型'] == '被动离职' and pd.notna(x['申请时间']) and pd.isna(x['确认时间']):\n",
    "        return '210'\n",
    "    elif x['离职类型'] == '被动离职' and pd.isna(x['申请时间']) and pd.notna(x['确认时间']):\n",
    "        return '201'\n",
    "    elif x['离职类型'] == '被动离职' and pd.notna(x['申请时间']) and pd.notna(x['确认时间']):\n",
    "        return '211'\n",
    "    else:\n",
    "        return '待定'\n",
    "\n",
    "# 填补申请时间\n",
    "def fill_date(x):\n",
    "    if x['人员类型'] in ['000','001','112','211','201','010','011','121']:\n",
    "        return x['申请时间']\n",
    "    elif x['人员类型'] in ['101','201']:\n",
    "        return str((pd.to_datetime(x['确认时间']))-datetime.timedelta(days=30))[:10]\n",
    "\n",
    "# 计算差值\n",
    "def diff_date(x):\n",
    "    if x['人员类型'] in ['000', '011', '001', '010']:# 认为在职\n",
    "        return 9999\n",
    "    elif x['人员类型'] in ['112', '211']:  #\n",
    "        t = (pd.to_datetime(x['申请时间']) - pd.to_datetime(x['数据日期'])).days\n",
    "        return t\n",
    "    else:  # 201,121\n",
    "        return -1000000\n",
    "\n",
    "# 定义是否离职\n",
    "def is_not_leave(x,not_day = 30+30,is_day = 30,dis_day = 0):\n",
    "    if x>not_day:\n",
    "        return 0 # 否\n",
    "    elif x>is_day:\n",
    "        return 1 #是\n",
    "    elif x<=dis_day:\n",
    "        return 2 #'舍弃'\n",
    "    else :\n",
    "        return 3 #'待定'\n",
    "\n",
    "# 人员类型\n",
    "data['人员类型'] = data.apply(lambda data:people_type(data),axis =1)\n",
    "# 申请时间\n",
    "data['申请时间'] = data.apply(lambda data:fill_date(data),axis= 1)\n",
    "\n",
    "# 计算离职申请时间和数据日期差值\n",
    "data['离职时间与当前时间差值'] = data.apply(lambda data:diff_date(data),axis =1)\n",
    "\n",
    "# 定义是否离职\n",
    "data['是否离职'] = data['离职时间与当前时间差值'].apply(lambda data:is_not_leave(data))\n"
   ]
  },
  {
   "cell_type": "code",
   "execution_count": 10,
   "id": "47f8b744",
   "metadata": {
    "ExecuteTime": {
     "end_time": "2023-03-27T02:24:20.637216Z",
     "start_time": "2023-03-27T02:24:20.602010Z"
    },
    "collapsed": true
   },
   "outputs": [
    {
     "data": {
      "text/html": [
       "<div>\n",
       "<style scoped>\n",
       "    .dataframe tbody tr th:only-of-type {\n",
       "        vertical-align: middle;\n",
       "    }\n",
       "\n",
       "    .dataframe tbody tr th {\n",
       "        vertical-align: top;\n",
       "    }\n",
       "\n",
       "    .dataframe thead th {\n",
       "        text-align: right;\n",
       "    }\n",
       "</style>\n",
       "<table border=\"1\" class=\"dataframe\">\n",
       "  <thead>\n",
       "    <tr style=\"text-align: right;\">\n",
       "      <th></th>\n",
       "      <th>工号</th>\n",
       "      <th>员工类型</th>\n",
       "      <th>离职类型</th>\n",
       "      <th>申请时间</th>\n",
       "      <th>确认时间</th>\n",
       "      <th>数据日期</th>\n",
       "      <th>消息发送</th>\n",
       "      <th>消息接收</th>\n",
       "      <th>在线文档被查阅总数</th>\n",
       "      <th>在线文档被编辑总数</th>\n",
       "      <th>...</th>\n",
       "      <th>最新离职生效时间</th>\n",
       "      <th>最新全转专日期</th>\n",
       "      <th>最新异动日期</th>\n",
       "      <th>最近一次入职时间</th>\n",
       "      <th>当周考勤打卡次数</th>\n",
       "      <th>当周应出勤天数</th>\n",
       "      <th>当周外勤打卡次数</th>\n",
       "      <th>人员类型</th>\n",
       "      <th>离职时间与当前时间差值</th>\n",
       "      <th>是否离职</th>\n",
       "    </tr>\n",
       "  </thead>\n",
       "  <tbody>\n",
       "    <tr>\n",
       "      <th>0</th>\n",
       "      <td>ad621a23bd5c2474c1fe0909a8a38bb5fcccd382e855f9...</td>\n",
       "      <td>全职员工</td>\n",
       "      <td>被动离职</td>\n",
       "      <td>NaN</td>\n",
       "      <td>2021-12-31</td>\n",
       "      <td>2021-01-03</td>\n",
       "      <td>114.0</td>\n",
       "      <td>166.25000</td>\n",
       "      <td>0.0</td>\n",
       "      <td>0.0</td>\n",
       "      <td>...</td>\n",
       "      <td>2021-12-31</td>\n",
       "      <td>NaN</td>\n",
       "      <td>2021-09-01</td>\n",
       "      <td>2019-01-28</td>\n",
       "      <td>0.0</td>\n",
       "      <td>1.0</td>\n",
       "      <td>0.0</td>\n",
       "      <td>201</td>\n",
       "      <td>-1000000</td>\n",
       "      <td>2</td>\n",
       "    </tr>\n",
       "    <tr>\n",
       "      <th>1</th>\n",
       "      <td>4250041a2c9a323864ef0d88195fa1d5a71aa837f78f7f...</td>\n",
       "      <td>全职教师</td>\n",
       "      <td>主动离职</td>\n",
       "      <td>2021-09-01</td>\n",
       "      <td>2021-10-01</td>\n",
       "      <td>2021-04-25</td>\n",
       "      <td>214.0</td>\n",
       "      <td>227.12500</td>\n",
       "      <td>2.0</td>\n",
       "      <td>0.0</td>\n",
       "      <td>...</td>\n",
       "      <td>2021-10-01</td>\n",
       "      <td>NaN</td>\n",
       "      <td>2020-10-01</td>\n",
       "      <td>2004-05-01</td>\n",
       "      <td>0.0</td>\n",
       "      <td>2.0</td>\n",
       "      <td>0.0</td>\n",
       "      <td>112</td>\n",
       "      <td>129</td>\n",
       "      <td>0</td>\n",
       "    </tr>\n",
       "    <tr>\n",
       "      <th>2</th>\n",
       "      <td>4250041a2c9a323864ef0d88195fa1d5a71aa837f78f7f...</td>\n",
       "      <td>全职教师</td>\n",
       "      <td>主动离职</td>\n",
       "      <td>2021-09-01</td>\n",
       "      <td>2021-10-01</td>\n",
       "      <td>2021-06-27</td>\n",
       "      <td>71.0</td>\n",
       "      <td>107.50000</td>\n",
       "      <td>0.0</td>\n",
       "      <td>0.0</td>\n",
       "      <td>...</td>\n",
       "      <td>2021-10-01</td>\n",
       "      <td>NaN</td>\n",
       "      <td>2020-10-01</td>\n",
       "      <td>2004-05-01</td>\n",
       "      <td>6.0</td>\n",
       "      <td>5.0</td>\n",
       "      <td>0.0</td>\n",
       "      <td>112</td>\n",
       "      <td>66</td>\n",
       "      <td>0</td>\n",
       "    </tr>\n",
       "    <tr>\n",
       "      <th>3</th>\n",
       "      <td>4250041a2c9a323864ef0d88195fa1d5a71aa837f78f7f...</td>\n",
       "      <td>全职教师</td>\n",
       "      <td>主动离职</td>\n",
       "      <td>2021-09-01</td>\n",
       "      <td>2021-10-01</td>\n",
       "      <td>2021-08-29</td>\n",
       "      <td>56.0</td>\n",
       "      <td>78.00000</td>\n",
       "      <td>0.0</td>\n",
       "      <td>0.0</td>\n",
       "      <td>...</td>\n",
       "      <td>2021-10-01</td>\n",
       "      <td></td>\n",
       "      <td>2020-10-01</td>\n",
       "      <td>2004-05-01</td>\n",
       "      <td>0.0</td>\n",
       "      <td>5.0</td>\n",
       "      <td>0.0</td>\n",
       "      <td>112</td>\n",
       "      <td>3</td>\n",
       "      <td>3</td>\n",
       "    </tr>\n",
       "    <tr>\n",
       "      <th>4</th>\n",
       "      <td>29a4ee71e3c86f7f4c1e73313529a5a01b378e9a088948...</td>\n",
       "      <td>全职员工</td>\n",
       "      <td>NaN</td>\n",
       "      <td>NaN</td>\n",
       "      <td>NaN</td>\n",
       "      <td>2022-02-20</td>\n",
       "      <td>37.0</td>\n",
       "      <td>62.15625</td>\n",
       "      <td>5.0</td>\n",
       "      <td>2.0</td>\n",
       "      <td>...</td>\n",
       "      <td>NaN</td>\n",
       "      <td>NaN</td>\n",
       "      <td>2022-01-01</td>\n",
       "      <td>2004-07-01</td>\n",
       "      <td>0.0</td>\n",
       "      <td>0.0</td>\n",
       "      <td>0.0</td>\n",
       "      <td>000</td>\n",
       "      <td>9999</td>\n",
       "      <td>0</td>\n",
       "    </tr>\n",
       "  </tbody>\n",
       "</table>\n",
       "<p>5 rows × 64 columns</p>\n",
       "</div>"
      ],
      "text/plain": [
       "                                                  工号  员工类型  离职类型        申请时间  \\\n",
       "0  ad621a23bd5c2474c1fe0909a8a38bb5fcccd382e855f9...  全职员工  被动离职         NaN   \n",
       "1  4250041a2c9a323864ef0d88195fa1d5a71aa837f78f7f...  全职教师  主动离职  2021-09-01   \n",
       "2  4250041a2c9a323864ef0d88195fa1d5a71aa837f78f7f...  全职教师  主动离职  2021-09-01   \n",
       "3  4250041a2c9a323864ef0d88195fa1d5a71aa837f78f7f...  全职教师  主动离职  2021-09-01   \n",
       "4  29a4ee71e3c86f7f4c1e73313529a5a01b378e9a088948...  全职员工   NaN         NaN   \n",
       "\n",
       "         确认时间        数据日期   消息发送       消息接收  在线文档被查阅总数  在线文档被编辑总数  ...  \\\n",
       "0  2021-12-31  2021-01-03  114.0  166.25000        0.0        0.0  ...   \n",
       "1  2021-10-01  2021-04-25  214.0  227.12500        2.0        0.0  ...   \n",
       "2  2021-10-01  2021-06-27   71.0  107.50000        0.0        0.0  ...   \n",
       "3  2021-10-01  2021-08-29   56.0   78.00000        0.0        0.0  ...   \n",
       "4         NaN  2022-02-20   37.0   62.15625        5.0        2.0  ...   \n",
       "\n",
       "     最新离职生效时间  最新全转专日期      最新异动日期    最近一次入职时间  当周考勤打卡次数  当周应出勤天数  当周外勤打卡次数  \\\n",
       "0  2021-12-31      NaN  2021-09-01  2019-01-28       0.0      1.0       0.0   \n",
       "1  2021-10-01      NaN  2020-10-01  2004-05-01       0.0      2.0       0.0   \n",
       "2  2021-10-01      NaN  2020-10-01  2004-05-01       6.0      5.0       0.0   \n",
       "3  2021-10-01           2020-10-01  2004-05-01       0.0      5.0       0.0   \n",
       "4         NaN      NaN  2022-01-01  2004-07-01       0.0      0.0       0.0   \n",
       "\n",
       "   人员类型  离职时间与当前时间差值  是否离职  \n",
       "0   201     -1000000     2  \n",
       "1   112          129     0  \n",
       "2   112           66     0  \n",
       "3   112            3     3  \n",
       "4   000         9999     0  \n",
       "\n",
       "[5 rows x 64 columns]"
      ]
     },
     "execution_count": 10,
     "metadata": {},
     "output_type": "execute_result"
    }
   ],
   "source": [
    "data.head(5)"
   ]
  },
  {
   "cell_type": "code",
   "execution_count": 11,
   "id": "be1a62a1",
   "metadata": {
    "ExecuteTime": {
     "end_time": "2023-03-27T02:26:24.813182Z",
     "start_time": "2023-03-27T02:24:51.327549Z"
    }
   },
   "outputs": [],
   "source": [
    "#data.to_csv('lizhiyuce.csv')"
   ]
  },
  {
   "cell_type": "markdown",
   "id": "3dd85095",
   "metadata": {},
   "source": [
    "## 缺失值&离群值"
   ]
  },
  {
   "cell_type": "markdown",
   "id": "6f921b98",
   "metadata": {},
   "source": [
    "### 查看"
   ]
  },
  {
   "cell_type": "code",
   "execution_count": 15,
   "id": "5a5553c1",
   "metadata": {
    "ExecuteTime": {
     "end_time": "2023-03-23T11:37:41.356889Z",
     "start_time": "2023-03-23T11:37:40.485750Z"
    },
    "collapsed": true
   },
   "outputs": [
    {
     "name": "stdout",
     "output_type": "stream",
     "text": [
      "离职类型 0.15725\n",
      "申请时间 0.52007\n",
      "确认时间 0.15416\n",
      "消息发送 0.13151\n",
      "消息接收 0.13151\n",
      "在线文档被查阅总数 0.13151\n",
      "在线文档被编辑总数 0.13151\n",
      "在线文档被评论总数 0.13151\n",
      "在线文档被收藏总数 0.13151\n",
      "周报被阅读总数 0.13151\n",
      "周报被点赞总数 0.13151\n",
      "周报被评论总数 0.13151\n",
      "在线文档查阅总数 0.13306\n",
      "在线文档编辑总数 0.13306\n",
      "在线文档评论总数 0.13306\n",
      "在线文档收藏总数 0.13306\n",
      "周报阅读总数 0.13306\n",
      "周报点赞总数 0.13306\n",
      "周报评论总数 0.13306\n",
      "知音楼日均在线 0.13558\n",
      "请假总天数 0.13191\n",
      "周报字数 0.71716\n",
      "音视频会议参与总数 0.71148\n",
      "日程参与总数 0.57949\n",
      "日程参与总时长 0.57949\n",
      "线文档主被动评论人数 0.13151\n",
      "线文档主被动编辑人数 0.13151\n",
      "线文档主被动阅读人数 0.13151\n",
      "消息沟通人数 0.13151\n",
      "创建文档数 0.86256\n",
      "文档沟通人数 0.13151\n",
      "日程沟通人数 0.13151\n",
      "会议沟通人数 0.13151\n",
      "周报沟通人数 0.13151\n",
      "语音电话时长m 0.77921\n",
      "语音电话沟通人数 0.77921\n",
      "性别 0.02971\n",
      "婚姻状况 0.02966\n",
      "最高学历学历 0.19283\n",
      "工龄(年) 0.02952\n",
      "标准职级描述 0.02952\n",
      "职务族描述 0.02952\n",
      "当前在岗时长(月) 0.02952\n",
      "司龄(月) 0.02952\n",
      "最近一次绩效 0.72634\n",
      "最新离职申请提交时间 0.64962\n",
      "最新离职生效时间 0.18323\n",
      "最新全转专日期 0.86326\n",
      "最新异动日期 0.21591\n",
      "最近一次入职时间 0.02952\n",
      "当周考勤打卡次数 0.02953\n",
      "当周应出勤天数 0.02953\n",
      "当周外勤打卡次数 0.02953\n"
     ]
    }
   ],
   "source": [
    "def check_na(data):\n",
    "        null_val_sums = data.isnull().sum() +data.isin(['空']).sum()#统计每个列有多少缺失值\n",
    "\n",
    "        per_null = list(null_val_sums.values / len(data))  #计算缺失率\n",
    "        total = 0\n",
    "        for ele in range(0, len(per_null)):\n",
    "            total = total + per_null[ele]\n",
    "        \n",
    "        if total == 0:\n",
    "            print('所有变量无缺失值')\n",
    "        else:\n",
    "            for i in range(len(per_null)):\n",
    "                if per_null[i]!=0:\n",
    "                    print(list(data)[i],per_null[i])\n",
    "                    \n",
    "        return \n",
    "check_na(data)"
   ]
  },
  {
   "cell_type": "markdown",
   "id": "348763ca",
   "metadata": {},
   "source": [
    "缺失率较高特征：申请时间、周报字数、音视频会议参与总数、日程参与总数、日程参与总时长、创建文档数、语音电话时长m、语音电话沟通人数、最近一次绩效、最新离职申请提交时间、最新全转专日期"
   ]
  },
  {
   "cell_type": "code",
   "execution_count": 3,
   "id": "eedee758",
   "metadata": {
    "ExecuteTime": {
     "end_time": "2023-03-27T07:48:58.835930Z",
     "start_time": "2023-03-27T07:48:57.923925Z"
    }
   },
   "outputs": [],
   "source": [
    "data=data.drop(labels=['Unnamed: 0','离职类型','申请时间','确认时间','周报字数','音视频会议参与总数','日程参与总数','日程参与总时长','创建文档数','语音电话时长m',\n",
    "                       '语音电话沟通人数','最近一次绩效','最新离职申请提交时间','最新全转专日期'],axis=1)"
   ]
  },
  {
   "cell_type": "code",
   "execution_count": 4,
   "id": "92724446",
   "metadata": {
    "ExecuteTime": {
     "end_time": "2023-03-27T07:48:58.851930Z",
     "start_time": "2023-03-27T07:48:58.837923Z"
    }
   },
   "outputs": [
    {
     "name": "stdout",
     "output_type": "stream",
     "text": [
      "<class 'pandas.core.frame.DataFrame'>\n",
      "RangeIndex: 4547632 entries, 0 to 4547631\n",
      "Data columns (total 51 columns):\n",
      " #   Column       Dtype  \n",
      "---  ------       -----  \n",
      " 0   工号           object \n",
      " 1   员工类型         object \n",
      " 2   数据日期         object \n",
      " 3   消息发送         float64\n",
      " 4   消息接收         float64\n",
      " 5   在线文档被查阅总数    float64\n",
      " 6   在线文档被编辑总数    float64\n",
      " 7   在线文档被评论总数    float64\n",
      " 8   在线文档被收藏总数    float64\n",
      " 9   周报被阅读总数      float64\n",
      " 10  周报被点赞总数      float64\n",
      " 11  周报被评论总数      float64\n",
      " 12  在线文档查阅总数     float64\n",
      " 13  在线文档编辑总数     float64\n",
      " 14  在线文档评论总数     float64\n",
      " 15  在线文档收藏总数     float64\n",
      " 16  周报阅读总数       float64\n",
      " 17  周报点赞总数       float64\n",
      " 18  周报评论总数       float64\n",
      " 19  知音楼日均在线      float64\n",
      " 20  请假总天数        float64\n",
      " 21  音视频会议参与总时长   float64\n",
      " 22  线文档主被动评论人数   float64\n",
      " 23  线文档主被动编辑人数   float64\n",
      " 24  线文档主被动阅读人数   float64\n",
      " 25  文档评论中心度      float64\n",
      " 26  消息中心度        float64\n",
      " 27  文档编辑中心度      float64\n",
      " 28  文档阅读中心度      float64\n",
      " 29  消息沟通人数       float64\n",
      " 30  文档沟通人数       float64\n",
      " 31  日程沟通人数       float64\n",
      " 32  会议沟通人数       float64\n",
      " 33  周报沟通人数       float64\n",
      " 34  性别           object \n",
      " 35  婚姻状况         object \n",
      " 36  最高学历学历       object \n",
      " 37  工龄(年)        float64\n",
      " 38  标准职级描述       float64\n",
      " 39  职务族描述        object \n",
      " 40  当前在岗时长(月)    float64\n",
      " 41  司龄(月)        object \n",
      " 42  最新离职生效时间     object \n",
      " 43  最新异动日期       object \n",
      " 44  最近一次入职时间     object \n",
      " 45  当周考勤打卡次数     float64\n",
      " 46  当周应出勤天数      float64\n",
      " 47  当周外勤打卡次数     float64\n",
      " 48  人员类型         int64  \n",
      " 49  离职时间与当前时间差值  int64  \n",
      " 50  是否离职         int64  \n",
      "dtypes: float64(37), int64(3), object(11)\n",
      "memory usage: 1.7+ GB\n"
     ]
    }
   ],
   "source": [
    "data.info()"
   ]
  },
  {
   "cell_type": "markdown",
   "id": "35fa06da",
   "metadata": {},
   "source": [
    "### 处理"
   ]
  },
  {
   "cell_type": "code",
   "execution_count": 5,
   "id": "e332e1f5",
   "metadata": {
    "ExecuteTime": {
     "end_time": "2023-03-27T07:48:58.867924Z",
     "start_time": "2023-03-27T07:48:58.853924Z"
    }
   },
   "outputs": [],
   "source": [
    "#填补缺失值、处理异常值\n",
    "def deal_outliers_deficiency(df):\n",
    "    if df.dtypes=='float64':\n",
    "        df2 = pd.array(df)\n",
    "        Q1 = df.quantile(0.25)\n",
    "        Q3 = df.quantile(0.75)\n",
    "        IQR = Q3 - Q1\n",
    "        # 下阈值\n",
    "        val_low = Q1 - 1.5 * IQR\n",
    "        # 上阈值\n",
    "        val_up = Q3 + 1.5 * IQR\n",
    "        # print(Q1,Q3,IQR,val_up,val_low)\n",
    "        # 正常值的均值\n",
    "        sum = 0\n",
    "        i = 0\n",
    "        k = 0\n",
    "        for item in df2:\n",
    "            k += 1\n",
    "            if (item > val_low) & (item < val_up):\n",
    "                sum += item\n",
    "                i += 1\n",
    "        # print(sum)\n",
    "        # print(i)\n",
    "        if i == 0:\n",
    "            normal_mean = sum / k\n",
    "        else:\n",
    "            normal_mean = sum / i\n",
    "\n",
    "        j = 0\n",
    "        for item in df2:\n",
    "            # 异常值替换\n",
    "            if (item < val_low) | (item > val_up):\n",
    "                df2[j] = -1 #异常值用-1替换\n",
    "            j += 1\n",
    "        df2 = df2.fillna(0)  # nan的替换值0\n",
    "        return df2\n",
    "    elif df.dtypes == 'object':\n",
    "        df2 = pd.array(df)\n",
    "        df2 = df2.fillna(df.mode().iloc[0])  # 由于df.mode()返回frame，因此用iloc　安装行的index访问\n",
    "        return df2\n",
    "    elif df.dtypes == 'int64':\n",
    "        df2 = pd.array(df)\n",
    "        return df2"
   ]
  },
  {
   "cell_type": "code",
   "execution_count": 6,
   "id": "b34a61eb",
   "metadata": {
    "ExecuteTime": {
     "end_time": "2023-03-27T07:48:58.884003Z",
     "start_time": "2023-03-27T07:48:58.868924Z"
    }
   },
   "outputs": [],
   "source": [
    "#储存列名\n",
    "data_columns_name=data.columns.values\n",
    "#data_columns_name"
   ]
  },
  {
   "cell_type": "code",
   "execution_count": 7,
   "id": "3644afed",
   "metadata": {
    "ExecuteTime": {
     "end_time": "2023-03-27T07:51:38.786956Z",
     "start_time": "2023-03-27T07:48:58.885929Z"
    }
   },
   "outputs": [
    {
     "name": "stderr",
     "output_type": "stream",
     "text": [
      "100%|██████████████████████████████████████████████████████████████████████████████████| 51/51 [02:39<00:00,  3.13s/it]\n"
     ]
    }
   ],
   "source": [
    "#对每列应用数据清洗函数\n",
    "for item in tqdm.tqdm(data_columns_name):\n",
    "    data[item]=deal_outliers_deficiency(data[item])"
   ]
  },
  {
   "cell_type": "code",
   "execution_count": 8,
   "id": "6c6b1d20",
   "metadata": {
    "ExecuteTime": {
     "end_time": "2023-03-27T07:52:51.233567Z",
     "start_time": "2023-03-27T07:51:38.789951Z"
    }
   },
   "outputs": [],
   "source": [
    "data.to_csv('lizhiyuce1.csv')"
   ]
  },
  {
   "cell_type": "markdown",
   "id": "123dd779",
   "metadata": {},
   "source": [
    "# 特征工程"
   ]
  },
  {
   "cell_type": "markdown",
   "id": "6e477afc",
   "metadata": {},
   "source": [
    "## 编码"
   ]
  },
  {
   "cell_type": "code",
   "execution_count": 9,
   "id": "26046b6b",
   "metadata": {
    "ExecuteTime": {
     "end_time": "2023-03-27T07:53:24.518418Z",
     "start_time": "2023-03-27T07:53:04.738987Z"
    }
   },
   "outputs": [],
   "source": [
    "data=pd.read_csv('lizhiyuce1.csv')"
   ]
  },
  {
   "cell_type": "code",
   "execution_count": 3,
   "id": "d4dea532",
   "metadata": {
    "ExecuteTime": {
     "end_time": "2023-03-27T05:11:16.220196Z",
     "start_time": "2023-03-27T05:11:12.857851Z"
    },
    "collapsed": true
   },
   "outputs": [
    {
     "data": {
      "text/plain": [
       "Unnamed: 0     False\n",
       "工号             False\n",
       "员工类型           False\n",
       "消息发送           False\n",
       "消息接收           False\n",
       "在线文档被查阅总数      False\n",
       "在线文档被编辑总数      False\n",
       "在线文档被评论总数      False\n",
       "在线文档被收藏总数      False\n",
       "周报被阅读总数        False\n",
       "周报被点赞总数        False\n",
       "周报被评论总数        False\n",
       "在线文档查阅总数       False\n",
       "在线文档编辑总数       False\n",
       "在线文档评论总数       False\n",
       "在线文档收藏总数       False\n",
       "周报阅读总数         False\n",
       "周报点赞总数         False\n",
       "周报评论总数         False\n",
       "知音楼日均在线        False\n",
       "请假总天数          False\n",
       "音视频会议参与总时长     False\n",
       "线文档主被动评论人数     False\n",
       "线文档主被动编辑人数     False\n",
       "线文档主被动阅读人数     False\n",
       "文档评论中心度        False\n",
       "消息中心度          False\n",
       "文档编辑中心度        False\n",
       "文档阅读中心度        False\n",
       "消息沟通人数         False\n",
       "文档沟通人数         False\n",
       "日程沟通人数         False\n",
       "会议沟通人数         False\n",
       "周报沟通人数         False\n",
       "性别             False\n",
       "婚姻状况           False\n",
       "最高学历学历         False\n",
       "工龄(年)          False\n",
       "标准职级描述         False\n",
       "职务族描述          False\n",
       "当前在岗时长(月)      False\n",
       "司龄(月)          False\n",
       "最新离职生效时间       False\n",
       "最新异动日期         False\n",
       "最近一次入职时间       False\n",
       "当周考勤打卡次数       False\n",
       "当周应出勤天数        False\n",
       "当周外勤打卡次数       False\n",
       "人员类型           False\n",
       "离职时间与当前时间差值    False\n",
       "是否离职           False\n",
       "dtype: bool"
      ]
     },
     "execution_count": 3,
     "metadata": {},
     "output_type": "execute_result"
    }
   ],
   "source": [
    "#data.isnull().any()"
   ]
  },
  {
   "cell_type": "code",
   "execution_count": 10,
   "id": "5aefea8e",
   "metadata": {
    "ExecuteTime": {
     "end_time": "2023-03-27T07:53:24.674367Z",
     "start_time": "2023-03-27T07:53:24.521360Z"
    }
   },
   "outputs": [],
   "source": [
    "#员工类型\n",
    "Emptype_dict={'兼职员工':1,\n",
    "             '兼职教师':2,\n",
    "             '在编实习':3,\n",
    "             '全职员工':4,\n",
    "             '全职教师':5,\n",
    "             '专职教师':6,\n",
    "            }\n",
    "data['员工类型_Ordinal']=data['员工类型'].map(Emptype_dict)"
   ]
  },
  {
   "cell_type": "code",
   "execution_count": 11,
   "id": "bf79d7d4",
   "metadata": {
    "ExecuteTime": {
     "end_time": "2023-03-27T07:53:24.813454Z",
     "start_time": "2023-03-27T07:53:24.675360Z"
    }
   },
   "outputs": [],
   "source": [
    "#性别\n",
    "Gender_dict={'男':0,\n",
    "             '女':1\n",
    "            }\n",
    "data['性别_Ordinal']=data['性别'].map(Gender_dict)"
   ]
  },
  {
   "cell_type": "code",
   "execution_count": 12,
   "id": "9d9b875c",
   "metadata": {
    "ExecuteTime": {
     "end_time": "2023-03-27T07:53:24.955366Z",
     "start_time": "2023-03-27T07:53:24.815361Z"
    }
   },
   "outputs": [],
   "source": [
    "#婚姻状况\n",
    "Marry_dict={'未知':1,\n",
    "             '离异':2,\n",
    "            '未婚':3,\n",
    "            '已婚':4\n",
    "            }\n",
    "data['婚姻状况_Ordinal']=data['婚姻状况'].map(Marry_dict)"
   ]
  },
  {
   "cell_type": "code",
   "execution_count": 13,
   "id": "36f3df33",
   "metadata": {
    "ExecuteTime": {
     "end_time": "2023-03-27T07:53:25.145811Z",
     "start_time": "2023-03-27T07:53:24.957361Z"
    }
   },
   "outputs": [],
   "source": [
    "#最高学历学历\n",
    "Edu_dict={'':-1,\n",
    "         '01 - 博士后':3,\n",
    "         '01-博士后':3,\n",
    "         '02-博士研究生':3,\n",
    "         '02 - 博士研究生':3,\n",
    "         '03 - 硕士研究生':3,\n",
    "         '03-硕士研究生':3,\n",
    "         '04-本科':2,\n",
    "         '04 - 本科':2,\n",
    "         '05-大专':1,\n",
    "         '05 - 大专':1,\n",
    "         '06 - 高中':1,\n",
    "         '06-高中':1,\n",
    "         '07-中专/技校':0,\n",
    "         '07 - 中专/技校':0,\n",
    "         '08 - 初中':0,\n",
    "         '08-初中':0,\n",
    "         '09 - 小学及以下':0,\n",
    "         '09-小学及以下':0\n",
    "         }\n",
    "data['最高学历学历_Ordinal']=data['最高学历学历'].map(Edu_dict)"
   ]
  },
  {
   "cell_type": "code",
   "execution_count": 14,
   "id": "07897116",
   "metadata": {
    "ExecuteTime": {
     "end_time": "2023-03-27T07:53:25.311826Z",
     "start_time": "2023-03-27T07:53:25.148818Z"
    }
   },
   "outputs": [],
   "source": [
    "#职务族描述\n",
    "Pos_dic={'教研':1,\n",
    "         '综合管理':2,\n",
    "         '教师':3,\n",
    "         '专业支持':4,\n",
    "         '教学':5,\n",
    "         '运营服务':6,\n",
    "         '技术':7,\n",
    "         '销售':8,\n",
    "         '产品':9,\n",
    "         '市场与公关':10,\n",
    "         '市场营销':11,\n",
    "         '学科':12, \n",
    "}\n",
    "data['职务族描述_Ordinal']=data['职务族描述'].map(Pos_dic)"
   ]
  },
  {
   "cell_type": "code",
   "execution_count": 15,
   "id": "860ec320",
   "metadata": {
    "ExecuteTime": {
     "end_time": "2023-03-27T07:53:26.721377Z",
     "start_time": "2023-03-27T07:53:25.312826Z"
    }
   },
   "outputs": [],
   "source": [
    "data['司龄(月)']=pd.to_numeric(data['司龄(月)'],errors='coerce')\n",
    "data['司龄(月)'].fillna(data['司龄(月)'].median(),inplace=True)"
   ]
  },
  {
   "cell_type": "code",
   "execution_count": 16,
   "id": "8c8f04a1",
   "metadata": {
    "ExecuteTime": {
     "end_time": "2023-03-27T07:53:27.458317Z",
     "start_time": "2023-03-27T07:53:26.723319Z"
    }
   },
   "outputs": [
    {
     "data": {
      "text/plain": [
       "(4547632, 52)"
      ]
     },
     "execution_count": 16,
     "metadata": {},
     "output_type": "execute_result"
    }
   ],
   "source": [
    "data=data.drop(['员工类型','性别','职务族描述','最高学历学历','婚姻状况'],axis=1)\n",
    "data.shape"
   ]
  },
  {
   "cell_type": "code",
   "execution_count": 18,
   "id": "48abd422",
   "metadata": {
    "ExecuteTime": {
     "end_time": "2023-03-27T07:54:06.625496Z",
     "start_time": "2023-03-27T07:54:06.172998Z"
    },
    "scrolled": true
   },
   "outputs": [
    {
     "data": {
      "text/html": [
       "<div>\n",
       "<style scoped>\n",
       "    .dataframe tbody tr th:only-of-type {\n",
       "        vertical-align: middle;\n",
       "    }\n",
       "\n",
       "    .dataframe tbody tr th {\n",
       "        vertical-align: top;\n",
       "    }\n",
       "\n",
       "    .dataframe thead th {\n",
       "        text-align: right;\n",
       "    }\n",
       "</style>\n",
       "<table border=\"1\" class=\"dataframe\">\n",
       "  <thead>\n",
       "    <tr style=\"text-align: right;\">\n",
       "      <th></th>\n",
       "      <th>工号</th>\n",
       "      <th>数据日期</th>\n",
       "      <th>消息发送</th>\n",
       "      <th>消息接收</th>\n",
       "      <th>在线文档被查阅总数</th>\n",
       "      <th>在线文档被编辑总数</th>\n",
       "      <th>在线文档被评论总数</th>\n",
       "      <th>在线文档被收藏总数</th>\n",
       "      <th>周报被阅读总数</th>\n",
       "      <th>周报被点赞总数</th>\n",
       "      <th>...</th>\n",
       "      <th>当周应出勤天数</th>\n",
       "      <th>当周外勤打卡次数</th>\n",
       "      <th>人员类型</th>\n",
       "      <th>离职时间与当前时间差值</th>\n",
       "      <th>是否离职</th>\n",
       "      <th>员工类型_Ordinal</th>\n",
       "      <th>性别_Ordinal</th>\n",
       "      <th>婚姻状况_Ordinal</th>\n",
       "      <th>最高学历学历_Ordinal</th>\n",
       "      <th>职务族描述_Ordinal</th>\n",
       "    </tr>\n",
       "  </thead>\n",
       "  <tbody>\n",
       "    <tr>\n",
       "      <th>0</th>\n",
       "      <td>ad621a23bd5c2474c1fe0909a8a38bb5fcccd382e855f9...</td>\n",
       "      <td>2021-01-03</td>\n",
       "      <td>114.0</td>\n",
       "      <td>166.20</td>\n",
       "      <td>0.0</td>\n",
       "      <td>0.0</td>\n",
       "      <td>0.0</td>\n",
       "      <td>0.0</td>\n",
       "      <td>0.0</td>\n",
       "      <td>0.0</td>\n",
       "      <td>...</td>\n",
       "      <td>1.0</td>\n",
       "      <td>0.0</td>\n",
       "      <td>201</td>\n",
       "      <td>-1000000</td>\n",
       "      <td>2</td>\n",
       "      <td>4</td>\n",
       "      <td>0</td>\n",
       "      <td>4</td>\n",
       "      <td>2.0</td>\n",
       "      <td>1</td>\n",
       "    </tr>\n",
       "    <tr>\n",
       "      <th>1</th>\n",
       "      <td>4250041a2c9a323864ef0d88195fa1d5a71aa837f78f7f...</td>\n",
       "      <td>2021-04-25</td>\n",
       "      <td>214.0</td>\n",
       "      <td>227.10</td>\n",
       "      <td>-1.0</td>\n",
       "      <td>0.0</td>\n",
       "      <td>0.0</td>\n",
       "      <td>0.0</td>\n",
       "      <td>-1.0</td>\n",
       "      <td>0.0</td>\n",
       "      <td>...</td>\n",
       "      <td>2.0</td>\n",
       "      <td>0.0</td>\n",
       "      <td>112</td>\n",
       "      <td>129</td>\n",
       "      <td>0</td>\n",
       "      <td>5</td>\n",
       "      <td>0</td>\n",
       "      <td>4</td>\n",
       "      <td>2.0</td>\n",
       "      <td>2</td>\n",
       "    </tr>\n",
       "    <tr>\n",
       "      <th>2</th>\n",
       "      <td>4250041a2c9a323864ef0d88195fa1d5a71aa837f78f7f...</td>\n",
       "      <td>2021-06-27</td>\n",
       "      <td>71.0</td>\n",
       "      <td>107.50</td>\n",
       "      <td>0.0</td>\n",
       "      <td>0.0</td>\n",
       "      <td>0.0</td>\n",
       "      <td>0.0</td>\n",
       "      <td>0.0</td>\n",
       "      <td>0.0</td>\n",
       "      <td>...</td>\n",
       "      <td>5.0</td>\n",
       "      <td>0.0</td>\n",
       "      <td>112</td>\n",
       "      <td>66</td>\n",
       "      <td>0</td>\n",
       "      <td>5</td>\n",
       "      <td>0</td>\n",
       "      <td>4</td>\n",
       "      <td>2.0</td>\n",
       "      <td>2</td>\n",
       "    </tr>\n",
       "    <tr>\n",
       "      <th>3</th>\n",
       "      <td>4250041a2c9a323864ef0d88195fa1d5a71aa837f78f7f...</td>\n",
       "      <td>2021-08-29</td>\n",
       "      <td>56.0</td>\n",
       "      <td>78.00</td>\n",
       "      <td>0.0</td>\n",
       "      <td>0.0</td>\n",
       "      <td>0.0</td>\n",
       "      <td>0.0</td>\n",
       "      <td>0.0</td>\n",
       "      <td>0.0</td>\n",
       "      <td>...</td>\n",
       "      <td>5.0</td>\n",
       "      <td>0.0</td>\n",
       "      <td>112</td>\n",
       "      <td>3</td>\n",
       "      <td>3</td>\n",
       "      <td>5</td>\n",
       "      <td>0</td>\n",
       "      <td>4</td>\n",
       "      <td>2.0</td>\n",
       "      <td>2</td>\n",
       "    </tr>\n",
       "    <tr>\n",
       "      <th>4</th>\n",
       "      <td>29a4ee71e3c86f7f4c1e73313529a5a01b378e9a088948...</td>\n",
       "      <td>2022-02-20</td>\n",
       "      <td>37.0</td>\n",
       "      <td>62.16</td>\n",
       "      <td>-1.0</td>\n",
       "      <td>-1.0</td>\n",
       "      <td>0.0</td>\n",
       "      <td>0.0</td>\n",
       "      <td>-1.0</td>\n",
       "      <td>-1.0</td>\n",
       "      <td>...</td>\n",
       "      <td>0.0</td>\n",
       "      <td>0.0</td>\n",
       "      <td>0</td>\n",
       "      <td>9999</td>\n",
       "      <td>0</td>\n",
       "      <td>4</td>\n",
       "      <td>0</td>\n",
       "      <td>4</td>\n",
       "      <td>2.0</td>\n",
       "      <td>2</td>\n",
       "    </tr>\n",
       "  </tbody>\n",
       "</table>\n",
       "<p>5 rows × 51 columns</p>\n",
       "</div>"
      ],
      "text/plain": [
       "                                                  工号        数据日期   消息发送  \\\n",
       "0  ad621a23bd5c2474c1fe0909a8a38bb5fcccd382e855f9...  2021-01-03  114.0   \n",
       "1  4250041a2c9a323864ef0d88195fa1d5a71aa837f78f7f...  2021-04-25  214.0   \n",
       "2  4250041a2c9a323864ef0d88195fa1d5a71aa837f78f7f...  2021-06-27   71.0   \n",
       "3  4250041a2c9a323864ef0d88195fa1d5a71aa837f78f7f...  2021-08-29   56.0   \n",
       "4  29a4ee71e3c86f7f4c1e73313529a5a01b378e9a088948...  2022-02-20   37.0   \n",
       "\n",
       "     消息接收  在线文档被查阅总数  在线文档被编辑总数  在线文档被评论总数  在线文档被收藏总数  周报被阅读总数  周报被点赞总数  ...  \\\n",
       "0  166.20        0.0        0.0        0.0        0.0      0.0      0.0  ...   \n",
       "1  227.10       -1.0        0.0        0.0        0.0     -1.0      0.0  ...   \n",
       "2  107.50        0.0        0.0        0.0        0.0      0.0      0.0  ...   \n",
       "3   78.00        0.0        0.0        0.0        0.0      0.0      0.0  ...   \n",
       "4   62.16       -1.0       -1.0        0.0        0.0     -1.0     -1.0  ...   \n",
       "\n",
       "   当周应出勤天数  当周外勤打卡次数  人员类型  离职时间与当前时间差值  是否离职  员工类型_Ordinal  性别_Ordinal  \\\n",
       "0      1.0       0.0   201     -1000000     2             4           0   \n",
       "1      2.0       0.0   112          129     0             5           0   \n",
       "2      5.0       0.0   112           66     0             5           0   \n",
       "3      5.0       0.0   112            3     3             5           0   \n",
       "4      0.0       0.0     0         9999     0             4           0   \n",
       "\n",
       "   婚姻状况_Ordinal  最高学历学历_Ordinal  职务族描述_Ordinal  \n",
       "0             4             2.0              1  \n",
       "1             4             2.0              2  \n",
       "2             4             2.0              2  \n",
       "3             4             2.0              2  \n",
       "4             4             2.0              2  \n",
       "\n",
       "[5 rows x 51 columns]"
      ]
     },
     "execution_count": 18,
     "metadata": {},
     "output_type": "execute_result"
    }
   ],
   "source": [
    "data.drop(['Unnamed: 0'],inplace=True,axis=1)\n",
    "#data.head(5)"
   ]
  },
  {
   "cell_type": "code",
   "execution_count": 19,
   "id": "29d935f6",
   "metadata": {
    "ExecuteTime": {
     "end_time": "2023-03-27T07:55:08.705253Z",
     "start_time": "2023-03-27T07:55:08.686246Z"
    },
    "scrolled": true
   },
   "outputs": [
    {
     "name": "stdout",
     "output_type": "stream",
     "text": [
      "<class 'pandas.core.frame.DataFrame'>\n",
      "RangeIndex: 4547632 entries, 0 to 4547631\n",
      "Data columns (total 51 columns):\n",
      " #   Column          Dtype  \n",
      "---  ------          -----  \n",
      " 0   工号              object \n",
      " 1   数据日期            object \n",
      " 2   消息发送            float64\n",
      " 3   消息接收            float64\n",
      " 4   在线文档被查阅总数       float64\n",
      " 5   在线文档被编辑总数       float64\n",
      " 6   在线文档被评论总数       float64\n",
      " 7   在线文档被收藏总数       float64\n",
      " 8   周报被阅读总数         float64\n",
      " 9   周报被点赞总数         float64\n",
      " 10  周报被评论总数         float64\n",
      " 11  在线文档查阅总数        float64\n",
      " 12  在线文档编辑总数        float64\n",
      " 13  在线文档评论总数        float64\n",
      " 14  在线文档收藏总数        float64\n",
      " 15  周报阅读总数          float64\n",
      " 16  周报点赞总数          float64\n",
      " 17  周报评论总数          float64\n",
      " 18  知音楼日均在线         float64\n",
      " 19  请假总天数           float64\n",
      " 20  音视频会议参与总时长      float64\n",
      " 21  线文档主被动评论人数      float64\n",
      " 22  线文档主被动编辑人数      float64\n",
      " 23  线文档主被动阅读人数      float64\n",
      " 24  文档评论中心度         float64\n",
      " 25  消息中心度           float64\n",
      " 26  文档编辑中心度         float64\n",
      " 27  文档阅读中心度         float64\n",
      " 28  消息沟通人数          float64\n",
      " 29  文档沟通人数          float64\n",
      " 30  日程沟通人数          float64\n",
      " 31  会议沟通人数          float64\n",
      " 32  周报沟通人数          float64\n",
      " 33  工龄(年)           float64\n",
      " 34  标准职级描述          float64\n",
      " 35  当前在岗时长(月)       float64\n",
      " 36  司龄(月)           float64\n",
      " 37  最新离职生效时间        object \n",
      " 38  最新异动日期          object \n",
      " 39  最近一次入职时间        object \n",
      " 40  当周考勤打卡次数        float64\n",
      " 41  当周应出勤天数         float64\n",
      " 42  当周外勤打卡次数        float64\n",
      " 43  人员类型            int64  \n",
      " 44  离职时间与当前时间差值     int64  \n",
      " 45  是否离职            int64  \n",
      " 46  员工类型_Ordinal    int64  \n",
      " 47  性别_Ordinal      int64  \n",
      " 48  婚姻状况_Ordinal    int64  \n",
      " 49  最高学历学历_Ordinal  float64\n",
      " 50  职务族描述_Ordinal   int64  \n",
      "dtypes: float64(39), int64(7), object(5)\n",
      "memory usage: 1.7+ GB\n"
     ]
    }
   ],
   "source": [
    "data.info()"
   ]
  },
  {
   "cell_type": "code",
   "execution_count": 21,
   "id": "c2cf32fc",
   "metadata": {
    "ExecuteTime": {
     "end_time": "2023-03-27T07:59:49.185801Z",
     "start_time": "2023-03-27T07:59:48.517938Z"
    }
   },
   "outputs": [],
   "source": [
    "data.drop(['离职时间与当前时间差值'],inplace=True,axis=1)"
   ]
  },
  {
   "cell_type": "code",
   "execution_count": 24,
   "id": "5e00a568",
   "metadata": {
    "ExecuteTime": {
     "end_time": "2023-03-27T08:04:01.762921Z",
     "start_time": "2023-03-27T08:02:51.724665Z"
    }
   },
   "outputs": [],
   "source": [
    "#data.to_csv('lizhiyuce2.csv')"
   ]
  },
  {
   "cell_type": "markdown",
   "id": "79517eb1",
   "metadata": {},
   "source": [
    "## 数据拼接"
   ]
  },
  {
   "cell_type": "code",
   "execution_count": 39,
   "id": "21df5536",
   "metadata": {
    "ExecuteTime": {
     "end_time": "2023-03-27T11:33:03.062749Z",
     "start_time": "2023-03-27T11:33:02.830743Z"
    }
   },
   "outputs": [],
   "source": []
  },
  {
   "cell_type": "markdown",
   "id": "9a2e574b",
   "metadata": {},
   "source": [
    "# 生存分析"
   ]
  },
  {
   "cell_type": "code",
   "execution_count": 35,
   "id": "0ea4916f",
   "metadata": {
    "ExecuteTime": {
     "end_time": "2023-03-28T07:50:34.661096Z",
     "start_time": "2023-03-28T07:50:07.466574Z"
    }
   },
   "outputs": [],
   "source": [
    "data=pd.read_csv('lizhiyuce2.csv')\n",
    "data['数据日期']=pd.to_datetime(data['数据日期'])"
   ]
  },
  {
   "cell_type": "code",
   "execution_count": 36,
   "id": "7b20856c",
   "metadata": {
    "ExecuteTime": {
     "end_time": "2023-03-28T07:50:35.681441Z",
     "start_time": "2023-03-28T07:50:34.661096Z"
    }
   },
   "outputs": [
    {
     "name": "stdout",
     "output_type": "stream",
     "text": [
      "<class 'pandas.core.frame.DataFrame'>\n",
      "RangeIndex: 4547632 entries, 0 to 4547631\n",
      "Data columns (total 50 columns):\n",
      " #   Column          Dtype         \n",
      "---  ------          -----         \n",
      " 0   工号              object        \n",
      " 1   数据日期            datetime64[ns]\n",
      " 2   消息发送            float64       \n",
      " 3   消息接收            float64       \n",
      " 4   在线文档被查阅总数       float64       \n",
      " 5   在线文档被编辑总数       float64       \n",
      " 6   在线文档被评论总数       float64       \n",
      " 7   在线文档被收藏总数       float64       \n",
      " 8   周报被阅读总数         float64       \n",
      " 9   周报被点赞总数         float64       \n",
      " 10  周报被评论总数         float64       \n",
      " 11  在线文档查阅总数        float64       \n",
      " 12  在线文档编辑总数        float64       \n",
      " 13  在线文档评论总数        float64       \n",
      " 14  在线文档收藏总数        float64       \n",
      " 15  周报阅读总数          float64       \n",
      " 16  周报点赞总数          float64       \n",
      " 17  周报评论总数          float64       \n",
      " 18  知音楼日均在线         float64       \n",
      " 19  请假总天数           float64       \n",
      " 20  音视频会议参与总时长      float64       \n",
      " 21  线文档主被动评论人数      float64       \n",
      " 22  线文档主被动编辑人数      float64       \n",
      " 23  线文档主被动阅读人数      float64       \n",
      " 24  文档评论中心度         float64       \n",
      " 25  消息中心度           float64       \n",
      " 26  文档编辑中心度         float64       \n",
      " 27  文档阅读中心度         float64       \n",
      " 28  消息沟通人数          float64       \n",
      " 29  文档沟通人数          float64       \n",
      " 30  日程沟通人数          float64       \n",
      " 31  会议沟通人数          float64       \n",
      " 32  周报沟通人数          float64       \n",
      " 33  工龄(年)           float64       \n",
      " 34  标准职级描述          float64       \n",
      " 35  当前在岗时长(月)       float64       \n",
      " 36  司龄(月)           float64       \n",
      " 37  最新离职生效时间        object        \n",
      " 38  最新异动日期          object        \n",
      " 39  最近一次入职时间        object        \n",
      " 40  当周考勤打卡次数        float64       \n",
      " 41  当周应出勤天数         float64       \n",
      " 42  当周外勤打卡次数        float64       \n",
      " 43  人员类型            int64         \n",
      " 44  是否离职            int64         \n",
      " 45  员工类型_Ordinal    int64         \n",
      " 46  性别_Ordinal      int64         \n",
      " 47  婚姻状况_Ordinal    int64         \n",
      " 48  最高学历学历_Ordinal  float64       \n",
      " 49  职务族描述_Ordinal   int64         \n",
      "dtypes: datetime64[ns](1), float64(39), int64(6), object(4)\n",
      "memory usage: 1.7+ GB\n"
     ]
    }
   ],
   "source": [
    "data.drop(['Unnamed: 0'],inplace=True,axis=1)\n",
    "#data.info()"
   ]
  },
  {
   "cell_type": "code",
   "execution_count": 4,
   "id": "4fc3d0aa",
   "metadata": {
    "ExecuteTime": {
     "end_time": "2023-03-28T07:13:05.318753Z",
     "start_time": "2023-03-28T07:13:03.790942Z"
    }
   },
   "outputs": [
    {
     "data": {
      "text/plain": [
       "(146797,)"
      ]
     },
     "execution_count": 4,
     "metadata": {},
     "output_type": "execute_result"
    }
   ],
   "source": [
    "data['工号'].unique().shape"
   ]
  },
  {
   "cell_type": "code",
   "execution_count": 37,
   "id": "bfa01d2b",
   "metadata": {
    "ExecuteTime": {
     "end_time": "2023-03-28T07:50:37.310660Z",
     "start_time": "2023-03-28T07:50:35.681441Z"
    }
   },
   "outputs": [],
   "source": [
    "df=data.groupby(by=['工号'])['数据日期'].min()\n",
    "#df.head()"
   ]
  },
  {
   "cell_type": "code",
   "execution_count": 8,
   "id": "01c3b4ef",
   "metadata": {
    "ExecuteTime": {
     "end_time": "2023-03-28T07:21:53.881382Z",
     "start_time": "2023-03-28T07:21:53.797332Z"
    }
   },
   "outputs": [
    {
     "data": {
      "text/plain": [
       "array([10.,  7.,  9.,  1., 17., 12., -1., 16.,  3.,  6., 19.,  4., 11.,\n",
       "       13., 14., 15., 23., 18., 20.,  5., 21.,  2.,  0., 22.,  8., 24.])"
      ]
     },
     "execution_count": 8,
     "metadata": {},
     "output_type": "execute_result"
    }
   ],
   "source": [
    "# data['当前在岗时长(月)'].unique()"
   ]
  },
  {
   "cell_type": "code",
   "execution_count": 38,
   "id": "4c6c847d",
   "metadata": {
    "ExecuteTime": {
     "end_time": "2023-03-28T07:50:42.567818Z",
     "start_time": "2023-03-28T07:50:37.310660Z"
    }
   },
   "outputs": [],
   "source": [
    "data=data.merge(df,how='left',on='工号')\n",
    "#data.head()"
   ]
  },
  {
   "cell_type": "code",
   "execution_count": 39,
   "id": "61e745b5",
   "metadata": {
    "ExecuteTime": {
     "end_time": "2023-03-28T07:50:42.591812Z",
     "start_time": "2023-03-28T07:50:42.571811Z"
    }
   },
   "outputs": [],
   "source": [
    "def count_T(x):\n",
    "    time_c=(x['数据日期_x']-x['数据日期_y']+timedelta(7)).days\n",
    "    time_t=x['当前在岗时长(月)']*30\n",
    "    time=min(time_c,time_t)  \n",
    "    if time<0:\n",
    "        time=0\n",
    "    return time"
   ]
  },
  {
   "cell_type": "code",
   "execution_count": 40,
   "id": "f273afed",
   "metadata": {
    "ExecuteTime": {
     "end_time": "2023-03-28T07:53:55.750131Z",
     "start_time": "2023-03-28T07:50:42.591812Z"
    }
   },
   "outputs": [],
   "source": [
    "data['T'] = data.apply(lambda data:count_T(data),axis =1)"
   ]
  },
  {
   "cell_type": "code",
   "execution_count": 15,
   "id": "acfe5040",
   "metadata": {
    "ExecuteTime": {
     "end_time": "2023-03-28T07:32:36.109024Z",
     "start_time": "2023-03-28T07:32:36.097141Z"
    },
    "scrolled": true
   },
   "outputs": [
    {
     "data": {
      "text/plain": [
       "0      7.0\n",
       "1    119.0\n",
       "2    182.0\n",
       "3    245.0\n",
       "4     30.0\n",
       "Name: T, dtype: float64"
      ]
     },
     "execution_count": 15,
     "metadata": {},
     "output_type": "execute_result"
    }
   ],
   "source": [
    "#data['T'].head()"
   ]
  },
  {
   "cell_type": "code",
   "execution_count": 44,
   "id": "c7aceaa0",
   "metadata": {
    "ExecuteTime": {
     "end_time": "2023-03-28T07:54:18.768127Z",
     "start_time": "2023-03-28T07:54:18.123612Z"
    }
   },
   "outputs": [],
   "source": [
    "# data_sample1=data.loc[data['是否离职']==1]\n",
    "# data_sample0=data.loc[data['是否离职']==0]"
   ]
  },
  {
   "cell_type": "code",
   "execution_count": 45,
   "id": "e568ca05",
   "metadata": {
    "ExecuteTime": {
     "end_time": "2023-03-28T07:54:22.190935Z",
     "start_time": "2023-03-28T07:54:22.178947Z"
    }
   },
   "outputs": [
    {
     "data": {
      "text/plain": [
       "(1723274, 52)"
      ]
     },
     "execution_count": 45,
     "metadata": {},
     "output_type": "execute_result"
    }
   ],
   "source": [
    "# data_sample0.shape"
   ]
  },
  {
   "cell_type": "code",
   "execution_count": 46,
   "id": "4cd10667",
   "metadata": {
    "ExecuteTime": {
     "end_time": "2023-03-28T07:54:23.213672Z",
     "start_time": "2023-03-28T07:54:23.201671Z"
    }
   },
   "outputs": [
    {
     "data": {
      "text/plain": [
       "(218072, 52)"
      ]
     },
     "execution_count": 46,
     "metadata": {},
     "output_type": "execute_result"
    }
   ],
   "source": [
    "# data_sample1.shape"
   ]
  },
  {
   "cell_type": "code",
   "execution_count": 47,
   "id": "e83d8f35",
   "metadata": {
    "ExecuteTime": {
     "end_time": "2023-03-28T07:54:28.134273Z",
     "start_time": "2023-03-28T07:54:27.873796Z"
    }
   },
   "outputs": [],
   "source": [
    "# data_sample0=data_sample0.sample(n=218072)"
   ]
  },
  {
   "cell_type": "code",
   "execution_count": 48,
   "id": "6a7a80f1",
   "metadata": {
    "ExecuteTime": {
     "end_time": "2023-03-28T07:54:29.867202Z",
     "start_time": "2023-03-28T07:54:29.615160Z"
    }
   },
   "outputs": [],
   "source": [
    "# fin_data=pd.concat([data_sample0,data_sample1])"
   ]
  },
  {
   "cell_type": "code",
   "execution_count": 49,
   "id": "e1c69303",
   "metadata": {
    "ExecuteTime": {
     "end_time": "2023-03-28T07:54:30.959118Z",
     "start_time": "2023-03-28T07:54:30.935119Z"
    }
   },
   "outputs": [
    {
     "name": "stdout",
     "output_type": "stream",
     "text": [
      "0.0 574.0 \n",
      "\n",
      "0    218072\n",
      "1    218072\n",
      "Name: 是否离职, dtype: int64 \n",
      "\n"
     ]
    }
   ],
   "source": [
    "print(data['T'].min(), data['T'].max(),'\\n')\n",
    "print(data['是否离职'].value_counts(),'\\n')\n",
    "#print(data['group'].value_counts(),'\\n')"
   ]
  },
  {
   "cell_type": "code",
   "execution_count": 50,
   "id": "7f42a117",
   "metadata": {
    "ExecuteTime": {
     "end_time": "2023-03-28T07:54:36.405929Z",
     "start_time": "2023-03-28T07:54:35.751540Z"
    },
    "scrolled": false
   },
   "outputs": [
    {
     "name": "stdout",
     "output_type": "stream",
     "text": [
      "     KM_estimate_lower_0.95  KM_estimate_upper_0.95\n",
      "0.5                   120.0                   120.0\n"
     ]
    },
    {
     "data": {
      "image/png": "[encoded data removed]",
      "text/plain": [
       "<Figure size 640x480 with 1 Axes>"
      ]
     },
     "metadata": {},
     "output_type": "display_data"
    }
   ],
   "source": [
    "from lifelines.datasets import load_waltons\n",
    "from lifelines import KaplanMeierFitter\n",
    "from lifelines.utils import median_survival_times\n",
    "\n",
    "kmf = KaplanMeierFitter()\n",
    "kmf.fit(data['T'], event_observed=data['是否离职'])\n",
    "\n",
    "kmf.plot_survival_function()\n",
    "\n",
    "median_ = kmf.median_survival_time_\n",
    "median_confidence_interval_ = median_survival_times(kmf.confidence_interval_)\n",
    "print(median_confidence_interval_)\n"
   ]
  },
  {
   "cell_type": "code",
   "execution_count": 52,
   "id": "4c99ffe7",
   "metadata": {
    "ExecuteTime": {
     "end_time": "2023-03-28T07:56:48.466623Z",
     "start_time": "2023-03-28T07:56:48.366629Z"
    }
   },
   "outputs": [],
   "source": [
    "fin_data.drop(['工号'],inplace=True,axis=1)"
   ]
  },
  {
   "cell_type": "code",
   "execution_count": 54,
   "id": "9754c035",
   "metadata": {
    "ExecuteTime": {
     "end_time": "2023-03-28T07:58:08.304861Z",
     "start_time": "2023-03-28T07:58:08.292855Z"
    }
   },
   "outputs": [],
   "source": [
    "# from lifelines import CoxPHFitter\n",
    "# cph = CoxPHFitter()\n",
    "# cph.fit(fin_data, 'T', event_col='是否离职')\n",
    "# cph.print_summary()\n"
   ]
  },
  {
   "cell_type": "code",
   "execution_count": null,
   "id": "66baa964",
   "metadata": {},
   "outputs": [],
   "source": []
  },
  {
   "cell_type": "code",
   "execution_count": null,
   "id": "88f0a086",
   "metadata": {},
   "outputs": [],
   "source": []
  }
 ],
 "metadata": {
  "kernelspec": {
   "display_name": "Python 3 (ipykernel)",
   "language": "python",
   "name": "python3"
  },
  "language_info": {
   "codemirror_mode": {
    "name": "ipython",
    "version": 3
   },
   "file_extension": ".py",
   "mimetype": "text/x-python",
   "name": "python",
   "nbconvert_exporter": "python",
   "pygments_lexer": "ipython3",
   "version": "3.9.15"
  },
  "toc": {
   "base_numbering": 1,
   "nav_menu": {},
   "number_sections": true,
   "sideBar": true,
   "skip_h1_title": false,
   "title_cell": "Table of Contents",
   "title_sidebar": "Contents",
   "toc_cell": false,
   "toc_position": {
    "height": "calc(100% - 180px)",
    "left": "10px",
    "top": "150px",
    "width": "384px"
   },
   "toc_section_display": true,
   "toc_window_display": true
  }
 },
 "nbformat": 4,
 "nbformat_minor": 5
}
