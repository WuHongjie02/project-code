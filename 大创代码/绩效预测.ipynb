{
 "cells": [
  {
   "cell_type": "markdown",
   "id": "6fc65fa0",
   "metadata": {},
   "source": [
    "# 数据探索"
   ]
  },
  {
   "cell_type": "markdown",
   "id": "88c52dbe",
   "metadata": {},
   "source": [
    "## 数据基本信息"
   ]
  },
  {
   "cell_type": "markdown",
   "id": "9a2bca70",
   "metadata": {},
   "source": [
    "### 工具导入"
   ]
  },
  {
   "cell_type": "code",
   "execution_count": 1,
   "id": "084421d0",
   "metadata": {
    "ExecuteTime": {
     "end_time": "2023-03-18T12:17:09.137122Z",
     "start_time": "2023-03-18T12:17:08.106214Z"
    }
   },
   "outputs": [],
   "source": [
    "import pandas as pd\n",
    "import numpy as np \n",
    "import matplotlib.pyplot as plt\n",
    "import seaborn as sns\n",
    "import tqdm as tqdm\n",
    "\n",
    "plt.rcParams['font.sans-serif'] = ['SimHei']   #解决中文显示问题\n",
    "plt.rcParams['axes.unicode_minus'] = False    # 解决中文显示问题"
   ]
  },
  {
   "cell_type": "markdown",
   "id": "28e6706e",
   "metadata": {},
   "source": [
    "### 数据读取"
   ]
  },
  {
   "cell_type": "code",
   "execution_count": 2,
   "id": "d24c8997",
   "metadata": {
    "ExecuteTime": {
     "end_time": "2023-03-16T00:57:43.474042Z",
     "start_time": "2023-03-16T00:57:23.398688Z"
    }
   },
   "outputs": [],
   "source": [
    "#data=pd.read_csv('lizhiyucerun2022-07-28.csv')\n",
    "data=pd.read_csv('ct_lzyc.csv')"
   ]
  },
  {
   "cell_type": "markdown",
   "id": "13ee88e7",
   "metadata": {},
   "source": [
    "### 数据样例"
   ]
  },
  {
   "cell_type": "code",
   "execution_count": 3,
   "id": "4a4bb79f",
   "metadata": {
    "ExecuteTime": {
     "end_time": "2023-03-16T00:57:43.506042Z",
     "start_time": "2023-03-16T00:57:43.476035Z"
    },
    "scrolled": true
   },
   "outputs": [
    {
     "data": {
      "text/html": [
       "<div>\n",
       "<style scoped>\n",
       "    .dataframe tbody tr th:only-of-type {\n",
       "        vertical-align: middle;\n",
       "    }\n",
       "\n",
       "    .dataframe tbody tr th {\n",
       "        vertical-align: top;\n",
       "    }\n",
       "\n",
       "    .dataframe thead th {\n",
       "        text-align: right;\n",
       "    }\n",
       "</style>\n",
       "<table border=\"1\" class=\"dataframe\">\n",
       "  <thead>\n",
       "    <tr style=\"text-align: right;\">\n",
       "      <th></th>\n",
       "      <th>Unnamed: 0</th>\n",
       "      <th>工号</th>\n",
       "      <th>员工类型</th>\n",
       "      <th>离职类型</th>\n",
       "      <th>申请时间</th>\n",
       "      <th>确认时间</th>\n",
       "      <th>数据日期</th>\n",
       "      <th>消息发送</th>\n",
       "      <th>消息接收</th>\n",
       "      <th>在线文档被查阅总数</th>\n",
       "      <th>...</th>\n",
       "      <th>司龄(月)</th>\n",
       "      <th>最近一次绩效</th>\n",
       "      <th>最新离职申请提交时间</th>\n",
       "      <th>最新离职生效时间</th>\n",
       "      <th>最新全转专日期</th>\n",
       "      <th>最新异动日期</th>\n",
       "      <th>最近一次入职时间</th>\n",
       "      <th>当周考勤打卡次数</th>\n",
       "      <th>当周应出勤天数</th>\n",
       "      <th>当周外勤打卡次数</th>\n",
       "    </tr>\n",
       "  </thead>\n",
       "  <tbody>\n",
       "    <tr>\n",
       "      <th>0</th>\n",
       "      <td>0</td>\n",
       "      <td>ad621a23bd5c2474c1fe0909a8a38bb5fcccd382e855f9...</td>\n",
       "      <td>全职员工</td>\n",
       "      <td>被动离职</td>\n",
       "      <td>NaN</td>\n",
       "      <td>2021-12-31</td>\n",
       "      <td>2021-01-03</td>\n",
       "      <td>114.0</td>\n",
       "      <td>166.20</td>\n",
       "      <td>0.0</td>\n",
       "      <td>...</td>\n",
       "      <td>24</td>\n",
       "      <td>S</td>\n",
       "      <td>NaN</td>\n",
       "      <td>2021-12-31</td>\n",
       "      <td>NaN</td>\n",
       "      <td>2021-09-01</td>\n",
       "      <td>2019-01-28</td>\n",
       "      <td>0.0</td>\n",
       "      <td>1.0</td>\n",
       "      <td>0.0</td>\n",
       "    </tr>\n",
       "    <tr>\n",
       "      <th>1</th>\n",
       "      <td>1</td>\n",
       "      <td>4250041a2c9a323864ef0d88195fa1d5a71aa837f78f7f...</td>\n",
       "      <td>全职教师</td>\n",
       "      <td>主动离职</td>\n",
       "      <td>2021-09-01</td>\n",
       "      <td>2021-10-01</td>\n",
       "      <td>2021-04-25</td>\n",
       "      <td>214.0</td>\n",
       "      <td>227.10</td>\n",
       "      <td>2.0</td>\n",
       "      <td>...</td>\n",
       "      <td>204</td>\n",
       "      <td>B</td>\n",
       "      <td>2021-09-01</td>\n",
       "      <td>2021-10-01</td>\n",
       "      <td>NaN</td>\n",
       "      <td>2020-10-01</td>\n",
       "      <td>2004-05-01</td>\n",
       "      <td>0.0</td>\n",
       "      <td>2.0</td>\n",
       "      <td>0.0</td>\n",
       "    </tr>\n",
       "    <tr>\n",
       "      <th>2</th>\n",
       "      <td>2</td>\n",
       "      <td>4250041a2c9a323864ef0d88195fa1d5a71aa837f78f7f...</td>\n",
       "      <td>全职教师</td>\n",
       "      <td>主动离职</td>\n",
       "      <td>2021-09-01</td>\n",
       "      <td>2021-10-01</td>\n",
       "      <td>2021-06-27</td>\n",
       "      <td>71.0</td>\n",
       "      <td>107.50</td>\n",
       "      <td>0.0</td>\n",
       "      <td>...</td>\n",
       "      <td>206</td>\n",
       "      <td>B</td>\n",
       "      <td>2021-09-01</td>\n",
       "      <td>2021-10-01</td>\n",
       "      <td>NaN</td>\n",
       "      <td>2020-10-01</td>\n",
       "      <td>2004-05-01</td>\n",
       "      <td>6.0</td>\n",
       "      <td>5.0</td>\n",
       "      <td>0.0</td>\n",
       "    </tr>\n",
       "    <tr>\n",
       "      <th>3</th>\n",
       "      <td>3</td>\n",
       "      <td>4250041a2c9a323864ef0d88195fa1d5a71aa837f78f7f...</td>\n",
       "      <td>全职教师</td>\n",
       "      <td>主动离职</td>\n",
       "      <td>2021-09-01</td>\n",
       "      <td>2021-10-01</td>\n",
       "      <td>2021-08-29</td>\n",
       "      <td>56.0</td>\n",
       "      <td>78.00</td>\n",
       "      <td>0.0</td>\n",
       "      <td>...</td>\n",
       "      <td>207.90</td>\n",
       "      <td>B</td>\n",
       "      <td>2021-09-01</td>\n",
       "      <td>2021-10-01</td>\n",
       "      <td></td>\n",
       "      <td>2020-10-01</td>\n",
       "      <td>2004-05-01</td>\n",
       "      <td>0.0</td>\n",
       "      <td>5.0</td>\n",
       "      <td>0.0</td>\n",
       "    </tr>\n",
       "    <tr>\n",
       "      <th>4</th>\n",
       "      <td>4</td>\n",
       "      <td>29a4ee71e3c86f7f4c1e73313529a5a01b378e9a088948...</td>\n",
       "      <td>全职员工</td>\n",
       "      <td>NaN</td>\n",
       "      <td>NaN</td>\n",
       "      <td>NaN</td>\n",
       "      <td>2022-02-20</td>\n",
       "      <td>37.0</td>\n",
       "      <td>62.16</td>\n",
       "      <td>5.0</td>\n",
       "      <td>...</td>\n",
       "      <td>211.61</td>\n",
       "      <td>S</td>\n",
       "      <td>NaN</td>\n",
       "      <td>NaN</td>\n",
       "      <td>NaN</td>\n",
       "      <td>2022-01-01</td>\n",
       "      <td>2004-07-01</td>\n",
       "      <td>0.0</td>\n",
       "      <td>0.0</td>\n",
       "      <td>0.0</td>\n",
       "    </tr>\n",
       "  </tbody>\n",
       "</table>\n",
       "<p>5 rows × 62 columns</p>\n",
       "</div>"
      ],
      "text/plain": [
       "   Unnamed: 0                                                 工号  员工类型  离职类型  \\\n",
       "0           0  ad621a23bd5c2474c1fe0909a8a38bb5fcccd382e855f9...  全职员工  被动离职   \n",
       "1           1  4250041a2c9a323864ef0d88195fa1d5a71aa837f78f7f...  全职教师  主动离职   \n",
       "2           2  4250041a2c9a323864ef0d88195fa1d5a71aa837f78f7f...  全职教师  主动离职   \n",
       "3           3  4250041a2c9a323864ef0d88195fa1d5a71aa837f78f7f...  全职教师  主动离职   \n",
       "4           4  29a4ee71e3c86f7f4c1e73313529a5a01b378e9a088948...  全职员工   NaN   \n",
       "\n",
       "         申请时间        确认时间        数据日期   消息发送    消息接收  在线文档被查阅总数  ...   司龄(月)  \\\n",
       "0         NaN  2021-12-31  2021-01-03  114.0  166.20        0.0  ...      24   \n",
       "1  2021-09-01  2021-10-01  2021-04-25  214.0  227.10        2.0  ...     204   \n",
       "2  2021-09-01  2021-10-01  2021-06-27   71.0  107.50        0.0  ...     206   \n",
       "3  2021-09-01  2021-10-01  2021-08-29   56.0   78.00        0.0  ...  207.90   \n",
       "4         NaN         NaN  2022-02-20   37.0   62.16        5.0  ...  211.61   \n",
       "\n",
       "   最近一次绩效  最新离职申请提交时间    最新离职生效时间  最新全转专日期      最新异动日期    最近一次入职时间  当周考勤打卡次数  \\\n",
       "0       S         NaN  2021-12-31      NaN  2021-09-01  2019-01-28       0.0   \n",
       "1       B  2021-09-01  2021-10-01      NaN  2020-10-01  2004-05-01       0.0   \n",
       "2       B  2021-09-01  2021-10-01      NaN  2020-10-01  2004-05-01       6.0   \n",
       "3       B  2021-09-01  2021-10-01           2020-10-01  2004-05-01       0.0   \n",
       "4       S         NaN         NaN      NaN  2022-01-01  2004-07-01       0.0   \n",
       "\n",
       "   当周应出勤天数  当周外勤打卡次数  \n",
       "0      1.0       0.0  \n",
       "1      2.0       0.0  \n",
       "2      5.0       0.0  \n",
       "3      5.0       0.0  \n",
       "4      0.0       0.0  \n",
       "\n",
       "[5 rows x 62 columns]"
      ]
     },
     "execution_count": 3,
     "metadata": {},
     "output_type": "execute_result"
    }
   ],
   "source": [
    "data.head(5)"
   ]
  },
  {
   "cell_type": "markdown",
   "id": "3488b26b",
   "metadata": {},
   "source": [
    "### 数据基本信息"
   ]
  },
  {
   "cell_type": "code",
   "execution_count": 5,
   "id": "03f42a18",
   "metadata": {
    "ExecuteTime": {
     "end_time": "2023-03-16T00:57:43.648035Z",
     "start_time": "2023-03-16T00:57:43.633036Z"
    }
   },
   "outputs": [
    {
     "name": "stdout",
     "output_type": "stream",
     "text": [
      "<class 'pandas.core.frame.DataFrame'>\n",
      "RangeIndex: 4547632 entries, 0 to 4547631\n",
      "Data columns (total 62 columns):\n",
      " #   Column      Dtype  \n",
      "---  ------      -----  \n",
      " 0   Unnamed: 0  int64  \n",
      " 1   工号          object \n",
      " 2   员工类型        object \n",
      " 3   离职类型        object \n",
      " 4   申请时间        object \n",
      " 5   确认时间        object \n",
      " 6   数据日期        object \n",
      " 7   消息发送        float64\n",
      " 8   消息接收        float64\n",
      " 9   在线文档被查阅总数   float64\n",
      " 10  在线文档被编辑总数   float64\n",
      " 11  在线文档被评论总数   float64\n",
      " 12  在线文档被收藏总数   float64\n",
      " 13  周报被阅读总数     float64\n",
      " 14  周报被点赞总数     float64\n",
      " 15  周报被评论总数     float64\n",
      " 16  在线文档查阅总数    float64\n",
      " 17  在线文档编辑总数    float64\n",
      " 18  在线文档评论总数    float64\n",
      " 19  在线文档收藏总数    float64\n",
      " 20  周报阅读总数      float64\n",
      " 21  周报点赞总数      float64\n",
      " 22  周报评论总数      float64\n",
      " 23  知音楼日均在线     float64\n",
      " 24  请假总天数       float64\n",
      " 25  周报字数        float64\n",
      " 26  音视频会议参与总时长  float64\n",
      " 27  音视频会议参与总数   float64\n",
      " 28  日程参与总数      float64\n",
      " 29  日程参与总时长     float64\n",
      " 30  线文档主被动评论人数  float64\n",
      " 31  线文档主被动编辑人数  float64\n",
      " 32  线文档主被动阅读人数  float64\n",
      " 33  文档评论中心度     float64\n",
      " 34  消息中心度       float64\n",
      " 35  文档编辑中心度     float64\n",
      " 36  文档阅读中心度     float64\n",
      " 37  消息沟通人数      float64\n",
      " 38  创建文档数       float64\n",
      " 39  文档沟通人数      float64\n",
      " 40  日程沟通人数      float64\n",
      " 41  会议沟通人数      float64\n",
      " 42  周报沟通人数      float64\n",
      " 43  语音电话时长m     float64\n",
      " 44  语音电话沟通人数    float64\n",
      " 45  性别          object \n",
      " 46  婚姻状况        object \n",
      " 47  最高学历学历      object \n",
      " 48  工龄(年)       float64\n",
      " 49  标准职级描述      float64\n",
      " 50  职务族描述       object \n",
      " 51  当前在岗时长(月)   float64\n",
      " 52  司龄(月)       object \n",
      " 53  最近一次绩效      object \n",
      " 54  最新离职申请提交时间  object \n",
      " 55  最新离职生效时间    object \n",
      " 56  最新全转专日期     object \n",
      " 57  最新异动日期      object \n",
      " 58  最近一次入职时间    object \n",
      " 59  当周考勤打卡次数    float64\n",
      " 60  当周应出勤天数     float64\n",
      " 61  当周外勤打卡次数    float64\n",
      "dtypes: float64(44), int64(1), object(17)\n",
      "memory usage: 2.1+ GB\n"
     ]
    }
   ],
   "source": [
    "data.info()"
   ]
  },
  {
   "cell_type": "markdown",
   "id": "075d020a",
   "metadata": {
    "ExecuteTime": {
     "end_time": "2023-03-14T10:25:06.209169Z",
     "start_time": "2023-03-14T10:25:06.191560Z"
    }
   },
   "source": [
    "## 数据压缩"
   ]
  },
  {
   "cell_type": "markdown",
   "id": "681d1ce6",
   "metadata": {
    "ExecuteTime": {
     "end_time": "2023-03-14T10:41:15.270743Z",
     "start_time": "2023-03-14T10:41:15.260744Z"
    }
   },
   "source": [
    "### 数据存储最小格式"
   ]
  },
  {
   "cell_type": "code",
   "execution_count": 6,
   "id": "9955c8d2",
   "metadata": {
    "ExecuteTime": {
     "end_time": "2023-03-16T00:57:43.663450Z",
     "start_time": "2023-03-16T00:57:43.650035Z"
    }
   },
   "outputs": [],
   "source": [
    "def check_smallest_dtype(df,cat_col=[]):\n",
    "    numerics=['int16','int32','int64','float16','float32','float64']\n",
    "    smallest_dtype={}\n",
    "    for col in df.columns:\n",
    "        col_type=df[col].dtypes\n",
    "        if col_type in numerics:\n",
    "            c_min=df[col].min()\n",
    "            c_max=df[col].max()\n",
    "            if str(col_type)[:3]=='int':\n",
    "                if c_min>np.iinfo(np.int8).min and c_max<np.iinfo(np.int8).max:\n",
    "                    smdp='int8'\n",
    "                elif c_min>np.iinfo(np.int16).min and c_max<np.iinfo(np.int16).max:\n",
    "                    smdp='int16'\n",
    "                elif c_min>np.iinfo(np.int32).min and c_max<np.iinfo(np.int32).max:\n",
    "                    smdp='int32'\n",
    "                elif c_min>np.iinfo(np.int64).min and c_max<np.iinfo(np.int64).max:\n",
    "                    smdp='int64'\n",
    "            if str(col_type)[:5]=='float':\n",
    "                if c_min>np.finfo(np.float16).min and c_max<np.finfo(np.float16).max:\n",
    "                    smdp='float16'\n",
    "                elif c_min>np.finfo(np.float32).min and c_max<np.finfo(np.float32).max:\n",
    "                    smdp='float32'\n",
    "                else:\n",
    "                    smdp='float64'\n",
    "        else:\n",
    "            if col in cat_col:\n",
    "                smdp='category'\n",
    "            else:\n",
    "                smdp=col_type\n",
    "        smallest_dtype[col]=smdp\n",
    "    return smallest_dtype\n"
   ]
  },
  {
   "cell_type": "code",
   "execution_count": 7,
   "id": "e19bd196",
   "metadata": {
    "ExecuteTime": {
     "end_time": "2023-03-16T00:57:44.358230Z",
     "start_time": "2023-03-16T00:57:43.665436Z"
    }
   },
   "outputs": [
    {
     "data": {
      "text/plain": [
       "{'Unnamed: 0': 'int32',\n",
       " '工号': dtype('O'),\n",
       " '员工类型': dtype('O'),\n",
       " '离职类型': dtype('O'),\n",
       " '申请时间': dtype('O'),\n",
       " '确认时间': dtype('O'),\n",
       " '数据日期': dtype('O'),\n",
       " '消息发送': 'float16',\n",
       " '消息接收': 'float16',\n",
       " '在线文档被查阅总数': 'float16',\n",
       " '在线文档被编辑总数': 'float16',\n",
       " '在线文档被评论总数': 'float16',\n",
       " '在线文档被收藏总数': 'float16',\n",
       " '周报被阅读总数': 'float16',\n",
       " '周报被点赞总数': 'float16',\n",
       " '周报被评论总数': 'float16',\n",
       " '在线文档查阅总数': 'float16',\n",
       " '在线文档编辑总数': 'float16',\n",
       " '在线文档评论总数': 'float16',\n",
       " '在线文档收藏总数': 'float16',\n",
       " '周报阅读总数': 'float16',\n",
       " '周报点赞总数': 'float16',\n",
       " '周报评论总数': 'float16',\n",
       " '知音楼日均在线': 'float16',\n",
       " '请假总天数': 'float16',\n",
       " '周报字数': 'float16',\n",
       " '音视频会议参与总时长': 'float16',\n",
       " '音视频会议参与总数': 'float16',\n",
       " '日程参与总数': 'float16',\n",
       " '日程参与总时长': 'float16',\n",
       " '线文档主被动评论人数': 'float16',\n",
       " '线文档主被动编辑人数': 'float16',\n",
       " '线文档主被动阅读人数': 'float16',\n",
       " '文档评论中心度': 'float16',\n",
       " '消息中心度': 'float16',\n",
       " '文档编辑中心度': 'float16',\n",
       " '文档阅读中心度': 'float16',\n",
       " '消息沟通人数': 'float16',\n",
       " '创建文档数': 'float16',\n",
       " '文档沟通人数': 'float16',\n",
       " '日程沟通人数': 'float16',\n",
       " '会议沟通人数': 'float16',\n",
       " '周报沟通人数': 'float16',\n",
       " '语音电话时长m': 'float16',\n",
       " '语音电话沟通人数': 'float16',\n",
       " '性别': dtype('O'),\n",
       " '婚姻状况': dtype('O'),\n",
       " '最高学历学历': dtype('O'),\n",
       " '工龄(年)': 'float16',\n",
       " '标准职级描述': 'float16',\n",
       " '职务族描述': dtype('O'),\n",
       " '当前在岗时长(月)': 'float16',\n",
       " '司龄(月)': dtype('O'),\n",
       " '最近一次绩效': dtype('O'),\n",
       " '最新离职申请提交时间': dtype('O'),\n",
       " '最新离职生效时间': dtype('O'),\n",
       " '最新全转专日期': dtype('O'),\n",
       " '最新异动日期': dtype('O'),\n",
       " '最近一次入职时间': dtype('O'),\n",
       " '当周考勤打卡次数': 'float16',\n",
       " '当周应出勤天数': 'float16',\n",
       " '当周外勤打卡次数': 'float16'}"
      ]
     },
     "execution_count": 7,
     "metadata": {},
     "output_type": "execute_result"
    }
   ],
   "source": [
    "ct_data=check_smallest_dtype(data)\n",
    "ct_data"
   ]
  },
  {
   "cell_type": "markdown",
   "id": "ada5100e",
   "metadata": {},
   "source": [
    "### 数据重新读取"
   ]
  },
  {
   "cell_type": "code",
   "execution_count": 8,
   "id": "14933fb4",
   "metadata": {
    "ExecuteTime": {
     "end_time": "2023-03-16T00:57:44.373173Z",
     "start_time": "2023-03-16T00:57:44.361173Z"
    }
   },
   "outputs": [],
   "source": [
    "#data=pd.read_csv('lizhiyucerun2022-07-28.csv',dtype=ct_data)"
   ]
  },
  {
   "cell_type": "code",
   "execution_count": 9,
   "id": "df94d5d8",
   "metadata": {
    "ExecuteTime": {
     "end_time": "2023-03-16T00:57:44.389174Z",
     "start_time": "2023-03-16T00:57:44.377172Z"
    }
   },
   "outputs": [],
   "source": [
    "#data.info()"
   ]
  },
  {
   "cell_type": "code",
   "execution_count": 10,
   "id": "140aef7f",
   "metadata": {
    "ExecuteTime": {
     "end_time": "2023-03-16T00:57:44.404288Z",
     "start_time": "2023-03-16T00:57:44.390176Z"
    }
   },
   "outputs": [],
   "source": [
    "#data.to_csv('ct_lzyc.csv')"
   ]
  },
  {
   "cell_type": "markdown",
   "id": "64f53502",
   "metadata": {},
   "source": [
    "## 数据提取"
   ]
  },
  {
   "cell_type": "markdown",
   "id": "38daaa82",
   "metadata": {},
   "source": [
    "### 数据选取"
   ]
  },
  {
   "cell_type": "markdown",
   "id": "9c03446f",
   "metadata": {},
   "source": [
    "由于‘最近一次绩效’缺失率较高，选取非空数据"
   ]
  },
  {
   "cell_type": "code",
   "execution_count": 11,
   "id": "87e1c00f",
   "metadata": {
    "ExecuteTime": {
     "end_time": "2023-03-16T00:57:45.315667Z",
     "start_time": "2023-03-16T00:57:44.407288Z"
    }
   },
   "outputs": [
    {
     "data": {
      "text/html": [
       "<div>\n",
       "<style scoped>\n",
       "    .dataframe tbody tr th:only-of-type {\n",
       "        vertical-align: middle;\n",
       "    }\n",
       "\n",
       "    .dataframe tbody tr th {\n",
       "        vertical-align: top;\n",
       "    }\n",
       "\n",
       "    .dataframe thead th {\n",
       "        text-align: right;\n",
       "    }\n",
       "</style>\n",
       "<table border=\"1\" class=\"dataframe\">\n",
       "  <thead>\n",
       "    <tr style=\"text-align: right;\">\n",
       "      <th></th>\n",
       "      <th>Unnamed: 0</th>\n",
       "      <th>工号</th>\n",
       "      <th>员工类型</th>\n",
       "      <th>离职类型</th>\n",
       "      <th>申请时间</th>\n",
       "      <th>确认时间</th>\n",
       "      <th>数据日期</th>\n",
       "      <th>消息发送</th>\n",
       "      <th>消息接收</th>\n",
       "      <th>在线文档被查阅总数</th>\n",
       "      <th>...</th>\n",
       "      <th>司龄(月)</th>\n",
       "      <th>最近一次绩效</th>\n",
       "      <th>最新离职申请提交时间</th>\n",
       "      <th>最新离职生效时间</th>\n",
       "      <th>最新全转专日期</th>\n",
       "      <th>最新异动日期</th>\n",
       "      <th>最近一次入职时间</th>\n",
       "      <th>当周考勤打卡次数</th>\n",
       "      <th>当周应出勤天数</th>\n",
       "      <th>当周外勤打卡次数</th>\n",
       "    </tr>\n",
       "  </thead>\n",
       "  <tbody>\n",
       "    <tr>\n",
       "      <th>0</th>\n",
       "      <td>0</td>\n",
       "      <td>ad621a23bd5c2474c1fe0909a8a38bb5fcccd382e855f9...</td>\n",
       "      <td>全职员工</td>\n",
       "      <td>被动离职</td>\n",
       "      <td>NaN</td>\n",
       "      <td>2021-12-31</td>\n",
       "      <td>2021-01-03</td>\n",
       "      <td>114.0</td>\n",
       "      <td>166.20</td>\n",
       "      <td>0.0</td>\n",
       "      <td>...</td>\n",
       "      <td>24</td>\n",
       "      <td>S</td>\n",
       "      <td>NaN</td>\n",
       "      <td>2021-12-31</td>\n",
       "      <td>NaN</td>\n",
       "      <td>2021-09-01</td>\n",
       "      <td>2019-01-28</td>\n",
       "      <td>0.0</td>\n",
       "      <td>1.0</td>\n",
       "      <td>0.0</td>\n",
       "    </tr>\n",
       "    <tr>\n",
       "      <th>1</th>\n",
       "      <td>1</td>\n",
       "      <td>4250041a2c9a323864ef0d88195fa1d5a71aa837f78f7f...</td>\n",
       "      <td>全职教师</td>\n",
       "      <td>主动离职</td>\n",
       "      <td>2021-09-01</td>\n",
       "      <td>2021-10-01</td>\n",
       "      <td>2021-04-25</td>\n",
       "      <td>214.0</td>\n",
       "      <td>227.10</td>\n",
       "      <td>2.0</td>\n",
       "      <td>...</td>\n",
       "      <td>204</td>\n",
       "      <td>B</td>\n",
       "      <td>2021-09-01</td>\n",
       "      <td>2021-10-01</td>\n",
       "      <td>NaN</td>\n",
       "      <td>2020-10-01</td>\n",
       "      <td>2004-05-01</td>\n",
       "      <td>0.0</td>\n",
       "      <td>2.0</td>\n",
       "      <td>0.0</td>\n",
       "    </tr>\n",
       "    <tr>\n",
       "      <th>2</th>\n",
       "      <td>2</td>\n",
       "      <td>4250041a2c9a323864ef0d88195fa1d5a71aa837f78f7f...</td>\n",
       "      <td>全职教师</td>\n",
       "      <td>主动离职</td>\n",
       "      <td>2021-09-01</td>\n",
       "      <td>2021-10-01</td>\n",
       "      <td>2021-06-27</td>\n",
       "      <td>71.0</td>\n",
       "      <td>107.50</td>\n",
       "      <td>0.0</td>\n",
       "      <td>...</td>\n",
       "      <td>206</td>\n",
       "      <td>B</td>\n",
       "      <td>2021-09-01</td>\n",
       "      <td>2021-10-01</td>\n",
       "      <td>NaN</td>\n",
       "      <td>2020-10-01</td>\n",
       "      <td>2004-05-01</td>\n",
       "      <td>6.0</td>\n",
       "      <td>5.0</td>\n",
       "      <td>0.0</td>\n",
       "    </tr>\n",
       "    <tr>\n",
       "      <th>3</th>\n",
       "      <td>3</td>\n",
       "      <td>4250041a2c9a323864ef0d88195fa1d5a71aa837f78f7f...</td>\n",
       "      <td>全职教师</td>\n",
       "      <td>主动离职</td>\n",
       "      <td>2021-09-01</td>\n",
       "      <td>2021-10-01</td>\n",
       "      <td>2021-08-29</td>\n",
       "      <td>56.0</td>\n",
       "      <td>78.00</td>\n",
       "      <td>0.0</td>\n",
       "      <td>...</td>\n",
       "      <td>207.90</td>\n",
       "      <td>B</td>\n",
       "      <td>2021-09-01</td>\n",
       "      <td>2021-10-01</td>\n",
       "      <td></td>\n",
       "      <td>2020-10-01</td>\n",
       "      <td>2004-05-01</td>\n",
       "      <td>0.0</td>\n",
       "      <td>5.0</td>\n",
       "      <td>0.0</td>\n",
       "    </tr>\n",
       "    <tr>\n",
       "      <th>4</th>\n",
       "      <td>4</td>\n",
       "      <td>29a4ee71e3c86f7f4c1e73313529a5a01b378e9a088948...</td>\n",
       "      <td>全职员工</td>\n",
       "      <td>NaN</td>\n",
       "      <td>NaN</td>\n",
       "      <td>NaN</td>\n",
       "      <td>2022-02-20</td>\n",
       "      <td>37.0</td>\n",
       "      <td>62.16</td>\n",
       "      <td>5.0</td>\n",
       "      <td>...</td>\n",
       "      <td>211.61</td>\n",
       "      <td>S</td>\n",
       "      <td>NaN</td>\n",
       "      <td>NaN</td>\n",
       "      <td>NaN</td>\n",
       "      <td>2022-01-01</td>\n",
       "      <td>2004-07-01</td>\n",
       "      <td>0.0</td>\n",
       "      <td>0.0</td>\n",
       "      <td>0.0</td>\n",
       "    </tr>\n",
       "    <tr>\n",
       "      <th>...</th>\n",
       "      <td>...</td>\n",
       "      <td>...</td>\n",
       "      <td>...</td>\n",
       "      <td>...</td>\n",
       "      <td>...</td>\n",
       "      <td>...</td>\n",
       "      <td>...</td>\n",
       "      <td>...</td>\n",
       "      <td>...</td>\n",
       "      <td>...</td>\n",
       "      <td>...</td>\n",
       "      <td>...</td>\n",
       "      <td>...</td>\n",
       "      <td>...</td>\n",
       "      <td>...</td>\n",
       "      <td>...</td>\n",
       "      <td>...</td>\n",
       "      <td>...</td>\n",
       "      <td>...</td>\n",
       "      <td>...</td>\n",
       "      <td>...</td>\n",
       "    </tr>\n",
       "    <tr>\n",
       "      <th>4547063</th>\n",
       "      <td>4547063</td>\n",
       "      <td>310c5a92cffb80a7fc91981b64c9cc94d3b609004be2d5...</td>\n",
       "      <td>全职教师</td>\n",
       "      <td>NaN</td>\n",
       "      <td>NaN</td>\n",
       "      <td>NaN</td>\n",
       "      <td>2022-03-06</td>\n",
       "      <td>1054.0</td>\n",
       "      <td>967.00</td>\n",
       "      <td>0.0</td>\n",
       "      <td>...</td>\n",
       "      <td>6.48</td>\n",
       "      <td>C</td>\n",
       "      <td>NaN</td>\n",
       "      <td>NaN</td>\n",
       "      <td>NaN</td>\n",
       "      <td>2022-07-01</td>\n",
       "      <td>2021-08-22</td>\n",
       "      <td>7.0</td>\n",
       "      <td>5.0</td>\n",
       "      <td>5.0</td>\n",
       "    </tr>\n",
       "    <tr>\n",
       "      <th>4547064</th>\n",
       "      <td>4547064</td>\n",
       "      <td>310c5a92cffb80a7fc91981b64c9cc94d3b609004be2d5...</td>\n",
       "      <td>全职教师</td>\n",
       "      <td>NaN</td>\n",
       "      <td>NaN</td>\n",
       "      <td>NaN</td>\n",
       "      <td>2022-05-08</td>\n",
       "      <td>362.0</td>\n",
       "      <td>387.20</td>\n",
       "      <td>0.0</td>\n",
       "      <td>...</td>\n",
       "      <td>8.55</td>\n",
       "      <td>C</td>\n",
       "      <td>NaN</td>\n",
       "      <td>NaN</td>\n",
       "      <td>NaN</td>\n",
       "      <td>2022-07-01</td>\n",
       "      <td>2021-08-22</td>\n",
       "      <td>6.0</td>\n",
       "      <td>3.0</td>\n",
       "      <td>0.0</td>\n",
       "    </tr>\n",
       "    <tr>\n",
       "      <th>4547189</th>\n",
       "      <td>4547189</td>\n",
       "      <td>40e7c552de3965628f09d7c0044044adb7553cb93353c6...</td>\n",
       "      <td>全职员工</td>\n",
       "      <td>NaN</td>\n",
       "      <td>NaN</td>\n",
       "      <td>NaN</td>\n",
       "      <td>2022-04-03</td>\n",
       "      <td>249.0</td>\n",
       "      <td>197.60</td>\n",
       "      <td>0.0</td>\n",
       "      <td>...</td>\n",
       "      <td>5.26</td>\n",
       "      <td>B</td>\n",
       "      <td>NaN</td>\n",
       "      <td>NaN</td>\n",
       "      <td>NaN</td>\n",
       "      <td>2022-07-01</td>\n",
       "      <td>2021-10-26</td>\n",
       "      <td>2.0</td>\n",
       "      <td>6.0</td>\n",
       "      <td>0.0</td>\n",
       "    </tr>\n",
       "    <tr>\n",
       "      <th>4547190</th>\n",
       "      <td>4547190</td>\n",
       "      <td>40e7c552de3965628f09d7c0044044adb7553cb93353c6...</td>\n",
       "      <td>全职员工</td>\n",
       "      <td>NaN</td>\n",
       "      <td>NaN</td>\n",
       "      <td>NaN</td>\n",
       "      <td>2022-06-05</td>\n",
       "      <td>83.0</td>\n",
       "      <td>73.44</td>\n",
       "      <td>3.0</td>\n",
       "      <td>...</td>\n",
       "      <td>7.32</td>\n",
       "      <td>B</td>\n",
       "      <td>NaN</td>\n",
       "      <td>NaN</td>\n",
       "      <td>NaN</td>\n",
       "      <td>2022-07-01</td>\n",
       "      <td>2021-10-26</td>\n",
       "      <td>0.0</td>\n",
       "      <td>4.0</td>\n",
       "      <td>0.0</td>\n",
       "    </tr>\n",
       "    <tr>\n",
       "      <th>4547247</th>\n",
       "      <td>4547247</td>\n",
       "      <td>4d8cbe96d1de9722905b8579076e9042d937681953ed31...</td>\n",
       "      <td>全职员工</td>\n",
       "      <td>NaN</td>\n",
       "      <td>NaN</td>\n",
       "      <td>NaN</td>\n",
       "      <td>2022-07-10</td>\n",
       "      <td>685.0</td>\n",
       "      <td>527.50</td>\n",
       "      <td>0.0</td>\n",
       "      <td>...</td>\n",
       "      <td>7.58</td>\n",
       "      <td>B</td>\n",
       "      <td>NaN</td>\n",
       "      <td>NaN</td>\n",
       "      <td>NaN</td>\n",
       "      <td>2022-05-01</td>\n",
       "      <td>2021-11-23</td>\n",
       "      <td>7.0</td>\n",
       "      <td>5.0</td>\n",
       "      <td>1.0</td>\n",
       "    </tr>\n",
       "  </tbody>\n",
       "</table>\n",
       "<p>1244033 rows × 62 columns</p>\n",
       "</div>"
      ],
      "text/plain": [
       "         Unnamed: 0                                                 工号  员工类型  \\\n",
       "0                 0  ad621a23bd5c2474c1fe0909a8a38bb5fcccd382e855f9...  全职员工   \n",
       "1                 1  4250041a2c9a323864ef0d88195fa1d5a71aa837f78f7f...  全职教师   \n",
       "2                 2  4250041a2c9a323864ef0d88195fa1d5a71aa837f78f7f...  全职教师   \n",
       "3                 3  4250041a2c9a323864ef0d88195fa1d5a71aa837f78f7f...  全职教师   \n",
       "4                 4  29a4ee71e3c86f7f4c1e73313529a5a01b378e9a088948...  全职员工   \n",
       "...             ...                                                ...   ...   \n",
       "4547063     4547063  310c5a92cffb80a7fc91981b64c9cc94d3b609004be2d5...  全职教师   \n",
       "4547064     4547064  310c5a92cffb80a7fc91981b64c9cc94d3b609004be2d5...  全职教师   \n",
       "4547189     4547189  40e7c552de3965628f09d7c0044044adb7553cb93353c6...  全职员工   \n",
       "4547190     4547190  40e7c552de3965628f09d7c0044044adb7553cb93353c6...  全职员工   \n",
       "4547247     4547247  4d8cbe96d1de9722905b8579076e9042d937681953ed31...  全职员工   \n",
       "\n",
       "         离职类型        申请时间        确认时间        数据日期    消息发送    消息接收  在线文档被查阅总数  \\\n",
       "0        被动离职         NaN  2021-12-31  2021-01-03   114.0  166.20        0.0   \n",
       "1        主动离职  2021-09-01  2021-10-01  2021-04-25   214.0  227.10        2.0   \n",
       "2        主动离职  2021-09-01  2021-10-01  2021-06-27    71.0  107.50        0.0   \n",
       "3        主动离职  2021-09-01  2021-10-01  2021-08-29    56.0   78.00        0.0   \n",
       "4         NaN         NaN         NaN  2022-02-20    37.0   62.16        5.0   \n",
       "...       ...         ...         ...         ...     ...     ...        ...   \n",
       "4547063   NaN         NaN         NaN  2022-03-06  1054.0  967.00        0.0   \n",
       "4547064   NaN         NaN         NaN  2022-05-08   362.0  387.20        0.0   \n",
       "4547189   NaN         NaN         NaN  2022-04-03   249.0  197.60        0.0   \n",
       "4547190   NaN         NaN         NaN  2022-06-05    83.0   73.44        3.0   \n",
       "4547247   NaN         NaN         NaN  2022-07-10   685.0  527.50        0.0   \n",
       "\n",
       "         ...   司龄(月)  最近一次绩效  最新离职申请提交时间    最新离职生效时间  最新全转专日期      最新异动日期  \\\n",
       "0        ...      24       S         NaN  2021-12-31      NaN  2021-09-01   \n",
       "1        ...     204       B  2021-09-01  2021-10-01      NaN  2020-10-01   \n",
       "2        ...     206       B  2021-09-01  2021-10-01      NaN  2020-10-01   \n",
       "3        ...  207.90       B  2021-09-01  2021-10-01           2020-10-01   \n",
       "4        ...  211.61       S         NaN         NaN      NaN  2022-01-01   \n",
       "...      ...     ...     ...         ...         ...      ...         ...   \n",
       "4547063  ...    6.48       C         NaN         NaN      NaN  2022-07-01   \n",
       "4547064  ...    8.55       C         NaN         NaN      NaN  2022-07-01   \n",
       "4547189  ...    5.26       B         NaN         NaN      NaN  2022-07-01   \n",
       "4547190  ...    7.32       B         NaN         NaN      NaN  2022-07-01   \n",
       "4547247  ...    7.58       B         NaN         NaN      NaN  2022-05-01   \n",
       "\n",
       "           最近一次入职时间  当周考勤打卡次数  当周应出勤天数  当周外勤打卡次数  \n",
       "0        2019-01-28       0.0      1.0       0.0  \n",
       "1        2004-05-01       0.0      2.0       0.0  \n",
       "2        2004-05-01       6.0      5.0       0.0  \n",
       "3        2004-05-01       0.0      5.0       0.0  \n",
       "4        2004-07-01       0.0      0.0       0.0  \n",
       "...             ...       ...      ...       ...  \n",
       "4547063  2021-08-22       7.0      5.0       5.0  \n",
       "4547064  2021-08-22       6.0      3.0       0.0  \n",
       "4547189  2021-10-26       2.0      6.0       0.0  \n",
       "4547190  2021-10-26       0.0      4.0       0.0  \n",
       "4547247  2021-11-23       7.0      5.0       1.0  \n",
       "\n",
       "[1244033 rows x 62 columns]"
      ]
     },
     "execution_count": 11,
     "metadata": {},
     "output_type": "execute_result"
    }
   ],
   "source": [
    "data=data[data['最近一次绩效'].notnull()]\n",
    "data"
   ]
  },
  {
   "cell_type": "markdown",
   "id": "8d1c6f27",
   "metadata": {},
   "source": [
    "### 数据查看"
   ]
  },
  {
   "cell_type": "code",
   "execution_count": 12,
   "id": "cf46dec3",
   "metadata": {
    "ExecuteTime": {
     "end_time": "2023-03-16T00:57:46.941673Z",
     "start_time": "2023-03-16T00:57:45.316667Z"
    }
   },
   "outputs": [
    {
     "name": "stdout",
     "output_type": "stream",
     "text": [
      "<class 'pandas.core.frame.DataFrame'>\n",
      "Int64Index: 1244033 entries, 0 to 4547247\n",
      "Data columns (total 62 columns):\n",
      " #   Column      Non-Null Count    Dtype  \n",
      "---  ------      --------------    -----  \n",
      " 0   Unnamed: 0  1244033 non-null  int64  \n",
      " 1   工号          1244033 non-null  object \n",
      " 2   员工类型        1244033 non-null  object \n",
      " 3   离职类型        858500 non-null   object \n",
      " 4   申请时间        564177 non-null   object \n",
      " 5   确认时间        864259 non-null   object \n",
      " 6   数据日期        1244033 non-null  object \n",
      " 7   消息发送        1231230 non-null  float64\n",
      " 8   消息接收        1231230 non-null  float64\n",
      " 9   在线文档被查阅总数   1231230 non-null  float64\n",
      " 10  在线文档被编辑总数   1231230 non-null  float64\n",
      " 11  在线文档被评论总数   1231230 non-null  float64\n",
      " 12  在线文档被收藏总数   1231230 non-null  float64\n",
      " 13  周报被阅读总数     1231230 non-null  float64\n",
      " 14  周报被点赞总数     1231230 non-null  float64\n",
      " 15  周报被评论总数     1231230 non-null  float64\n",
      " 16  在线文档查阅总数    1230546 non-null  float64\n",
      " 17  在线文档编辑总数    1230546 non-null  float64\n",
      " 18  在线文档评论总数    1230546 non-null  float64\n",
      " 19  在线文档收藏总数    1230546 non-null  float64\n",
      " 20  周报阅读总数      1230546 non-null  float64\n",
      " 21  周报点赞总数      1230546 non-null  float64\n",
      " 22  周报评论总数      1230546 non-null  float64\n",
      " 23  知音楼日均在线     1230531 non-null  float64\n",
      " 24  请假总天数       1231220 non-null  float64\n",
      " 25  周报字数        609833 non-null   float64\n",
      " 26  音视频会议参与总时长  1244033 non-null  float64\n",
      " 27  音视频会议参与总数   602211 non-null   float64\n",
      " 28  日程参与总数      914056 non-null   float64\n",
      " 29  日程参与总时长     914056 non-null   float64\n",
      " 30  线文档主被动评论人数  1231230 non-null  float64\n",
      " 31  线文档主被动编辑人数  1231230 non-null  float64\n",
      " 32  线文档主被动阅读人数  1231230 non-null  float64\n",
      " 33  文档评论中心度     1244033 non-null  float64\n",
      " 34  消息中心度       1244033 non-null  float64\n",
      " 35  文档编辑中心度     1244033 non-null  float64\n",
      " 36  文档阅读中心度     1244033 non-null  float64\n",
      " 37  消息沟通人数      1231230 non-null  float64\n",
      " 38  创建文档数       319311 non-null   float64\n",
      " 39  文档沟通人数      1231230 non-null  float64\n",
      " 40  日程沟通人数      1231230 non-null  float64\n",
      " 41  会议沟通人数      1231230 non-null  float64\n",
      " 42  周报沟通人数      1231230 non-null  float64\n",
      " 43  语音电话时长m     593852 non-null   float64\n",
      " 44  语音电话沟通人数    593852 non-null   float64\n",
      " 45  性别          1243379 non-null  object \n",
      " 46  婚姻状况        1243557 non-null  object \n",
      " 47  最高学历学历      1240592 non-null  object \n",
      " 48  工龄(年)       1244033 non-null  float64\n",
      " 49  标准职级描述      1244033 non-null  float64\n",
      " 50  职务族描述       1244023 non-null  object \n",
      " 51  当前在岗时长(月)   1244033 non-null  float64\n",
      " 52  司龄(月)       1244033 non-null  object \n",
      " 53  最近一次绩效      1244033 non-null  object \n",
      " 54  最新离职申请提交时间  564177 non-null   object \n",
      " 55  最新离职生效时间    864259 non-null   object \n",
      " 56  最新全转专日期     180724 non-null   object \n",
      " 57  最新异动日期      1061062 non-null  object \n",
      " 58  最近一次入职时间    1244024 non-null  object \n",
      " 59  当周考勤打卡次数    1244023 non-null  float64\n",
      " 60  当周应出勤天数     1244023 non-null  float64\n",
      " 61  当周外勤打卡次数    1244023 non-null  float64\n",
      "dtypes: float64(44), int64(1), object(17)\n",
      "memory usage: 597.9+ MB\n"
     ]
    }
   ],
   "source": [
    "data.info()"
   ]
  },
  {
   "cell_type": "code",
   "execution_count": 13,
   "id": "7a7edfab",
   "metadata": {
    "ExecuteTime": {
     "end_time": "2023-03-16T00:57:46.957670Z",
     "start_time": "2023-03-16T00:57:46.943666Z"
    }
   },
   "outputs": [
    {
     "data": {
      "text/plain": [
       "(1244033, 62)"
      ]
     },
     "execution_count": 13,
     "metadata": {},
     "output_type": "execute_result"
    }
   ],
   "source": [
    "data.shape"
   ]
  },
  {
   "cell_type": "code",
   "execution_count": 14,
   "id": "2e52e0b6",
   "metadata": {
    "ExecuteTime": {
     "end_time": "2023-03-16T00:57:47.273669Z",
     "start_time": "2023-03-16T00:57:46.959667Z"
    }
   },
   "outputs": [
    {
     "data": {
      "text/plain": [
       "(25775,)"
      ]
     },
     "execution_count": 14,
     "metadata": {},
     "output_type": "execute_result"
    }
   ],
   "source": [
    "data['工号'].unique().shape"
   ]
  },
  {
   "cell_type": "markdown",
   "id": "73bc710a",
   "metadata": {},
   "source": [
    "## 缺失值处理"
   ]
  },
  {
   "cell_type": "markdown",
   "id": "374093a0",
   "metadata": {},
   "source": [
    "### 查看数据缺失情况"
   ]
  },
  {
   "cell_type": "code",
   "execution_count": 15,
   "id": "2715e0c9",
   "metadata": {
    "ExecuteTime": {
     "end_time": "2023-03-16T00:57:54.489786Z",
     "start_time": "2023-03-16T00:57:47.276678Z"
    }
   },
   "outputs": [
    {
     "name": "stdout",
     "output_type": "stream",
     "text": [
      "离职类型 0.30990576616536697\n",
      "申请时间 0.5464935415700387\n",
      "确认时间 0.30527646774643435\n",
      "消息发送 0.01029152763632476\n",
      "消息接收 0.01029152763632476\n",
      "在线文档被查阅总数 0.01029152763632476\n",
      "在线文档被编辑总数 0.01029152763632476\n",
      "在线文档被评论总数 0.01029152763632476\n",
      "在线文档被收藏总数 0.01029152763632476\n",
      "周报被阅读总数 0.01029152763632476\n",
      "周报被点赞总数 0.01029152763632476\n",
      "周报被评论总数 0.01029152763632476\n",
      "在线文档查阅总数 0.010841352279240182\n",
      "在线文档编辑总数 0.010841352279240182\n",
      "在线文档评论总数 0.010841352279240182\n",
      "在线文档收藏总数 0.010841352279240182\n",
      "周报阅读总数 0.010841352279240182\n",
      "周报点赞总数 0.010841352279240182\n",
      "周报评论总数 0.010841352279240182\n",
      "知音楼日均在线 0.010853409837198853\n",
      "请假总天数 0.010299566008297208\n",
      "周报字数 0.5097935504926316\n",
      "音视频会议参与总数 0.5159203976100313\n",
      "日程参与总数 0.2652477868352367\n",
      "日程参与总时长 0.2652477868352367\n",
      "线文档主被动评论人数 0.01029152763632476\n",
      "线文档主被动编辑人数 0.01029152763632476\n",
      "线文档主被动阅读人数 0.01029152763632476\n",
      "消息沟通人数 0.01029152763632476\n",
      "创建文档数 0.743325940710576\n",
      "文档沟通人数 0.01029152763632476\n",
      "日程沟通人数 0.01029152763632476\n",
      "会议沟通人数 0.01029152763632476\n",
      "周报沟通人数 0.01029152763632476\n",
      "语音电话时长m 0.5226396727418002\n",
      "语音电话沟通人数 0.5226396727418002\n",
      "性别 0.0005257095269980781\n",
      "婚姻状况 0.00038262650588850937\n",
      "最高学历学历 0.0027660037957192452\n",
      "职务族描述 8.038371972447676e-06\n",
      "最新离职申请提交时间 0.5464935415700387\n",
      "最新离职生效时间 0.30527646774643435\n",
      "最新全转专日期 0.8547273263651366\n",
      "最新异动日期 0.14707889581707237\n",
      "最近一次入职时间 7.234534775202909e-06\n",
      "当周考勤打卡次数 8.038371972447676e-06\n",
      "当周应出勤天数 8.038371972447676e-06\n",
      "当周外勤打卡次数 8.038371972447676e-06\n"
     ]
    }
   ],
   "source": [
    "# qsl=data.apply(lambda x:x.isnull().sum()/len(x))\n",
    "# pd.DataFrame(qsl,columns=['缺失率'])\n",
    "# q\n",
    "def check_na(data):\n",
    "        null_val_sums = data.isnull().sum() +data.isin(['空']).sum()#统计每个列有多少缺失值\n",
    "\n",
    "        per_null = list(null_val_sums.values / len(data))  #计算缺失率\n",
    "        total = 0\n",
    "        for ele in range(0, len(per_null)):\n",
    "            total = total + per_null[ele]\n",
    "        \n",
    "        if total == 0:\n",
    "            print('所有变量无缺失值')\n",
    "        else:\n",
    "            for i in range(len(per_null)):\n",
    "                if per_null[i]!=0:\n",
    "                    print(list(data)[i],per_null[i])\n",
    "                    \n",
    "        return \n",
    "check_na(data)"
   ]
  },
  {
   "cell_type": "markdown",
   "id": "1d8ac9a3",
   "metadata": {},
   "source": [
    "缺失率较高特征：申请时间、音视频会议参与总数、创建文档数、语音电话时长m、语音电话沟通人数、最新离职申请提交时间、最新全转专日期"
   ]
  },
  {
   "cell_type": "markdown",
   "id": "413b3d64",
   "metadata": {},
   "source": [
    "### 删除缺失较高的列"
   ]
  },
  {
   "cell_type": "code",
   "execution_count": 16,
   "id": "dcd8cd04",
   "metadata": {
    "ExecuteTime": {
     "end_time": "2023-03-16T00:57:54.707020Z",
     "start_time": "2023-03-16T00:57:54.490786Z"
    }
   },
   "outputs": [],
   "source": [
    "data=data.drop(labels=['Unnamed: 0','音视频会议参与总数','创建文档数','语音电话时长m','语音电话沟通人数','最新离职申请提交时间','最新全转专日期'],axis=1)"
   ]
  },
  {
   "cell_type": "code",
   "execution_count": 17,
   "id": "5324ed20",
   "metadata": {
    "ExecuteTime": {
     "end_time": "2023-03-16T00:57:56.125939Z",
     "start_time": "2023-03-16T00:57:54.709020Z"
    },
    "collapsed": true
   },
   "outputs": [
    {
     "name": "stdout",
     "output_type": "stream",
     "text": [
      "<class 'pandas.core.frame.DataFrame'>\n",
      "Int64Index: 1244033 entries, 0 to 4547247\n",
      "Data columns (total 55 columns):\n",
      " #   Column      Non-Null Count    Dtype  \n",
      "---  ------      --------------    -----  \n",
      " 0   工号          1244033 non-null  object \n",
      " 1   员工类型        1244033 non-null  object \n",
      " 2   离职类型        858500 non-null   object \n",
      " 3   申请时间        564177 non-null   object \n",
      " 4   确认时间        864259 non-null   object \n",
      " 5   数据日期        1244033 non-null  object \n",
      " 6   消息发送        1231230 non-null  float64\n",
      " 7   消息接收        1231230 non-null  float64\n",
      " 8   在线文档被查阅总数   1231230 non-null  float64\n",
      " 9   在线文档被编辑总数   1231230 non-null  float64\n",
      " 10  在线文档被评论总数   1231230 non-null  float64\n",
      " 11  在线文档被收藏总数   1231230 non-null  float64\n",
      " 12  周报被阅读总数     1231230 non-null  float64\n",
      " 13  周报被点赞总数     1231230 non-null  float64\n",
      " 14  周报被评论总数     1231230 non-null  float64\n",
      " 15  在线文档查阅总数    1230546 non-null  float64\n",
      " 16  在线文档编辑总数    1230546 non-null  float64\n",
      " 17  在线文档评论总数    1230546 non-null  float64\n",
      " 18  在线文档收藏总数    1230546 non-null  float64\n",
      " 19  周报阅读总数      1230546 non-null  float64\n",
      " 20  周报点赞总数      1230546 non-null  float64\n",
      " 21  周报评论总数      1230546 non-null  float64\n",
      " 22  知音楼日均在线     1230531 non-null  float64\n",
      " 23  请假总天数       1231220 non-null  float64\n",
      " 24  周报字数        609833 non-null   float64\n",
      " 25  音视频会议参与总时长  1244033 non-null  float64\n",
      " 26  日程参与总数      914056 non-null   float64\n",
      " 27  日程参与总时长     914056 non-null   float64\n",
      " 28  线文档主被动评论人数  1231230 non-null  float64\n",
      " 29  线文档主被动编辑人数  1231230 non-null  float64\n",
      " 30  线文档主被动阅读人数  1231230 non-null  float64\n",
      " 31  文档评论中心度     1244033 non-null  float64\n",
      " 32  消息中心度       1244033 non-null  float64\n",
      " 33  文档编辑中心度     1244033 non-null  float64\n",
      " 34  文档阅读中心度     1244033 non-null  float64\n",
      " 35  消息沟通人数      1231230 non-null  float64\n",
      " 36  文档沟通人数      1231230 non-null  float64\n",
      " 37  日程沟通人数      1231230 non-null  float64\n",
      " 38  会议沟通人数      1231230 non-null  float64\n",
      " 39  周报沟通人数      1231230 non-null  float64\n",
      " 40  性别          1243379 non-null  object \n",
      " 41  婚姻状况        1243557 non-null  object \n",
      " 42  最高学历学历      1240592 non-null  object \n",
      " 43  工龄(年)       1244033 non-null  float64\n",
      " 44  标准职级描述      1244033 non-null  float64\n",
      " 45  职务族描述       1244023 non-null  object \n",
      " 46  当前在岗时长(月)   1244033 non-null  float64\n",
      " 47  司龄(月)       1244033 non-null  object \n",
      " 48  最近一次绩效      1244033 non-null  object \n",
      " 49  最新离职生效时间    864259 non-null   object \n",
      " 50  最新异动日期      1061062 non-null  object \n",
      " 51  最近一次入职时间    1244024 non-null  object \n",
      " 52  当周考勤打卡次数    1244023 non-null  float64\n",
      " 53  当周应出勤天数     1244023 non-null  float64\n",
      " 54  当周外勤打卡次数    1244023 non-null  float64\n",
      "dtypes: float64(40), object(15)\n",
      "memory usage: 531.5+ MB\n"
     ]
    }
   ],
   "source": [
    "data.info()"
   ]
  },
  {
   "cell_type": "markdown",
   "id": "5ae33f89",
   "metadata": {},
   "source": [
    "### 编码"
   ]
  },
  {
   "cell_type": "code",
   "execution_count": 18,
   "id": "43e4f89f",
   "metadata": {
    "ExecuteTime": {
     "end_time": "2023-03-16T00:57:56.142027Z",
     "start_time": "2023-03-16T00:57:56.127939Z"
    }
   },
   "outputs": [],
   "source": [
    "#定义人员类型\n",
    "def people_type(x):\n",
    "    if pd.isna(x['离职类型']) and pd.isna(x['申请时间']) and pd.isna(x['确认时间']):#判断是否为空值\n",
    "        return '000'\n",
    "    elif pd.isna(x['离职类型']) and pd.isna(x['申请时间']) and pd.notna(x['确认时间']):\n",
    "        return '001'\n",
    "    elif pd.isna(x['离职类型']) and pd.notna(x['申请时间']) and pd.isna(x['确认时间']):\n",
    "        return '010'\n",
    "    elif pd.isna(x['离职类型']) and pd.notna(x['申请时间']) and pd.notna(x['确认时间']):\n",
    "        return '011'\n",
    "    elif x['离职类型'] == '主动离职' and pd.isna(x['申请时间']) and pd.isna(x['确认时间']):\n",
    "        return '100'\n",
    "    elif x['离职类型'] == '主动离职' and pd.notna(x['申请时间']) and pd.isna(x['确认时间']):\n",
    "        return '110'\n",
    "    elif x['离职类型'] == '主动离职' and pd.isna(x['申请时间']) and pd.notna(x['确认时间']):\n",
    "        return '101'\n",
    "    elif x['离职类型'] == '主动离职' and pd.notna(x['申请时间']) and pd.notna(x['确认时间']):\n",
    "        if x['申请时间'] > x['确认时间']:\n",
    "            return '121'\n",
    "        else:\n",
    "            return '112'\n",
    "    elif x['离职类型'] == '被动离职' and pd.isna(x['申请时间']) and pd.isna(x['确认时间']):\n",
    "        return '200'\n",
    "    elif x['离职类型'] == '被动离职' and pd.notna(x['申请时间']) and pd.isna(x['确认时间']):\n",
    "        return '210'\n",
    "    elif x['离职类型'] == '被动离职' and pd.isna(x['申请时间']) and pd.notna(x['确认时间']):\n",
    "        return '201'\n",
    "    elif x['离职类型'] == '被动离职' and pd.notna(x['申请时间']) and pd.notna(x['确认时间']):\n",
    "        return '211'\n",
    "    else:\n",
    "        return '待定'"
   ]
  },
  {
   "cell_type": "code",
   "execution_count": 19,
   "id": "e8d6e647",
   "metadata": {
    "ExecuteTime": {
     "end_time": "2023-03-16T00:58:37.083218Z",
     "start_time": "2023-03-16T00:57:56.143954Z"
    }
   },
   "outputs": [],
   "source": [
    "# 人员类型\n",
    "data['人员类型'] = data.apply(lambda data:people_type(data),axis =1)"
   ]
  },
  {
   "cell_type": "code",
   "execution_count": 20,
   "id": "1678d9bb",
   "metadata": {
    "ExecuteTime": {
     "end_time": "2023-03-16T00:58:47.311107Z",
     "start_time": "2023-03-16T00:58:37.084146Z"
    }
   },
   "outputs": [],
   "source": [
    "def people_type(df):\n",
    "    if df['员工类型']=='全职员工':\n",
    "        return 0\n",
    "    elif df['员工类型']=='专职教师':\n",
    "        return 1\n",
    "    elif df['员工类型'] == '全职教师':\n",
    "        return 2\n",
    "    elif df['员工类型'] == '兼职教师':\n",
    "        return 3\n",
    "    elif df['员工类型'] == '兼职员工':\n",
    "        return 4\n",
    "    elif df['员工类型'] == '在编实习':\n",
    "        return 5\n",
    "data['员工类型'] = data.apply(lambda data:people_type(data),axis =1)"
   ]
  },
  {
   "cell_type": "code",
   "execution_count": 21,
   "id": "a5dd5f87",
   "metadata": {
    "ExecuteTime": {
     "end_time": "2023-03-16T00:58:56.413192Z",
     "start_time": "2023-03-16T00:58:47.311107Z"
    }
   },
   "outputs": [],
   "source": [
    "def lizhi_type(df):\n",
    "    if df['离职类型']=='被动离职':\n",
    "        return 0\n",
    "    elif df['离职类型']=='主动离职':\n",
    "        return 1\n",
    "data['离职类型']=data.apply(lambda data:lizhi_type(data),axis=1)"
   ]
  },
  {
   "cell_type": "code",
   "execution_count": 22,
   "id": "665431b7",
   "metadata": {
    "ExecuteTime": {
     "end_time": "2023-03-16T00:59:04.776210Z",
     "start_time": "2023-03-16T00:58:56.413192Z"
    }
   },
   "outputs": [],
   "source": [
    "def gender_type(df):\n",
    "    if df['性别']=='男':\n",
    "        return 0\n",
    "    else:\n",
    "        return 1\n",
    "data['性别']=data.apply(lambda data:gender_type(data),axis=1)"
   ]
  },
  {
   "cell_type": "code",
   "execution_count": 23,
   "id": "5c45d7f7",
   "metadata": {
    "ExecuteTime": {
     "end_time": "2023-03-16T00:59:13.774927Z",
     "start_time": "2023-03-16T00:59:04.776210Z"
    }
   },
   "outputs": [],
   "source": [
    "def marry_type(df):\n",
    "    if df['婚姻状况']=='未婚':\n",
    "        return 0\n",
    "    if df['婚姻状况']=='已婚':\n",
    "        return 1\n",
    "    if df['婚姻状况']=='未知':\n",
    "        return 2\n",
    "    if df['婚姻状况']=='离异':\n",
    "        return 3\n",
    "data['婚姻状况']=data.apply(lambda data:marry_type(data),axis=1)"
   ]
  },
  {
   "cell_type": "code",
   "execution_count": 26,
   "id": "502f8494",
   "metadata": {
    "ExecuteTime": {
     "end_time": "2023-03-16T01:00:23.479792Z",
     "start_time": "2023-03-16T01:00:23.426784Z"
    }
   },
   "outputs": [
    {
     "data": {
      "text/plain": [
       "array(['04-本科', '04 - 本科', '03-硕士研究生', '05-大专', '05 - 大专', '08 - 初中',\n",
       "       '03 - 硕士研究生', '07-中专/技校', '07 - 中专/技校', '06 - 高中', '06-高中',\n",
       "       '02-博士研究生', '02 - 博士研究生', nan, ' ', '09-小学及以下', '08-初中',\n",
       "       '09 - 小学及以下'], dtype=object)"
      ]
     },
     "execution_count": 26,
     "metadata": {},
     "output_type": "execute_result"
    }
   ],
   "source": [
    "data['最高学历学历'].unique()"
   ]
  },
  {
   "cell_type": "code",
   "execution_count": 34,
   "id": "63600b2d",
   "metadata": {
    "ExecuteTime": {
     "end_time": "2023-03-16T01:14:36.667820Z",
     "start_time": "2023-03-16T01:14:02.317178Z"
    }
   },
   "outputs": [],
   "source": [
    "# def eg(df):\n",
    "# #     if '小学及以下' in df['最高学历学历']:\n",
    "# #         return 0\n",
    "#     elif '初中' in df['最高学历学历']:\n",
    "#         return 1\n",
    "#     elif '中专/技校' in df['最高学历学历']:\n",
    "#         return 2\n",
    "#     elif '高中' in df['最高学历学历']:\n",
    "#         return 3\n",
    "#     elif '大专' in df['最高学历学历']:\n",
    "#         return 4\n",
    "#     elif '本科' in df['最高学历学历']:\n",
    "#         return 5\n",
    "#     elif '硕士研究生' in df['最高学历学历']:\n",
    "#         return 6\n",
    "#     elif '博士研究生' in df['最高学历学历']:\n",
    "#         return 7\n",
    "#     elif '博士后' in df['最高学历学历']:\n",
    "#         return 8\n",
    "#     else:\n",
    "\n",
    "def eg(df):\n",
    "    if df['最高学历学历']=='09-小学及以下':\n",
    "        return 0\n",
    "    elif (df['最高学历学历']=='08 - 初中') | (df['最高学历学历']=='08-初中'):\n",
    "        return 1\n",
    "    elif (df['最高学历学历']=='07-中专/技校')|(df['最高学历学历']=='07 - 中专/技校'):\n",
    "        return 2\n",
    "    elif (df['最高学历学历']=='06 - 高中')|(df['最高学历学历']=='06-高中'):\n",
    "        return 3\n",
    "    elif (df['最高学历学历']=='05-大专')|(df['最高学历学历']=='05 - 大专'):\n",
    "        return 4\n",
    "    elif (df['最高学历学历']=='04 - 本科')|(df['最高学历学历']=='04-本科'):\n",
    "        return 5\n",
    "    elif df['最高学历学历']=='03 - 硕士研究生':\n",
    "        return 6\n",
    "    elif (df['最高学历学历']=='02 - 博士研究生')|(df['最高学历学历']=='02-博士研究生'):\n",
    "        return 7\n",
    "        \n",
    "data['最高学历学历'] = data.apply(lambda data: eg(data), axis=1)"
   ]
  },
  {
   "cell_type": "code",
   "execution_count": 35,
   "id": "05398876",
   "metadata": {
    "ExecuteTime": {
     "end_time": "2023-03-16T01:15:21.602732Z",
     "start_time": "2023-03-16T01:15:02.662725Z"
    }
   },
   "outputs": [],
   "source": [
    "def zwz_type(df):\n",
    "    if df['职务族描述']=='教师':\n",
    "        return 0\n",
    "    elif df['职务族描述']=='技术':\n",
    "        return 1\n",
    "    elif df['职务族描述'] == '运营服务':\n",
    "        return 2\n",
    "    elif df['职务族描述']=='学科':\n",
    "        return 3\n",
    "    elif df['职务族描述']=='专业支持':\n",
    "        return 4\n",
    "    elif df['职务族描述']=='产品':\n",
    "        return 5\n",
    "    elif df['职务族描述']=='教研':\n",
    "        return 6\n",
    "    elif df['职务族描述']=='教学':\n",
    "        return 7\n",
    "    elif df['职务族描述']=='销售':\n",
    "        return 8\n",
    "    elif df['职务族描述']=='市场与公关师':\n",
    "        return 9\n",
    "    elif df['职务族描述']=='综合管理':\n",
    "        return 10\n",
    "    elif df['职务族描述']=='市场营销':\n",
    "        return 11\n",
    "    else:\n",
    "        return 0\n",
    "data['职务族描述'] = data.apply(lambda data:zwz_type(data),axis =1)"
   ]
  },
  {
   "cell_type": "code",
   "execution_count": 37,
   "id": "57e67662",
   "metadata": {
    "ExecuteTime": {
     "end_time": "2023-03-16T01:15:43.684323Z",
     "start_time": "2023-03-16T01:15:43.291324Z"
    }
   },
   "outputs": [],
   "source": [
    "data['司龄(月)']=pd.to_numeric(data['司龄(月)'],errors='coerce')\n",
    "data['司龄(月)'].fillna(data['司龄(月)'].median(),inplace=True)"
   ]
  },
  {
   "cell_type": "markdown",
   "id": "d2fff384",
   "metadata": {},
   "source": [
    "'S', 'B', 'B+', 'A', 'C', 'B-', 'D"
   ]
  },
  {
   "cell_type": "code",
   "execution_count": 59,
   "id": "d059c02c",
   "metadata": {
    "ExecuteTime": {
     "end_time": "2023-03-16T01:41:55.859550Z",
     "start_time": "2023-03-16T01:41:38.737529Z"
    }
   },
   "outputs": [],
   "source": [
    "def jx(df):\n",
    "    if df['最近一次绩效']=='D':\n",
    "        return 0\n",
    "    elif df['最近一次绩效']=='C':\n",
    "        return 1\n",
    "    elif df['最近一次绩效']=='B-':\n",
    "        return 2\n",
    "    elif df['最近一次绩效']=='B':\n",
    "        return 3\n",
    "    elif df['最近一次绩效']=='B+':\n",
    "        return 4\n",
    "    elif df['最近一次绩效']=='A':\n",
    "        return 5\n",
    "    elif df['最近一次绩效']=='S':\n",
    "        return 6\n",
    "data['最近一次绩效'] = data.apply(lambda data:jx(data),axis =1)"
   ]
  },
  {
   "cell_type": "code",
   "execution_count": 60,
   "id": "afce471e",
   "metadata": {
    "ExecuteTime": {
     "end_time": "2023-03-16T01:41:56.705866Z",
     "start_time": "2023-03-16T01:41:55.859550Z"
    }
   },
   "outputs": [
    {
     "name": "stdout",
     "output_type": "stream",
     "text": [
      "<class 'pandas.core.frame.DataFrame'>\n",
      "Int64Index: 1244033 entries, 0 to 4547247\n",
      "Data columns (total 56 columns):\n",
      " #   Column      Non-Null Count    Dtype  \n",
      "---  ------      --------------    -----  \n",
      " 0   工号          1244033 non-null  object \n",
      " 1   员工类型        1244033 non-null  int64  \n",
      " 2   离职类型        858500 non-null   float64\n",
      " 3   申请时间        564177 non-null   object \n",
      " 4   确认时间        864259 non-null   object \n",
      " 5   数据日期        1244033 non-null  object \n",
      " 6   消息发送        1231230 non-null  float64\n",
      " 7   消息接收        1231230 non-null  float64\n",
      " 8   在线文档被查阅总数   1231230 non-null  float64\n",
      " 9   在线文档被编辑总数   1231230 non-null  float64\n",
      " 10  在线文档被评论总数   1231230 non-null  float64\n",
      " 11  在线文档被收藏总数   1231230 non-null  float64\n",
      " 12  周报被阅读总数     1231230 non-null  float64\n",
      " 13  周报被点赞总数     1231230 non-null  float64\n",
      " 14  周报被评论总数     1231230 non-null  float64\n",
      " 15  在线文档查阅总数    1230546 non-null  float64\n",
      " 16  在线文档编辑总数    1230546 non-null  float64\n",
      " 17  在线文档评论总数    1230546 non-null  float64\n",
      " 18  在线文档收藏总数    1230546 non-null  float64\n",
      " 19  周报阅读总数      1230546 non-null  float64\n",
      " 20  周报点赞总数      1230546 non-null  float64\n",
      " 21  周报评论总数      1230546 non-null  float64\n",
      " 22  知音楼日均在线     1230531 non-null  float64\n",
      " 23  请假总天数       1231220 non-null  float64\n",
      " 24  周报字数        609833 non-null   float64\n",
      " 25  音视频会议参与总时长  1244033 non-null  float64\n",
      " 26  日程参与总数      914056 non-null   float64\n",
      " 27  日程参与总时长     914056 non-null   float64\n",
      " 28  线文档主被动评论人数  1231230 non-null  float64\n",
      " 29  线文档主被动编辑人数  1231230 non-null  float64\n",
      " 30  线文档主被动阅读人数  1231230 non-null  float64\n",
      " 31  文档评论中心度     1244033 non-null  float64\n",
      " 32  消息中心度       1244033 non-null  float64\n",
      " 33  文档编辑中心度     1244033 non-null  float64\n",
      " 34  文档阅读中心度     1244033 non-null  float64\n",
      " 35  消息沟通人数      1231230 non-null  float64\n",
      " 36  文档沟通人数      1231230 non-null  float64\n",
      " 37  日程沟通人数      1231230 non-null  float64\n",
      " 38  会议沟通人数      1231230 non-null  float64\n",
      " 39  周报沟通人数      1231230 non-null  float64\n",
      " 40  性别          1244033 non-null  int64  \n",
      " 41  婚姻状况        1243557 non-null  float64\n",
      " 42  最高学历学历      1154902 non-null  float64\n",
      " 43  工龄(年)       1244033 non-null  float64\n",
      " 44  标准职级描述      1244033 non-null  float64\n",
      " 45  职务族描述       1244033 non-null  int64  \n",
      " 46  当前在岗时长(月)   1244033 non-null  float64\n",
      " 47  司龄(月)       1244033 non-null  float64\n",
      " 48  最近一次绩效      1244033 non-null  int64  \n",
      " 49  最新离职生效时间    864259 non-null   object \n",
      " 50  最新异动日期      1061062 non-null  object \n",
      " 51  最近一次入职时间    1244024 non-null  object \n",
      " 52  当周考勤打卡次数    1244023 non-null  float64\n",
      " 53  当周应出勤天数     1244023 non-null  float64\n",
      " 54  当周外勤打卡次数    1244023 non-null  float64\n",
      " 55  人员类型        1244033 non-null  object \n",
      "dtypes: float64(44), int64(4), object(8)\n",
      "memory usage: 541.0+ MB\n"
     ]
    }
   ],
   "source": [
    "data.info()"
   ]
  },
  {
   "cell_type": "markdown",
   "id": "3a3e7025",
   "metadata": {},
   "source": [
    "### 缺失值填补"
   ]
  },
  {
   "cell_type": "code",
   "execution_count": 61,
   "id": "4fdfb6b4",
   "metadata": {
    "ExecuteTime": {
     "end_time": "2023-03-16T01:41:56.721310Z",
     "start_time": "2023-03-16T01:41:56.706811Z"
    }
   },
   "outputs": [],
   "source": [
    "def deal_outliers_deficiency(df):\n",
    "    if (df.dtypes=='float64')|(df.dtypes=='int64'):\n",
    "        Q1 = df.quantile(0.25)\n",
    "        Q3 = df.quantile(0.75)\n",
    "        IQR = Q3 - Q1\n",
    "        # 下阈值\n",
    "        val_low = Q1 - 1.5 * IQR\n",
    "        # 上阈值\n",
    "        val_up = Q3 + 1.5 * IQR\n",
    "        # print(Q1,Q3,IQR,val_up,val_low)\n",
    "        data = pd.array(df)\n",
    "        # 正常值的均值\n",
    "        sum = 0\n",
    "        i = 0\n",
    "        k = 0\n",
    "        for item in data:\n",
    "            k += 1\n",
    "            if (item > val_low) & (item < val_up):\n",
    "                sum += item\n",
    "                i += 1\n",
    "        # print(sum)\n",
    "        # print(i)\n",
    "        if i == 0:\n",
    "            normal_mean = sum / k\n",
    "        else:\n",
    "            normal_mean = sum / i\n",
    "\n",
    "        j = 0\n",
    "        for item in data:\n",
    "            # 异常值替换\n",
    "            if (item < val_low) | (item > val_up):\n",
    "                data[j] = normal_mean\n",
    "            j += 1\n",
    "        # nan的替换值\n",
    "        data = data.fillna(value=normal_mean)\n",
    "        return data\n",
    "    elif df.dtypes == 'object':\n",
    "        data = pd.array(df)\n",
    "        data = data.fillna(df.mode().iloc[0])  # 由于df.mode()返回frame，因此用iloc　安装行的index访问\n",
    "        return data"
   ]
  },
  {
   "cell_type": "code",
   "execution_count": 62,
   "id": "d5d569e9",
   "metadata": {
    "ExecuteTime": {
     "end_time": "2023-03-16T01:43:17.450982Z",
     "start_time": "2023-03-16T01:41:56.724269Z"
    }
   },
   "outputs": [],
   "source": [
    "fin_data = data.apply(deal_outliers_deficiency)"
   ]
  },
  {
   "cell_type": "code",
   "execution_count": 63,
   "id": "acbe6d96",
   "metadata": {
    "ExecuteTime": {
     "end_time": "2023-03-16T01:43:18.215940Z",
     "start_time": "2023-03-16T01:43:17.450982Z"
    }
   },
   "outputs": [
    {
     "data": {
      "text/plain": [
       "工号            False\n",
       "员工类型          False\n",
       "离职类型          False\n",
       "申请时间          False\n",
       "确认时间          False\n",
       "数据日期          False\n",
       "消息发送          False\n",
       "消息接收          False\n",
       "在线文档被查阅总数     False\n",
       "在线文档被编辑总数     False\n",
       "在线文档被评论总数     False\n",
       "在线文档被收藏总数     False\n",
       "周报被阅读总数       False\n",
       "周报被点赞总数       False\n",
       "周报被评论总数       False\n",
       "在线文档查阅总数      False\n",
       "在线文档编辑总数      False\n",
       "在线文档评论总数      False\n",
       "在线文档收藏总数      False\n",
       "周报阅读总数        False\n",
       "周报点赞总数        False\n",
       "周报评论总数        False\n",
       "知音楼日均在线       False\n",
       "请假总天数         False\n",
       "周报字数          False\n",
       "音视频会议参与总时长    False\n",
       "日程参与总数        False\n",
       "日程参与总时长       False\n",
       "线文档主被动评论人数    False\n",
       "线文档主被动编辑人数    False\n",
       "线文档主被动阅读人数    False\n",
       "文档评论中心度       False\n",
       "消息中心度         False\n",
       "文档编辑中心度       False\n",
       "文档阅读中心度       False\n",
       "消息沟通人数        False\n",
       "文档沟通人数        False\n",
       "日程沟通人数        False\n",
       "会议沟通人数        False\n",
       "周报沟通人数        False\n",
       "性别            False\n",
       "婚姻状况          False\n",
       "最高学历学历        False\n",
       "工龄(年)         False\n",
       "标准职级描述        False\n",
       "职务族描述         False\n",
       "当前在岗时长(月)     False\n",
       "司龄(月)         False\n",
       "最近一次绩效        False\n",
       "最新离职生效时间      False\n",
       "最新异动日期        False\n",
       "最近一次入职时间      False\n",
       "当周考勤打卡次数      False\n",
       "当周应出勤天数       False\n",
       "当周外勤打卡次数      False\n",
       "人员类型          False\n",
       "dtype: bool"
      ]
     },
     "execution_count": 63,
     "metadata": {},
     "output_type": "execute_result"
    }
   ],
   "source": [
    "fin_data.isnull().any()"
   ]
  },
  {
   "cell_type": "code",
   "execution_count": 18,
   "id": "73f6d80e",
   "metadata": {
    "ExecuteTime": {
     "end_time": "2023-03-16T10:26:36.698251Z",
     "start_time": "2023-03-16T10:26:35.710259Z"
    },
    "scrolled": false
   },
   "outputs": [
    {
     "name": "stdout",
     "output_type": "stream",
     "text": [
      "<class 'pandas.core.frame.DataFrame'>\n",
      "RangeIndex: 1244033 entries, 0 to 1244032\n",
      "Data columns (total 56 columns):\n",
      " #   Column      Non-Null Count    Dtype  \n",
      "---  ------      --------------    -----  \n",
      " 0   工号          1244033 non-null  object \n",
      " 1   员工类型        1244033 non-null  int64  \n",
      " 2   离职类型        1244033 non-null  float64\n",
      " 3   申请时间        1244033 non-null  object \n",
      " 4   确认时间        1244033 non-null  object \n",
      " 5   数据日期        1244033 non-null  object \n",
      " 6   消息发送        1244033 non-null  float64\n",
      " 7   消息接收        1244033 non-null  float64\n",
      " 8   在线文档被查阅总数   1244033 non-null  float64\n",
      " 9   在线文档被编辑总数   1244033 non-null  float64\n",
      " 10  在线文档被评论总数   1244033 non-null  float64\n",
      " 11  在线文档被收藏总数   1244033 non-null  float64\n",
      " 12  周报被阅读总数     1244033 non-null  float64\n",
      " 13  周报被点赞总数     1244033 non-null  float64\n",
      " 14  周报被评论总数     1244033 non-null  float64\n",
      " 15  在线文档查阅总数    1244033 non-null  float64\n",
      " 16  在线文档编辑总数    1244033 non-null  float64\n",
      " 17  在线文档评论总数    1244033 non-null  float64\n",
      " 18  在线文档收藏总数    1244033 non-null  float64\n",
      " 19  周报阅读总数      1244033 non-null  float64\n",
      " 20  周报点赞总数      1244033 non-null  float64\n",
      " 21  周报评论总数      1244033 non-null  float64\n",
      " 22  知音楼日均在线     1244033 non-null  float64\n",
      " 23  请假总天数       1244033 non-null  float64\n",
      " 24  周报字数        1244033 non-null  float64\n",
      " 25  音视频会议参与总时长  1244033 non-null  float64\n",
      " 26  日程参与总数      1244033 non-null  float64\n",
      " 27  日程参与总时长     1244033 non-null  float64\n",
      " 28  线文档主被动评论人数  1244033 non-null  float64\n",
      " 29  线文档主被动编辑人数  1244033 non-null  float64\n",
      " 30  线文档主被动阅读人数  1244033 non-null  float64\n",
      " 31  文档评论中心度     1244033 non-null  float64\n",
      " 32  消息中心度       1244033 non-null  float64\n",
      " 33  文档编辑中心度     1244033 non-null  float64\n",
      " 34  文档阅读中心度     1244033 non-null  float64\n",
      " 35  消息沟通人数      1244033 non-null  float64\n",
      " 36  文档沟通人数      1244033 non-null  float64\n",
      " 37  日程沟通人数      1244033 non-null  float64\n",
      " 38  会议沟通人数      1244033 non-null  float64\n",
      " 39  周报沟通人数      1244033 non-null  float64\n",
      " 40  性别          1244033 non-null  int64  \n",
      " 41  婚姻状况        1244033 non-null  float64\n",
      " 42  最高学历学历      1244033 non-null  float64\n",
      " 43  工龄(年)       1244033 non-null  float64\n",
      " 44  标准职级描述      1244033 non-null  float64\n",
      " 45  职务族描述       1244033 non-null  int64  \n",
      " 46  当前在岗时长(月)   1244033 non-null  float64\n",
      " 47  司龄(月)       1244033 non-null  float64\n",
      " 48  最近一次绩效      1244033 non-null  int64  \n",
      " 49  最新离职生效时间    1244033 non-null  object \n",
      " 50  最新异动日期      1244033 non-null  object \n",
      " 51  最近一次入职时间    1244033 non-null  object \n",
      " 52  当周考勤打卡次数    1244033 non-null  float64\n",
      " 53  当周应出勤天数     1244033 non-null  float64\n",
      " 54  当周外勤打卡次数    1244033 non-null  float64\n",
      " 55  人员类型        1244033 non-null  int64  \n",
      "dtypes: float64(44), int64(5), object(7)\n",
      "memory usage: 531.5+ MB\n"
     ]
    }
   ],
   "source": [
    "# fin_data=fin_data.drop(columns='Unnamed: 0')\n",
    "#fin_data.to_csv('fin_data')\n",
    "fin_data.info()"
   ]
  },
  {
   "cell_type": "markdown",
   "id": "dcf15c81",
   "metadata": {},
   "source": [
    "# 特征工程"
   ]
  },
  {
   "cell_type": "markdown",
   "id": "1da40c16",
   "metadata": {},
   "source": [
    "思路：筛选特征，然后对数据异常大的特征进行对数变换或分箱处理"
   ]
  },
  {
   "cell_type": "code",
   "execution_count": 3,
   "id": "5d9ffe76",
   "metadata": {
    "ExecuteTime": {
     "end_time": "2023-03-18T08:12:24.889974Z",
     "start_time": "2023-03-18T08:12:20.069108Z"
    }
   },
   "outputs": [
    {
     "data": {
      "text/html": [
       "<div>\n",
       "<style scoped>\n",
       "    .dataframe tbody tr th:only-of-type {\n",
       "        vertical-align: middle;\n",
       "    }\n",
       "\n",
       "    .dataframe tbody tr th {\n",
       "        vertical-align: top;\n",
       "    }\n",
       "\n",
       "    .dataframe thead th {\n",
       "        text-align: right;\n",
       "    }\n",
       "</style>\n",
       "<table border=\"1\" class=\"dataframe\">\n",
       "  <thead>\n",
       "    <tr style=\"text-align: right;\">\n",
       "      <th></th>\n",
       "      <th>工号</th>\n",
       "      <th>员工类型</th>\n",
       "      <th>离职类型</th>\n",
       "      <th>申请时间</th>\n",
       "      <th>确认时间</th>\n",
       "      <th>数据日期</th>\n",
       "      <th>消息发送</th>\n",
       "      <th>消息接收</th>\n",
       "      <th>在线文档被查阅总数</th>\n",
       "      <th>在线文档被编辑总数</th>\n",
       "      <th>...</th>\n",
       "      <th>当前在岗时长(月)</th>\n",
       "      <th>司龄(月)</th>\n",
       "      <th>最近一次绩效</th>\n",
       "      <th>最新离职生效时间</th>\n",
       "      <th>最新异动日期</th>\n",
       "      <th>最近一次入职时间</th>\n",
       "      <th>当周考勤打卡次数</th>\n",
       "      <th>当周应出勤天数</th>\n",
       "      <th>当周外勤打卡次数</th>\n",
       "      <th>人员类型</th>\n",
       "    </tr>\n",
       "  </thead>\n",
       "  <tbody>\n",
       "    <tr>\n",
       "      <th>0</th>\n",
       "      <td>ad621a23bd5c2474c1fe0909a8a38bb5fcccd382e855f9...</td>\n",
       "      <td>0</td>\n",
       "      <td>0.0</td>\n",
       "      <td>2021-12-27</td>\n",
       "      <td>2021-12-31</td>\n",
       "      <td>2021-01-03</td>\n",
       "      <td>114.0</td>\n",
       "      <td>166.20</td>\n",
       "      <td>0.0</td>\n",
       "      <td>0.0</td>\n",
       "      <td>...</td>\n",
       "      <td>10.0</td>\n",
       "      <td>24.000000</td>\n",
       "      <td>3</td>\n",
       "      <td>2021-12-31</td>\n",
       "      <td>2021-09-01</td>\n",
       "      <td>2019-01-28</td>\n",
       "      <td>0.0</td>\n",
       "      <td>1.0</td>\n",
       "      <td>0.0</td>\n",
       "      <td>201</td>\n",
       "    </tr>\n",
       "    <tr>\n",
       "      <th>1</th>\n",
       "      <td>4250041a2c9a323864ef0d88195fa1d5a71aa837f78f7f...</td>\n",
       "      <td>2</td>\n",
       "      <td>0.0</td>\n",
       "      <td>2021-09-01</td>\n",
       "      <td>2021-10-01</td>\n",
       "      <td>2021-04-25</td>\n",
       "      <td>214.0</td>\n",
       "      <td>227.10</td>\n",
       "      <td>2.0</td>\n",
       "      <td>0.0</td>\n",
       "      <td>...</td>\n",
       "      <td>7.0</td>\n",
       "      <td>35.537734</td>\n",
       "      <td>3</td>\n",
       "      <td>2021-10-01</td>\n",
       "      <td>2020-10-01</td>\n",
       "      <td>2004-05-01</td>\n",
       "      <td>0.0</td>\n",
       "      <td>2.0</td>\n",
       "      <td>0.0</td>\n",
       "      <td>112</td>\n",
       "    </tr>\n",
       "    <tr>\n",
       "      <th>2</th>\n",
       "      <td>4250041a2c9a323864ef0d88195fa1d5a71aa837f78f7f...</td>\n",
       "      <td>2</td>\n",
       "      <td>0.0</td>\n",
       "      <td>2021-09-01</td>\n",
       "      <td>2021-10-01</td>\n",
       "      <td>2021-06-27</td>\n",
       "      <td>71.0</td>\n",
       "      <td>107.50</td>\n",
       "      <td>0.0</td>\n",
       "      <td>0.0</td>\n",
       "      <td>...</td>\n",
       "      <td>9.0</td>\n",
       "      <td>35.537734</td>\n",
       "      <td>3</td>\n",
       "      <td>2021-10-01</td>\n",
       "      <td>2020-10-01</td>\n",
       "      <td>2004-05-01</td>\n",
       "      <td>6.0</td>\n",
       "      <td>5.0</td>\n",
       "      <td>0.0</td>\n",
       "      <td>112</td>\n",
       "    </tr>\n",
       "    <tr>\n",
       "      <th>3</th>\n",
       "      <td>4250041a2c9a323864ef0d88195fa1d5a71aa837f78f7f...</td>\n",
       "      <td>2</td>\n",
       "      <td>0.0</td>\n",
       "      <td>2021-09-01</td>\n",
       "      <td>2021-10-01</td>\n",
       "      <td>2021-08-29</td>\n",
       "      <td>56.0</td>\n",
       "      <td>78.00</td>\n",
       "      <td>0.0</td>\n",
       "      <td>0.0</td>\n",
       "      <td>...</td>\n",
       "      <td>10.0</td>\n",
       "      <td>35.537734</td>\n",
       "      <td>3</td>\n",
       "      <td>2021-10-01</td>\n",
       "      <td>2020-10-01</td>\n",
       "      <td>2004-05-01</td>\n",
       "      <td>0.0</td>\n",
       "      <td>5.0</td>\n",
       "      <td>0.0</td>\n",
       "      <td>112</td>\n",
       "    </tr>\n",
       "    <tr>\n",
       "      <th>4</th>\n",
       "      <td>29a4ee71e3c86f7f4c1e73313529a5a01b378e9a088948...</td>\n",
       "      <td>0</td>\n",
       "      <td>0.0</td>\n",
       "      <td>2021-12-27</td>\n",
       "      <td>2021-12-31</td>\n",
       "      <td>2022-02-20</td>\n",
       "      <td>37.0</td>\n",
       "      <td>62.16</td>\n",
       "      <td>5.0</td>\n",
       "      <td>0.0</td>\n",
       "      <td>...</td>\n",
       "      <td>1.0</td>\n",
       "      <td>35.537734</td>\n",
       "      <td>3</td>\n",
       "      <td>2021-12-31</td>\n",
       "      <td>2022-01-01</td>\n",
       "      <td>2004-07-01</td>\n",
       "      <td>0.0</td>\n",
       "      <td>0.0</td>\n",
       "      <td>0.0</td>\n",
       "      <td>0</td>\n",
       "    </tr>\n",
       "  </tbody>\n",
       "</table>\n",
       "<p>5 rows × 56 columns</p>\n",
       "</div>"
      ],
      "text/plain": [
       "                                                  工号  员工类型  离职类型        申请时间  \\\n",
       "0  ad621a23bd5c2474c1fe0909a8a38bb5fcccd382e855f9...     0   0.0  2021-12-27   \n",
       "1  4250041a2c9a323864ef0d88195fa1d5a71aa837f78f7f...     2   0.0  2021-09-01   \n",
       "2  4250041a2c9a323864ef0d88195fa1d5a71aa837f78f7f...     2   0.0  2021-09-01   \n",
       "3  4250041a2c9a323864ef0d88195fa1d5a71aa837f78f7f...     2   0.0  2021-09-01   \n",
       "4  29a4ee71e3c86f7f4c1e73313529a5a01b378e9a088948...     0   0.0  2021-12-27   \n",
       "\n",
       "         确认时间        数据日期   消息发送    消息接收  在线文档被查阅总数  在线文档被编辑总数  ...  \\\n",
       "0  2021-12-31  2021-01-03  114.0  166.20        0.0        0.0  ...   \n",
       "1  2021-10-01  2021-04-25  214.0  227.10        2.0        0.0  ...   \n",
       "2  2021-10-01  2021-06-27   71.0  107.50        0.0        0.0  ...   \n",
       "3  2021-10-01  2021-08-29   56.0   78.00        0.0        0.0  ...   \n",
       "4  2021-12-31  2022-02-20   37.0   62.16        5.0        0.0  ...   \n",
       "\n",
       "   当前在岗时长(月)      司龄(月)  最近一次绩效    最新离职生效时间      最新异动日期    最近一次入职时间  当周考勤打卡次数  \\\n",
       "0       10.0  24.000000       3  2021-12-31  2021-09-01  2019-01-28       0.0   \n",
       "1        7.0  35.537734       3  2021-10-01  2020-10-01  2004-05-01       0.0   \n",
       "2        9.0  35.537734       3  2021-10-01  2020-10-01  2004-05-01       6.0   \n",
       "3       10.0  35.537734       3  2021-10-01  2020-10-01  2004-05-01       0.0   \n",
       "4        1.0  35.537734       3  2021-12-31  2022-01-01  2004-07-01       0.0   \n",
       "\n",
       "   当周应出勤天数  当周外勤打卡次数  人员类型  \n",
       "0      1.0       0.0   201  \n",
       "1      2.0       0.0   112  \n",
       "2      5.0       0.0   112  \n",
       "3      5.0       0.0   112  \n",
       "4      0.0       0.0     0  \n",
       "\n",
       "[5 rows x 56 columns]"
      ]
     },
     "execution_count": 3,
     "metadata": {},
     "output_type": "execute_result"
    }
   ],
   "source": [
    "fin_data=pd.read_csv('fin_data')\n",
    "fin_data=fin_data.drop(columns='Unnamed: 0')\n",
    "fin_data.head()"
   ]
  },
  {
   "cell_type": "code",
   "execution_count": 4,
   "id": "c85f533b",
   "metadata": {
    "ExecuteTime": {
     "end_time": "2023-03-18T08:12:24.949980Z",
     "start_time": "2023-03-18T08:12:24.890975Z"
    },
    "collapsed": true
   },
   "outputs": [
    {
     "data": {
      "text/plain": [
       "array(['2021-01-03', '2021-04-25', '2021-06-27', '2021-08-29',\n",
       "       '2022-02-20', '2021-09-12', '2021-02-21', '2021-01-10',\n",
       "       '2021-05-30', '2022-01-16', '2022-02-06', '2021-11-14',\n",
       "       '2021-02-14', '2022-01-30', '2021-03-21', '2021-05-23',\n",
       "       '2021-07-25', '2021-10-17', '2021-12-19', '2021-01-31',\n",
       "       '2022-04-10', '2022-06-12', '2021-09-05', '2021-06-20',\n",
       "       '2021-08-22', '2022-03-06', '2022-05-08', '2022-02-13',\n",
       "       '2021-09-26', '2022-04-24', '2022-06-26', '2021-08-01',\n",
       "       '2021-11-28', '2021-11-07', '2021-04-11', '2021-06-13',\n",
       "       '2021-08-15', '2021-05-02', '2021-07-04', '2021-02-07',\n",
       "       '2021-03-14', '2021-05-16', '2021-07-18', '2022-02-27',\n",
       "       '2021-10-03', '2021-12-05', '2021-02-28', '2022-01-02',\n",
       "       '2022-04-03', '2022-06-05', '2021-04-04', '2021-06-06',\n",
       "       '2021-08-08', '2021-10-10', '2021-12-12', '2021-09-19',\n",
       "       '2021-11-21', '2022-03-20', '2022-05-22', '2022-07-24',\n",
       "       '2021-10-31', '2022-01-23', '2021-04-18', '2021-10-24',\n",
       "       '2021-12-26', '2021-03-07', '2021-05-09', '2022-05-01',\n",
       "       '2022-07-03', '2021-07-11', '2021-01-17', '2021-03-28',\n",
       "       '2022-07-10', '2022-01-09', '2022-03-13', '2022-05-15',\n",
       "       '2022-07-17', '2022-04-17', '2022-06-19', '2022-03-27',\n",
       "       '2022-05-29', '2021-01-24'], dtype=object)"
      ]
     },
     "execution_count": 4,
     "metadata": {},
     "output_type": "execute_result"
    }
   ],
   "source": [
    "fin_data['数据日期'].unique()"
   ]
  },
  {
   "cell_type": "code",
   "execution_count": 5,
   "id": "31160cd4",
   "metadata": {
    "ExecuteTime": {
     "end_time": "2023-03-18T08:12:25.009972Z",
     "start_time": "2023-03-18T08:12:24.951975Z"
    },
    "collapsed": true
   },
   "outputs": [
    {
     "data": {
      "text/plain": [
       "array(['2021-12-31', '2021-10-01', '2021-11-24', '2022-03-16',\n",
       "       '2017-01-01', '2022-01-01', '2022-03-01', '2022-02-18',\n",
       "       '2014-04-05', '2021-12-30', '2018-07-14', '2021-09-19',\n",
       "       '2012-11-12', '2021-12-16', '2022-01-19', '2022-02-01',\n",
       "       '2021-09-11', '2022-03-26', '2022-01-17', '2022-01-18',\n",
       "       '2021-11-12', '2021-12-01', '2021-11-25', '2021-10-30',\n",
       "       '2021-07-31', '2021-10-16', '2021-11-17', '2022-04-09',\n",
       "       '2022-01-21', '2021-08-11', '2021-10-27', '2022-02-11',\n",
       "       '2022-03-19', '2021-11-06', '2022-02-26', '2022-01-22',\n",
       "       '2021-08-07', '2022-07-01', '2021-11-19', '2022-05-31',\n",
       "       '2022-06-11', '2021-05-08', '2021-11-16', '2022-01-15',\n",
       "       '2021-07-17', '2021-10-10', '2021-10-19', '2021-12-18',\n",
       "       '2021-10-13', '2021-12-10', '2022-02-23', '2012-09-01',\n",
       "       '2021-09-16', '2021-11-09', '2021-10-17', '2021-11-13',\n",
       "       '2021-12-07', '2017-07-13', '2021-06-02', '2022-02-17',\n",
       "       '2022-04-30', '2022-06-25', '2021-09-01', '2022-07-21',\n",
       "       '2021-10-26', '2022-03-17', '2021-09-14', '2013-03-13',\n",
       "       '2021-11-01', '2014-05-08', '2014-10-14', '2012-04-05',\n",
       "       '2022-01-12', '2021-12-17', '2021-03-29', '2021-07-03',\n",
       "       '2021-10-31', '2022-07-16', '2014-06-23', '2021-05-20',\n",
       "       '2013-04-16', '2015-10-23', '2021-11-29', '2022-01-13',\n",
       "       '2021-07-10', '2014-03-01', '2021-08-21', '2021-11-27',\n",
       "       '2022-01-10', '2022-04-01', '2013-06-20', '2014-01-01',\n",
       "       '2021-09-24', '2013-06-01', '2015-02-16', '2022-05-01',\n",
       "       '2022-05-20', '2017-03-30', '2017-08-24', '2021-12-02',\n",
       "       '2019-01-01', '2014-03-21', '2021-11-26', '2021-12-08',\n",
       "       '2021-11-11', '2021-12-26', '2021-09-29', '2021-09-25',\n",
       "       '2022-06-01', '2021-12-28', '2022-01-11', '2013-06-19',\n",
       "       '2022-03-05', '2021-08-02', '2013-11-01', '2014-08-01',\n",
       "       '2015-07-04', '2021-11-20', '2015-09-22', '2021-11-30',\n",
       "       '2022-06-18', '2022-01-29', '2014-09-01', '2021-12-03',\n",
       "       '2015-04-22', '2014-10-04', '2022-01-31', '2012-04-11',\n",
       "       '2021-07-02', '2013-07-01', '2017-06-21', '2021-09-07',\n",
       "       '2022-05-16', '2021-12-15', '2021-05-21', '2021-11-04',\n",
       "       '2021-08-28', '2021-09-03', '2014-06-01', '2021-11-23',\n",
       "       '2022-01-30', '2021-10-15', '2021-09-20', '2016-11-01',\n",
       "       '2015-09-01', '2021-09-28', '2022-01-06', '2022-03-06',\n",
       "       '2021-12-04', '2021-09-05', '2013-11-30', '2013-08-31',\n",
       "       '2014-04-01', '2021-06-21', '2021-09-22', '2016-12-01',\n",
       "       '2020-07-22', '2021-09-23', '2021-10-21', '2021-09-10',\n",
       "       '2016-09-27', '2014-11-30', '2016-06-17', '2022-05-06',\n",
       "       '2021-07-13', '2021-08-17', '2021-08-26', '2014-04-04',\n",
       "       '2022-05-17', '2021-05-29', '2014-05-01', '2022-03-18',\n",
       "       '2021-04-11', '2021-09-04', '2022-05-11', '2021-11-05',\n",
       "       '2021-05-01', '2022-04-16', '2014-07-01', '2016-09-09',\n",
       "       '2021-10-12', '2021-11-10', '2022-01-09', '2022-02-13',\n",
       "       '2022-04-19', '2016-04-11', '2022-01-26', '2022-03-11',\n",
       "       '2015-08-22', '2015-05-04', '2015-04-01', '2020-04-08',\n",
       "       '2014-10-01', '2021-12-27', '2014-06-30', '2015-07-15',\n",
       "       '2022-07-10', '2021-05-24', '2021-07-01', '2022-05-09',\n",
       "       '2021-08-19', '2016-08-31', '2021-09-08', '2021-09-18',\n",
       "       '2022-02-19', '2022-06-14', '2021-05-10', '2017-08-03',\n",
       "       '2022-04-25', '2021-08-31', '2022-04-22', '2021-06-28',\n",
       "       '2021-08-23', '2022-03-29', '2022-03-12', '2015-05-15',\n",
       "       '2021-11-28', '2022-04-13', '2017-03-04', '2021-03-20',\n",
       "       '2021-02-01', '2021-10-22', '2021-10-23', '2021-06-15',\n",
       "       '2021-08-29', '2022-02-21', '2021-08-27', '2017-07-01',\n",
       "       '2022-06-02', '2017-02-07', '2021-09-30', '2015-10-01',\n",
       "       '2022-02-08', '2017-03-16', '2016-02-15', '2022-05-14',\n",
       "       '2021-03-17', '2021-12-13', '2021-11-08', '2021-04-29',\n",
       "       '2021-07-15', '2022-06-03', '2021-06-05', '2022-01-16',\n",
       "       '2017-05-03', '2022-07-09', '2021-08-24', '2022-06-21',\n",
       "       '2022-06-20', '2022-07-03', '2022-01-08', '2018-12-13',\n",
       "       '2022-07-11', '2019-04-18', '2022-03-04', '2021-06-29',\n",
       "       '2018-03-26', '2022-02-27', '2022-07-12', '2016-06-30',\n",
       "       '2022-03-08', '2022-07-05', '2021-07-16', '2021-12-29',\n",
       "       '2021-06-01', '2018-05-29', '2021-11-15', '2021-04-17',\n",
       "       '2021-10-28', '2021-11-03', '2021-09-17', '2018-05-11',\n",
       "       '2021-06-26', '2022-05-28', '2022-04-07', '2021-04-24',\n",
       "       '2021-07-07', '2017-02-11', '2017-09-05', '2018-07-07',\n",
       "       '2021-09-27', '2021-07-24', '2018-12-22', '2022-06-26',\n",
       "       '2022-03-22', '2021-02-24', '2021-11-18', '2021-07-22',\n",
       "       '2022-07-13', '2018-07-02', '2021-07-19', '2017-07-02',\n",
       "       '2022-07-06', '2022-02-14', '2021-08-03', '2017-03-01',\n",
       "       '2022-07-23', '2022-02-24', '2018-05-16', '2021-10-24',\n",
       "       '2022-06-13', '2021-05-31', '2021-12-25', '2021-04-03',\n",
       "       '2021-05-12', '2021-05-13', '2021-05-17', '2021-10-18',\n",
       "       '2021-10-08', '2021-10-14', '2022-03-23', '2022-02-09',\n",
       "       '2022-05-26', '2021-09-09', '2017-05-01', '2017-12-08',\n",
       "       '2021-10-09', '2021-06-22', '2021-07-06', '2021-06-16',\n",
       "       '2021-07-11', '2021-05-23', '2018-04-11', '2022-01-27',\n",
       "       '2021-04-26', '2016-11-14', '2021-05-22', '2017-06-01',\n",
       "       '2017-02-01', '2022-02-16', '2021-05-09', '2021-02-06',\n",
       "       '2021-10-11', '2021-06-11', '2021-05-18', '2022-07-22',\n",
       "       '2022-07-02', '2022-06-15', '2022-03-14', '2022-02-25',\n",
       "       '2022-03-10', '2022-02-12', '2018-01-15', '2021-06-25',\n",
       "       '2021-08-14', '2021-04-01', '2021-12-14', '2021-06-30',\n",
       "       '2021-12-11', '2017-11-15', '2021-09-26', '2022-04-23',\n",
       "       '2021-07-12', '2022-06-23', '2021-09-21', '2022-06-28',\n",
       "       '2022-04-17', '2019-05-06', '2017-06-30', '2021-06-19',\n",
       "       '2022-04-08', '2022-04-05', '2021-05-28', '2021-05-25',\n",
       "       '2019-11-02', '2017-04-17', '2022-02-10', '2022-01-25',\n",
       "       '2021-09-13', '2018-04-27', '2021-05-26', '2019-09-05',\n",
       "       '2021-06-09', '2021-04-21', '2022-03-24', '2021-12-09',\n",
       "       '2021-10-20', '2022-01-20', '2021-07-27', '2021-08-12',\n",
       "       '2021-07-30', '2022-02-22', '2022-03-15', '2019-11-20',\n",
       "       '2017-07-31', '2022-02-20', '2021-03-03', '2021-04-10',\n",
       "       '2021-07-20', '2021-12-19', '2022-07-07', '2018-03-28',\n",
       "       '2021-07-08', '2021-08-01', '2018-06-30', '2020-06-29',\n",
       "       '2021-04-23', '2019-11-05', '2022-06-29', '2018-12-01',\n",
       "       '2022-04-18', '2021-08-15', '2022-01-05', '2021-09-15',\n",
       "       '2020-11-20', '2021-06-27', '2021-03-22', '2022-04-20',\n",
       "       '2022-04-12', '2018-04-16', '2021-03-13', '2019-05-10',\n",
       "       '2021-07-26', '2018-05-17', '2021-06-14', '2021-12-21',\n",
       "       '2021-06-17', '2022-01-24', '2022-01-07', '2021-05-04',\n",
       "       '2021-04-19', '2022-07-04', '2021-04-28', '2018-04-17',\n",
       "       '2018-08-07', '2022-01-04', '2019-03-22', '2022-02-06',\n",
       "       '2021-05-16', '2021-06-12', '2019-03-29', '2018-10-09',\n",
       "       '2021-03-09', '2021-04-20', '2022-05-25', '2021-10-25',\n",
       "       '2021-11-02', '2019-03-01', '2021-09-02', '2021-05-07',\n",
       "       '2021-02-03', '2019-05-18', '2022-07-20', '2022-06-22',\n",
       "       '2018-08-16', '2021-05-11', '2022-07-15', '2021-11-22',\n",
       "       '2018-08-29', '2021-04-13', '2021-06-24', '2021-08-20',\n",
       "       '2022-01-28', '2021-04-27', '2020-09-19', '2022-01-03',\n",
       "       '2021-05-15', '2020-10-31', '2019-06-28', '2022-07-27',\n",
       "       '2020-01-09', '2021-08-04', '2018-07-11', '2022-06-24',\n",
       "       '2022-05-22', '2021-08-10', '2021-04-14', '2021-08-13',\n",
       "       '2021-08-22', '2021-11-14', '2021-06-08', '2021-07-29',\n",
       "       '2021-07-05', '2021-04-30', '2021-03-01', '2019-03-21',\n",
       "       '2019-05-05', '2021-08-25', '2019-08-19', '2019-03-06',\n",
       "       '2021-08-16', '2022-03-09', '2022-07-14', '2021-03-26',\n",
       "       '2022-03-31', '2021-12-20', '2021-08-06', '2022-03-25',\n",
       "       '2022-03-30', '2019-02-27', '2021-04-06', '2022-07-24',\n",
       "       '2019-09-01', '2021-03-16', '2019-03-19', '2022-05-27',\n",
       "       '2021-07-04', '2019-10-26', '2021-06-04', '2021-05-27',\n",
       "       '2020-07-15', '2022-02-15', '2022-01-14', '2019-11-01',\n",
       "       '2021-09-12', '2021-07-23', '2022-04-28', '2022-05-10',\n",
       "       '2022-03-21', '2021-06-18', '2021-03-08', '2021-02-08',\n",
       "       '2021-07-09', '2022-05-21', '2022-02-02', '2019-10-01',\n",
       "       '2021-06-03', '2022-04-03', '2021-04-18', '2022-04-11',\n",
       "       '2021-08-30', '2022-05-30', '2021-03-02', '2019-08-31',\n",
       "       '2021-03-27', '2021-06-06', '2021-08-18', '2021-10-29',\n",
       "       '2021-05-30', '2019-12-04', '2022-07-17', '2021-07-28',\n",
       "       '2022-06-16', '2021-06-23', '2021-05-19', '2020-02-29',\n",
       "       '2021-04-22', '2021-03-18', '2022-05-18', '2022-04-21',\n",
       "       '2022-05-19', '2021-04-25', '2022-07-19', '2021-04-12',\n",
       "       '2022-06-10', '2020-01-20', '2020-04-22', '2020-03-01',\n",
       "       '2021-12-23', '2021-08-05', '2022-05-07', '2022-04-26',\n",
       "       '2021-07-18', '2021-04-07', '2022-05-12', '2021-03-30',\n",
       "       '2021-03-06', '2021-04-08', '2022-02-28', '2021-07-21',\n",
       "       '2021-10-05', '2021-02-18', '2022-04-27', '2021-11-21',\n",
       "       '2021-04-15', '2021-07-25', '2022-06-08', '2021-08-09',\n",
       "       '2022-02-07', '2021-02-26', '2022-06-17', '2021-04-16',\n",
       "       '2022-05-03', '2021-03-21', '2021-06-10', '2022-05-08',\n",
       "       '2021-02-22', '2021-10-02', '2021-12-22', '2021-04-09',\n",
       "       '2022-07-08', '2022-04-14', '2021-02-10', '2021-03-23',\n",
       "       '2021-09-06', '2021-03-24', '2021-03-10', '2021-04-05',\n",
       "       '2021-05-14', '2022-06-27', '2022-04-02', '2017-10-21',\n",
       "       '2012-11-01', '2014-03-31', '2013-04-01', '2011-04-12',\n",
       "       '2013-07-31', '2013-09-02', '2012-12-31', '2018-12-26',\n",
       "       '2016-11-02', '2015-03-01', '2016-09-01', '2015-06-01',\n",
       "       '2016-04-21', '2013-05-29', '2014-01-11', '2022-04-29',\n",
       "       '2014-04-19', '2015-04-30', '2018-05-01', '2017-04-01',\n",
       "       '2015-05-01', '2015-05-16', '2016-03-31', '2018-12-28',\n",
       "       '2016-09-24', '2018-09-30', '2020-03-17', '2016-07-01',\n",
       "       '2022-07-18', '2018-03-23', '2018-01-31', '2022-03-02',\n",
       "       '2020-10-23', '2017-06-24', '2018-03-15', '2021-02-11',\n",
       "       '2019-04-01', '2017-11-09', '2018-10-01', '2018-03-10',\n",
       "       '2022-05-13', '2017-09-06', '2016-12-03', '2018-06-26',\n",
       "       '2018-03-31', '2017-04-30', '2021-02-21', '2022-07-26',\n",
       "       '2017-12-28', '2017-03-22', '2022-07-25', '2018-02-28',\n",
       "       '2021-04-02', '2021-11-07', '2019-08-06', '2020-12-20',\n",
       "       '2018-02-09', '2017-09-01', '2021-02-07', '2018-08-28',\n",
       "       '2018-11-20', '2017-11-27', '2017-12-26', '2021-07-14',\n",
       "       '2022-06-30', '2021-02-09', '2021-02-27', '2019-03-16',\n",
       "       '2019-02-16', '2019-04-12', '2022-06-06', '2018-09-09',\n",
       "       '2019-06-19', '2021-06-13', '2021-10-03', '2021-03-28',\n",
       "       '2019-02-15', '2019-02-19', '2019-11-28', '2021-03-25',\n",
       "       '2019-06-26', '2019-03-31', '2021-02-19', '2021-01-15',\n",
       "       '2019-07-02', '2019-06-20', '2021-06-07', '2022-05-29',\n",
       "       '2021-06-20', '2019-08-25', '2019-11-11', '2020-05-31',\n",
       "       '2021-03-12', '2021-08-08', '2020-09-26', '2019-12-03',\n",
       "       '2021-02-25', '2020-01-14', '2020-05-16', '2021-03-04',\n",
       "       '2021-03-19', '2021-12-24', '2021-03-14', '2021-05-06',\n",
       "       '2020-09-05', '2021-03-11', '2022-03-07', '2021-05-03',\n",
       "       '2021-03-31', '2021-10-07', '2021-02-02', '2020-10-17',\n",
       "       '2021-10-04', '2022-03-03', '2021-05-02', '2021-02-05',\n",
       "       '2010-06-18', '2016-07-09', '2011-03-15', '2020-03-06',\n",
       "       '2013-12-01', '2013-12-31', '2013-04-30', '2021-01-30',\n",
       "       '2015-06-30', '2015-11-01', '2015-08-15', '2017-09-07',\n",
       "       '2016-11-04', '2020-01-01', '2021-02-04', '2017-04-18',\n",
       "       '2017-05-31', '2017-06-08', '2019-09-16', '2019-05-28',\n",
       "       '2022-06-07', '2018-09-06', '2019-06-18', '2018-04-01',\n",
       "       '2019-10-13', '2018-05-31', '2022-05-24', '2021-04-04',\n",
       "       '2020-07-11', '2019-01-19', '2019-09-07', '2019-08-10',\n",
       "       '2021-02-28', '2022-04-15', '2020-03-02', '2021-01-27',\n",
       "       '2021-02-16', '2022-04-06', '2020-05-29', '2022-04-04',\n",
       "       '2021-02-23', '2021-03-05', '2020-05-01', '2020-06-28',\n",
       "       '2020-11-21', '2021-02-20', '2021-05-05', '2015-07-01',\n",
       "       '2012-01-31', '2020-07-09', '2018-06-14', '2017-01-13',\n",
       "       '2022-06-04', '2018-04-13', '2017-04-14', '2018-07-21',\n",
       "       '2019-03-20', '2019-03-28', '2022-03-13', '2019-11-30',\n",
       "       '2021-03-07', '2022-06-19', '2021-12-05', '2020-11-28',\n",
       "       '2022-01-02', '2013-12-05', '2022-04-24', '2022-05-02',\n",
       "       '2018-04-14', '2019-10-28', '2022-06-09', '2020-06-25',\n",
       "       '2022-03-27', '2014-08-31', '2018-01-11', '2022-02-05',\n",
       "       '2018-11-27', '2018-08-25', '2020-02-24', '2022-05-15',\n",
       "       '2014-12-01', '2016-03-01', '2015-05-25', '2018-11-24',\n",
       "       '2019-03-12', '2021-10-06', '2022-03-28', '2022-04-10',\n",
       "       '2017-05-05', '2018-03-30', '2018-01-26', '2019-04-20',\n",
       "       '2015-02-01', '2016-08-27', '2019-05-04', '2015-12-31',\n",
       "       '2019-08-09', '2019-12-28', '2021-02-17', '2018-12-18',\n",
       "       '2021-02-12', '2019-09-30', '2021-03-15', '2021-01-02',\n",
       "       '2021-02-13', '2020-11-15', '2020-04-01', '2019-10-24',\n",
       "       '2018-06-01', '2021-01-31', '2020-05-30', '2017-09-09',\n",
       "       '2020-02-15', '2020-03-21', '2020-04-11', '2020-10-21',\n",
       "       '2019-06-21', '2021-01-11', '2019-08-17', '2022-05-05',\n",
       "       '2020-04-04', '2020-07-04', '2021-01-23'], dtype=object)"
      ]
     },
     "execution_count": 5,
     "metadata": {},
     "output_type": "execute_result"
    }
   ],
   "source": [
    "fin_data['最新离职生效时间'].unique()"
   ]
  },
  {
   "cell_type": "code",
   "execution_count": 6,
   "id": "37b5c2d8",
   "metadata": {
    "ExecuteTime": {
     "end_time": "2023-03-18T08:12:25.069981Z",
     "start_time": "2023-03-18T08:12:25.011973Z"
    }
   },
   "outputs": [
    {
     "data": {
      "text/plain": [
       "array(['2019-01-28', '2004-05-01', '2004-07-01', ..., '2022-02-25',\n",
       "       '2022-02-10', '2022-02-14'], dtype=object)"
      ]
     },
     "execution_count": 6,
     "metadata": {},
     "output_type": "execute_result"
    }
   ],
   "source": [
    "fin_data['最近一次入职时间'].unique()"
   ]
  },
  {
   "cell_type": "markdown",
   "id": "7659622b",
   "metadata": {},
   "source": [
    "## 特征选择和数据合并"
   ]
  },
  {
   "cell_type": "markdown",
   "id": "fae9ad50",
   "metadata": {
    "ExecuteTime": {
     "end_time": "2023-03-16T10:35:26.448030Z",
     "start_time": "2023-03-16T10:35:26.436051Z"
    }
   },
   "source": [
    "结合理论筛选出相关特征  \n",
    "\n",
    "相关特征：工号、消息发送、消息接收、在线文档查阅总数、在线文档编辑总数、在线文档评论总数、在线文档收藏总数、周报阅读总数、周报点赞总数、知音楼日均在线、请假总天数、音视频会议参与总时长\n",
    "\n",
    "时间：最新离职生效时间、最近一次入职时间\n",
    "\n",
    "预测：最近一次绩效"
   ]
  },
  {
   "cell_type": "code",
   "execution_count": 5,
   "id": "48979eca",
   "metadata": {
    "ExecuteTime": {
     "end_time": "2023-03-17T10:30:10.894143Z",
     "start_time": "2023-03-17T10:30:10.831154Z"
    }
   },
   "outputs": [
    {
     "data": {
      "text/html": [
       "<div>\n",
       "<style scoped>\n",
       "    .dataframe tbody tr th:only-of-type {\n",
       "        vertical-align: middle;\n",
       "    }\n",
       "\n",
       "    .dataframe tbody tr th {\n",
       "        vertical-align: top;\n",
       "    }\n",
       "\n",
       "    .dataframe thead th {\n",
       "        text-align: right;\n",
       "    }\n",
       "</style>\n",
       "<table border=\"1\" class=\"dataframe\">\n",
       "  <thead>\n",
       "    <tr style=\"text-align: right;\">\n",
       "      <th></th>\n",
       "      <th>工号</th>\n",
       "      <th>消息发送</th>\n",
       "      <th>消息接收</th>\n",
       "      <th>在线文档查阅总数</th>\n",
       "      <th>在线文档编辑总数</th>\n",
       "      <th>在线文档评论总数</th>\n",
       "      <th>在线文档收藏总数</th>\n",
       "      <th>周报阅读总数</th>\n",
       "      <th>周报点赞总数</th>\n",
       "      <th>知音楼日均在线</th>\n",
       "      <th>请假总天数</th>\n",
       "      <th>音视频会议参与总时长</th>\n",
       "      <th>最近一次绩效</th>\n",
       "    </tr>\n",
       "  </thead>\n",
       "  <tbody>\n",
       "    <tr>\n",
       "      <th>0</th>\n",
       "      <td>ad621a23bd5c2474c1fe0909a8a38bb5fcccd382e855f9...</td>\n",
       "      <td>114.0</td>\n",
       "      <td>166.20</td>\n",
       "      <td>4.000000</td>\n",
       "      <td>0.000000</td>\n",
       "      <td>0.0</td>\n",
       "      <td>0.0</td>\n",
       "      <td>1.000000</td>\n",
       "      <td>0.000000</td>\n",
       "      <td>1.18</td>\n",
       "      <td>0.0</td>\n",
       "      <td>0.000000</td>\n",
       "      <td>3</td>\n",
       "    </tr>\n",
       "    <tr>\n",
       "      <th>1</th>\n",
       "      <td>4250041a2c9a323864ef0d88195fa1d5a71aa837f78f7f...</td>\n",
       "      <td>214.0</td>\n",
       "      <td>227.10</td>\n",
       "      <td>7.000000</td>\n",
       "      <td>0.000000</td>\n",
       "      <td>0.0</td>\n",
       "      <td>0.0</td>\n",
       "      <td>16.000000</td>\n",
       "      <td>0.208125</td>\n",
       "      <td>3.99</td>\n",
       "      <td>0.0</td>\n",
       "      <td>0.000000</td>\n",
       "      <td>3</td>\n",
       "    </tr>\n",
       "    <tr>\n",
       "      <th>2</th>\n",
       "      <td>4250041a2c9a323864ef0d88195fa1d5a71aa837f78f7f...</td>\n",
       "      <td>71.0</td>\n",
       "      <td>107.50</td>\n",
       "      <td>8.000000</td>\n",
       "      <td>0.251596</td>\n",
       "      <td>0.0</td>\n",
       "      <td>0.0</td>\n",
       "      <td>13.000000</td>\n",
       "      <td>0.000000</td>\n",
       "      <td>2.94</td>\n",
       "      <td>0.0</td>\n",
       "      <td>0.510000</td>\n",
       "      <td>3</td>\n",
       "    </tr>\n",
       "    <tr>\n",
       "      <th>3</th>\n",
       "      <td>4250041a2c9a323864ef0d88195fa1d5a71aa837f78f7f...</td>\n",
       "      <td>56.0</td>\n",
       "      <td>78.00</td>\n",
       "      <td>0.000000</td>\n",
       "      <td>0.000000</td>\n",
       "      <td>0.0</td>\n",
       "      <td>0.0</td>\n",
       "      <td>1.000000</td>\n",
       "      <td>0.000000</td>\n",
       "      <td>1.92</td>\n",
       "      <td>0.0</td>\n",
       "      <td>0.000000</td>\n",
       "      <td>3</td>\n",
       "    </tr>\n",
       "    <tr>\n",
       "      <th>4</th>\n",
       "      <td>29a4ee71e3c86f7f4c1e73313529a5a01b378e9a088948...</td>\n",
       "      <td>37.0</td>\n",
       "      <td>62.16</td>\n",
       "      <td>3.294365</td>\n",
       "      <td>2.000000</td>\n",
       "      <td>0.0</td>\n",
       "      <td>0.0</td>\n",
       "      <td>4.391139</td>\n",
       "      <td>0.208125</td>\n",
       "      <td>2.93</td>\n",
       "      <td>0.0</td>\n",
       "      <td>0.405269</td>\n",
       "      <td>3</td>\n",
       "    </tr>\n",
       "  </tbody>\n",
       "</table>\n",
       "</div>"
      ],
      "text/plain": [
       "                                                  工号   消息发送    消息接收  在线文档查阅总数  \\\n",
       "0  ad621a23bd5c2474c1fe0909a8a38bb5fcccd382e855f9...  114.0  166.20  4.000000   \n",
       "1  4250041a2c9a323864ef0d88195fa1d5a71aa837f78f7f...  214.0  227.10  7.000000   \n",
       "2  4250041a2c9a323864ef0d88195fa1d5a71aa837f78f7f...   71.0  107.50  8.000000   \n",
       "3  4250041a2c9a323864ef0d88195fa1d5a71aa837f78f7f...   56.0   78.00  0.000000   \n",
       "4  29a4ee71e3c86f7f4c1e73313529a5a01b378e9a088948...   37.0   62.16  3.294365   \n",
       "\n",
       "   在线文档编辑总数  在线文档评论总数  在线文档收藏总数     周报阅读总数    周报点赞总数  知音楼日均在线  请假总天数  \\\n",
       "0  0.000000       0.0       0.0   1.000000  0.000000     1.18    0.0   \n",
       "1  0.000000       0.0       0.0  16.000000  0.208125     3.99    0.0   \n",
       "2  0.251596       0.0       0.0  13.000000  0.000000     2.94    0.0   \n",
       "3  0.000000       0.0       0.0   1.000000  0.000000     1.92    0.0   \n",
       "4  2.000000       0.0       0.0   4.391139  0.208125     2.93    0.0   \n",
       "\n",
       "   音视频会议参与总时长  最近一次绩效  \n",
       "0    0.000000       3  \n",
       "1    0.000000       3  \n",
       "2    0.510000       3  \n",
       "3    0.000000       3  \n",
       "4    0.405269       3  "
      ]
     },
     "execution_count": 5,
     "metadata": {},
     "output_type": "execute_result"
    }
   ],
   "source": [
    "use_data=fin_data[['工号','消息发送','消息接收','在线文档查阅总数','在线文档编辑总数','在线文档评论总数','在线文档收藏总数','周报阅读总数','周报点赞总数','知音楼日均在线','请假总天数','音视频会议参与总时长','最近一次绩效']]\n",
    "use_data.head()"
   ]
  },
  {
   "cell_type": "code",
   "execution_count": 22,
   "id": "47fec202",
   "metadata": {
    "ExecuteTime": {
     "end_time": "2023-03-18T09:07:14.654583Z",
     "start_time": "2023-03-18T08:49:26.599497Z"
    }
   },
   "outputs": [
    {
     "name": "stderr",
     "output_type": "stream",
     "text": [
      "100%|████████████████████████████████████████████████████████████████████████████| 25775/25775 [17:47<00:00, 24.15it/s]\n"
     ]
    }
   ],
   "source": [
    "d = {}\n",
    "employee = fin_data['工号'].unique().tolist()\n",
    "for id in tqdm.tqdm(employee):\n",
    "    data_sample=fin_data[fin_data['工号']==id].reset_index(drop=True)\n",
    "\n",
    "    xxfs=data_sample['消息发送'].sum()#消息发送\n",
    "    xxjs=data_sample['消息接收'].sum()#消息接收\n",
    "    zxwdcyzs=data_sample['在线文档查阅总数'].sum()#在线文档查阅总数\n",
    "    zxwdbjzs=data_sample['在线文档编辑总数'].sum()#在线文档编辑总数\n",
    "    zxwdplzs=data_sample['在线文档评论总数'].sum()#在线文档评论总数\n",
    "    zxwdsczs=data_sample['在线文档收藏总数'].sum()#在线文档收藏总数\n",
    "    zbydzs=data_sample['周报阅读总数'].sum()#周报阅读总数\n",
    "    zbdzzs=data_sample['周报点赞总数'].sum()#周报点赞总数\n",
    "    zylrjzx=data_sample['知音楼日均在线'].sum()#知音楼日均在线\n",
    "    qjzts=data_sample['请假总天数'].sum()#请假总天数\n",
    "    ysphycysc=data_sample['音视频会议参与总时长'].sum()#音视频会议参与总时长\n",
    "    zjycjx=data_sample['最近一次绩效'][0]#最近一次绩效\n",
    "    \n",
    "    d[id]=[xxfs,xxjs,zxwdcyzs,zxwdbjzs,zxwdplzs,\n",
    "           zxwdsczs,zbydzs,zbdzzs,zylrjzx,qjzts,ysphycysc,zjycjx]\n",
    "    \n",
    "use_data=pd.DataFrame.from_dict(d).T.reset_index()\n",
    "# use_data.colums=['工号','消息发送','消息接收','在线文档查阅总数','在线文档编辑总数','在线文档评论总数','在线文档收藏总数',\n",
    "#                  '周报阅读总数','周报点赞总数','知音楼日均在线','请假总天数','音视频会议参与总时长','最近一次绩效']\n",
    "use_data.columns=['id','xxfs','xxjs','zxwdcyzs','zxwdbjzs','zxwdplzs',\n",
    "           'zxwdsczs','zbydzs','zbdzzs','zylrjzx','qjzts','ysphycysc','zjycjx']\n"
   ]
  },
  {
   "cell_type": "code",
   "execution_count": 4,
   "id": "599c63b1",
   "metadata": {
    "ExecuteTime": {
     "end_time": "2023-03-18T12:17:49.765808Z",
     "start_time": "2023-03-18T12:17:49.690801Z"
    }
   },
   "outputs": [],
   "source": [
    "#use_data.to_csv('use_data.csv')\n",
    "use_data=pd.read_csv('use_data.csv')\n",
    "use_data=use_data.drop(columns='Unnamed: 0')"
   ]
  },
  {
   "cell_type": "markdown",
   "id": "cb203961",
   "metadata": {},
   "source": [
    "## 变量分析"
   ]
  },
  {
   "cell_type": "code",
   "execution_count": 5,
   "id": "4ae9fef0",
   "metadata": {
    "ExecuteTime": {
     "end_time": "2023-03-18T12:17:50.854766Z",
     "start_time": "2023-03-18T12:17:50.840684Z"
    }
   },
   "outputs": [
    {
     "data": {
      "text/html": [
       "<div>\n",
       "<style scoped>\n",
       "    .dataframe tbody tr th:only-of-type {\n",
       "        vertical-align: middle;\n",
       "    }\n",
       "\n",
       "    .dataframe tbody tr th {\n",
       "        vertical-align: top;\n",
       "    }\n",
       "\n",
       "    .dataframe thead th {\n",
       "        text-align: right;\n",
       "    }\n",
       "</style>\n",
       "<table border=\"1\" class=\"dataframe\">\n",
       "  <thead>\n",
       "    <tr style=\"text-align: right;\">\n",
       "      <th></th>\n",
       "      <th>id</th>\n",
       "      <th>xxfs</th>\n",
       "      <th>xxjs</th>\n",
       "      <th>zxwdcyzs</th>\n",
       "      <th>zxwdbjzs</th>\n",
       "      <th>zxwdplzs</th>\n",
       "      <th>zxwdsczs</th>\n",
       "      <th>zbydzs</th>\n",
       "      <th>zbdzzs</th>\n",
       "      <th>zylrjzx</th>\n",
       "      <th>qjzts</th>\n",
       "      <th>ysphycysc</th>\n",
       "      <th>zjycjx</th>\n",
       "    </tr>\n",
       "  </thead>\n",
       "  <tbody>\n",
       "    <tr>\n",
       "      <th>0</th>\n",
       "      <td>ad621a23bd5c2474c1fe0909a8a38bb5fcccd382e855f9...</td>\n",
       "      <td>9540.000000</td>\n",
       "      <td>11929.90</td>\n",
       "      <td>334.649286</td>\n",
       "      <td>25.773943</td>\n",
       "      <td>0.0</td>\n",
       "      <td>0.0</td>\n",
       "      <td>292.254405</td>\n",
       "      <td>18.116857</td>\n",
       "      <td>181.9200</td>\n",
       "      <td>0.0</td>\n",
       "      <td>24.627423</td>\n",
       "      <td>3.0</td>\n",
       "    </tr>\n",
       "    <tr>\n",
       "      <th>1</th>\n",
       "      <td>4250041a2c9a323864ef0d88195fa1d5a71aa837f78f7f...</td>\n",
       "      <td>5395.000000</td>\n",
       "      <td>6432.28</td>\n",
       "      <td>206.294365</td>\n",
       "      <td>16.257981</td>\n",
       "      <td>0.0</td>\n",
       "      <td>0.0</td>\n",
       "      <td>229.391139</td>\n",
       "      <td>14.248747</td>\n",
       "      <td>121.6700</td>\n",
       "      <td>0.0</td>\n",
       "      <td>34.090000</td>\n",
       "      <td>3.0</td>\n",
       "    </tr>\n",
       "    <tr>\n",
       "      <th>2</th>\n",
       "      <td>29a4ee71e3c86f7f4c1e73313529a5a01b378e9a088948...</td>\n",
       "      <td>7299.000000</td>\n",
       "      <td>11677.74</td>\n",
       "      <td>593.363335</td>\n",
       "      <td>50.083004</td>\n",
       "      <td>0.0</td>\n",
       "      <td>0.0</td>\n",
       "      <td>507.077177</td>\n",
       "      <td>21.817464</td>\n",
       "      <td>295.7200</td>\n",
       "      <td>0.0</td>\n",
       "      <td>57.961425</td>\n",
       "      <td>3.0</td>\n",
       "    </tr>\n",
       "    <tr>\n",
       "      <th>3</th>\n",
       "      <td>f749b472bc1a8caacdbbf2bee8ec399c0ab28d16789bc0...</td>\n",
       "      <td>19115.000000</td>\n",
       "      <td>14937.20</td>\n",
       "      <td>355.887303</td>\n",
       "      <td>29.038310</td>\n",
       "      <td>0.0</td>\n",
       "      <td>0.0</td>\n",
       "      <td>172.000000</td>\n",
       "      <td>0.000000</td>\n",
       "      <td>196.0000</td>\n",
       "      <td>0.0</td>\n",
       "      <td>39.170655</td>\n",
       "      <td>4.0</td>\n",
       "    </tr>\n",
       "    <tr>\n",
       "      <th>4</th>\n",
       "      <td>a68bae7b7d276c6a4fa700e3572999947fd3d7f2129bf8...</td>\n",
       "      <td>31206.187183</td>\n",
       "      <td>28537.96</td>\n",
       "      <td>428.943651</td>\n",
       "      <td>54.515962</td>\n",
       "      <td>0.0</td>\n",
       "      <td>0.0</td>\n",
       "      <td>531.343019</td>\n",
       "      <td>37.446849</td>\n",
       "      <td>306.3778</td>\n",
       "      <td>0.0</td>\n",
       "      <td>42.609925</td>\n",
       "      <td>3.0</td>\n",
       "    </tr>\n",
       "    <tr>\n",
       "      <th>...</th>\n",
       "      <td>...</td>\n",
       "      <td>...</td>\n",
       "      <td>...</td>\n",
       "      <td>...</td>\n",
       "      <td>...</td>\n",
       "      <td>...</td>\n",
       "      <td>...</td>\n",
       "      <td>...</td>\n",
       "      <td>...</td>\n",
       "      <td>...</td>\n",
       "      <td>...</td>\n",
       "      <td>...</td>\n",
       "      <td>...</td>\n",
       "    </tr>\n",
       "    <tr>\n",
       "      <th>25770</th>\n",
       "      <td>02080fa7d61ef50a83c3a930aeed5296352bfe6a4699bf...</td>\n",
       "      <td>170.000000</td>\n",
       "      <td>229.60</td>\n",
       "      <td>4.000000</td>\n",
       "      <td>0.000000</td>\n",
       "      <td>0.0</td>\n",
       "      <td>0.0</td>\n",
       "      <td>1.000000</td>\n",
       "      <td>0.000000</td>\n",
       "      <td>2.7400</td>\n",
       "      <td>0.0</td>\n",
       "      <td>0.000000</td>\n",
       "      <td>3.0</td>\n",
       "    </tr>\n",
       "    <tr>\n",
       "      <th>25771</th>\n",
       "      <td>4b8c6c3e8b893c7120c56ec027dc1013852d76227299cb...</td>\n",
       "      <td>620.000000</td>\n",
       "      <td>614.00</td>\n",
       "      <td>3.294365</td>\n",
       "      <td>0.251596</td>\n",
       "      <td>0.0</td>\n",
       "      <td>0.0</td>\n",
       "      <td>1.000000</td>\n",
       "      <td>0.000000</td>\n",
       "      <td>5.9300</td>\n",
       "      <td>0.0</td>\n",
       "      <td>1.890000</td>\n",
       "      <td>3.0</td>\n",
       "    </tr>\n",
       "    <tr>\n",
       "      <th>25772</th>\n",
       "      <td>760caf836b9d4a48522536e2812387576b302afa018d14...</td>\n",
       "      <td>470.000000</td>\n",
       "      <td>315.20</td>\n",
       "      <td>6.000000</td>\n",
       "      <td>1.000000</td>\n",
       "      <td>0.0</td>\n",
       "      <td>0.0</td>\n",
       "      <td>0.000000</td>\n",
       "      <td>0.000000</td>\n",
       "      <td>3.2400</td>\n",
       "      <td>0.0</td>\n",
       "      <td>0.000000</td>\n",
       "      <td>3.0</td>\n",
       "    </tr>\n",
       "    <tr>\n",
       "      <th>25773</th>\n",
       "      <td>f5f5d07156ef7bf5615de7552af0524ed630b663b1dac5...</td>\n",
       "      <td>118.000000</td>\n",
       "      <td>170.50</td>\n",
       "      <td>4.000000</td>\n",
       "      <td>0.000000</td>\n",
       "      <td>0.0</td>\n",
       "      <td>0.0</td>\n",
       "      <td>0.000000</td>\n",
       "      <td>0.000000</td>\n",
       "      <td>3.7900</td>\n",
       "      <td>0.0</td>\n",
       "      <td>0.490000</td>\n",
       "      <td>3.0</td>\n",
       "    </tr>\n",
       "    <tr>\n",
       "      <th>25774</th>\n",
       "      <td>d2776b29ec2c216079cac97fe941cc8c312899e8a18440...</td>\n",
       "      <td>90.000000</td>\n",
       "      <td>88.80</td>\n",
       "      <td>1.000000</td>\n",
       "      <td>0.000000</td>\n",
       "      <td>0.0</td>\n",
       "      <td>0.0</td>\n",
       "      <td>1.000000</td>\n",
       "      <td>0.000000</td>\n",
       "      <td>1.7400</td>\n",
       "      <td>0.0</td>\n",
       "      <td>0.570000</td>\n",
       "      <td>3.0</td>\n",
       "    </tr>\n",
       "  </tbody>\n",
       "</table>\n",
       "<p>25775 rows × 13 columns</p>\n",
       "</div>"
      ],
      "text/plain": [
       "                                                      id          xxfs  \\\n",
       "0      ad621a23bd5c2474c1fe0909a8a38bb5fcccd382e855f9...   9540.000000   \n",
       "1      4250041a2c9a323864ef0d88195fa1d5a71aa837f78f7f...   5395.000000   \n",
       "2      29a4ee71e3c86f7f4c1e73313529a5a01b378e9a088948...   7299.000000   \n",
       "3      f749b472bc1a8caacdbbf2bee8ec399c0ab28d16789bc0...  19115.000000   \n",
       "4      a68bae7b7d276c6a4fa700e3572999947fd3d7f2129bf8...  31206.187183   \n",
       "...                                                  ...           ...   \n",
       "25770  02080fa7d61ef50a83c3a930aeed5296352bfe6a4699bf...    170.000000   \n",
       "25771  4b8c6c3e8b893c7120c56ec027dc1013852d76227299cb...    620.000000   \n",
       "25772  760caf836b9d4a48522536e2812387576b302afa018d14...    470.000000   \n",
       "25773  f5f5d07156ef7bf5615de7552af0524ed630b663b1dac5...    118.000000   \n",
       "25774  d2776b29ec2c216079cac97fe941cc8c312899e8a18440...     90.000000   \n",
       "\n",
       "           xxjs    zxwdcyzs   zxwdbjzs  zxwdplzs  zxwdsczs      zbydzs  \\\n",
       "0      11929.90  334.649286  25.773943       0.0       0.0  292.254405   \n",
       "1       6432.28  206.294365  16.257981       0.0       0.0  229.391139   \n",
       "2      11677.74  593.363335  50.083004       0.0       0.0  507.077177   \n",
       "3      14937.20  355.887303  29.038310       0.0       0.0  172.000000   \n",
       "4      28537.96  428.943651  54.515962       0.0       0.0  531.343019   \n",
       "...         ...         ...        ...       ...       ...         ...   \n",
       "25770    229.60    4.000000   0.000000       0.0       0.0    1.000000   \n",
       "25771    614.00    3.294365   0.251596       0.0       0.0    1.000000   \n",
       "25772    315.20    6.000000   1.000000       0.0       0.0    0.000000   \n",
       "25773    170.50    4.000000   0.000000       0.0       0.0    0.000000   \n",
       "25774     88.80    1.000000   0.000000       0.0       0.0    1.000000   \n",
       "\n",
       "          zbdzzs   zylrjzx  qjzts  ysphycysc  zjycjx  \n",
       "0      18.116857  181.9200    0.0  24.627423     3.0  \n",
       "1      14.248747  121.6700    0.0  34.090000     3.0  \n",
       "2      21.817464  295.7200    0.0  57.961425     3.0  \n",
       "3       0.000000  196.0000    0.0  39.170655     4.0  \n",
       "4      37.446849  306.3778    0.0  42.609925     3.0  \n",
       "...          ...       ...    ...        ...     ...  \n",
       "25770   0.000000    2.7400    0.0   0.000000     3.0  \n",
       "25771   0.000000    5.9300    0.0   1.890000     3.0  \n",
       "25772   0.000000    3.2400    0.0   0.000000     3.0  \n",
       "25773   0.000000    3.7900    0.0   0.490000     3.0  \n",
       "25774   0.000000    1.7400    0.0   0.570000     3.0  \n",
       "\n",
       "[25775 rows x 13 columns]"
      ]
     },
     "execution_count": 5,
     "metadata": {},
     "output_type": "execute_result"
    }
   ],
   "source": [
    "use_data"
   ]
  },
  {
   "cell_type": "markdown",
   "id": "287d5751",
   "metadata": {},
   "source": [
    "### 消息发送"
   ]
  },
  {
   "cell_type": "code",
   "execution_count": 26,
   "id": "d718c95c",
   "metadata": {
    "ExecuteTime": {
     "end_time": "2023-03-18T09:07:32.365088Z",
     "start_time": "2023-03-18T09:07:32.268097Z"
    }
   },
   "outputs": [
    {
     "data": {
      "image/png": "[encoded data removed]",
      "text/plain": [
       "<Figure size 640x480 with 1 Axes>"
      ]
     },
     "metadata": {},
     "output_type": "display_data"
    }
   ],
   "source": [
    "fig = plt.figure()\n",
    "view = plt.boxplot(use_data['xxfs'])\n",
    "plt.show()"
   ]
  },
  {
   "cell_type": "code",
   "execution_count": null,
   "id": "f1f837f3",
   "metadata": {
    "ExecuteTime": {
     "end_time": "2023-03-16T10:20:17.254507Z",
     "start_time": "2023-03-16T10:20:16.206434Z"
    },
    "scrolled": false
   },
   "outputs": [],
   "source": []
  },
  {
   "cell_type": "code",
   "execution_count": null,
   "id": "e9ac4273",
   "metadata": {},
   "outputs": [],
   "source": []
  },
  {
   "cell_type": "code",
   "execution_count": null,
   "id": "ab4aa6ca",
   "metadata": {},
   "outputs": [],
   "source": []
  },
  {
   "cell_type": "code",
   "execution_count": null,
   "id": "e2cc9432",
   "metadata": {},
   "outputs": [],
   "source": []
  },
  {
   "cell_type": "code",
   "execution_count": null,
   "id": "baf442f6",
   "metadata": {},
   "outputs": [],
   "source": []
  },
  {
   "cell_type": "code",
   "execution_count": null,
   "id": "4ff02cd8",
   "metadata": {},
   "outputs": [],
   "source": []
  },
  {
   "cell_type": "markdown",
   "id": "10854a38",
   "metadata": {
    "ExecuteTime": {
     "end_time": "2023-03-14T10:06:56.670603Z",
     "start_time": "2023-03-14T10:06:56.658606Z"
    }
   },
   "source": [
    "# 模型训练"
   ]
  },
  {
   "cell_type": "code",
   "execution_count": 13,
   "id": "2826d38c",
   "metadata": {
    "ExecuteTime": {
     "end_time": "2023-03-18T12:21:02.676084Z",
     "start_time": "2023-03-18T12:21:02.670156Z"
    }
   },
   "outputs": [],
   "source": [
    "employee_id=use_data['id']\n",
    "use_data=use_data.drop(columns='id')"
   ]
  },
  {
   "cell_type": "markdown",
   "id": "0c9ae48a",
   "metadata": {},
   "source": [
    "## 训练集测试集划分"
   ]
  },
  {
   "cell_type": "code",
   "execution_count": 14,
   "id": "f7342ede",
   "metadata": {
    "ExecuteTime": {
     "end_time": "2023-03-18T12:21:03.803067Z",
     "start_time": "2023-03-18T12:21:03.783202Z"
    }
   },
   "outputs": [],
   "source": [
    "from sklearn.model_selection import train_test_split\n",
    "\n",
    "train_set,test_set=train_test_split(use_data,test_size=0.2,random_state=42)\n",
    "xtrain=train_set.drop(['zjycjx'],axis=1,inplace=False)\n",
    "ytrain=train_set['zjycjx']\n",
    "xtest=test_set.drop(['zjycjx'],axis=1,inplace=False)\n",
    "ytest=test_set['zjycjx']"
   ]
  },
  {
   "cell_type": "markdown",
   "id": "89f2abb9",
   "metadata": {},
   "source": [
    "## 模型训练"
   ]
  },
  {
   "cell_type": "code",
   "execution_count": 15,
   "id": "68ee3cc5",
   "metadata": {
    "ExecuteTime": {
     "end_time": "2023-03-18T12:21:04.570531Z",
     "start_time": "2023-03-18T12:21:04.551531Z"
    }
   },
   "outputs": [],
   "source": [
    "from xgboost import plot_importance\n",
    "import xgboost as xgb\n",
    "from sklearn.metrics import accuracy_score"
   ]
  },
  {
   "cell_type": "code",
   "execution_count": 34,
   "id": "553787e5",
   "metadata": {
    "ExecuteTime": {
     "end_time": "2023-03-18T12:23:25.541317Z",
     "start_time": "2023-03-18T12:23:25.273319Z"
    }
   },
   "outputs": [
    {
     "name": "stdout",
     "output_type": "stream",
     "text": [
      "Accuracy: 40.37%\n"
     ]
    }
   ],
   "source": [
    "params ={'learning_rate': 0.2,\n",
    "          'max_depth': 5,                # 构建树的深度，越大越容易过拟合\n",
    "\n",
    "          'objective': 'multi:softprob', # 多分类的问题\n",
    "          'random_state': 7,\n",
    "\n",
    "          'num_class':7,                 # 类别数\n",
    "          'eta':0.8                      #为了防止过拟合，更新过程中用到的收缩步长。eta通过缩减特征 的权重使提升计算过程更加保守。缺省值为0.3，取值范围为：[0,1]\n",
    "        }\n",
    "model = xgb.train(params,xgb.DMatrix(xtrain,ytrain))\n",
    "y_pred=model.predict(xgb.DMatrix(xtest))\n",
    "\n",
    "yprob = np.argmax(y_pred, axis=1)  # return the index of the biggest pro\n",
    "\n",
    "predictions = [round(value) for value in yprob]\n",
    "\n",
    "# evaluate predictions\n",
    "accuracy = accuracy_score(ytest, predictions)\n",
    "print(\"Accuracy: %.2f%%\" % (accuracy * 100.0))\n"
   ]
  },
  {
   "cell_type": "code",
   "execution_count": null,
   "id": "31b37f7d",
   "metadata": {},
   "outputs": [],
   "source": []
  }
 ],
 "metadata": {
  "kernelspec": {
   "display_name": "Python 3 (ipykernel)",
   "language": "python",
   "name": "python3"
  },
  "language_info": {
   "codemirror_mode": {
    "name": "ipython",
    "version": 3
   },
   "file_extension": ".py",
   "mimetype": "text/x-python",
   "name": "python",
   "nbconvert_exporter": "python",
   "pygments_lexer": "ipython3",
   "version": "3.9.15"
  },
  "toc": {
   "base_numbering": 1,
   "nav_menu": {},
   "number_sections": true,
   "sideBar": true,
   "skip_h1_title": false,
   "title_cell": "Table of Contents",
   "title_sidebar": "Contents",
   "toc_cell": false,
   "toc_position": {
    "height": "calc(100% - 180px)",
    "left": "10px",
    "top": "150px",
    "width": "194.788px"
   },
   "toc_section_display": true,
   "toc_window_display": false
  }
 },
 "nbformat": 4,
 "nbformat_minor": 5
}
